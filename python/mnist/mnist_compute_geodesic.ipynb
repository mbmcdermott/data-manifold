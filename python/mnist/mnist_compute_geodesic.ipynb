{
 "cells": [
  {
   "cell_type": "code",
   "execution_count": 1,
   "metadata": {},
   "outputs": [],
   "source": [
    "from tensorflow.examples.tutorials.mnist import input_data\n",
    "import tensorflow as tf\n",
    "import matplotlib.pyplot as plt\n",
    "import numpy as np"
   ]
  },
  {
   "cell_type": "code",
   "execution_count": 2,
   "metadata": {},
   "outputs": [],
   "source": [
    "import scipy.integrate as integrate"
   ]
  },
  {
   "cell_type": "code",
   "execution_count": 3,
   "metadata": {},
   "outputs": [
    {
     "name": "stdout",
     "output_type": "stream",
     "text": [
      "WARNING:tensorflow:From <ipython-input-3-71e12f4bac70>:1: read_data_sets (from tensorflow.contrib.learn.python.learn.datasets.mnist) is deprecated and will be removed in a future version.\n",
      "Instructions for updating:\n",
      "Please use alternatives such as official/mnist/dataset.py from tensorflow/models.\n",
      "WARNING:tensorflow:From /Users/michaelmcdermott/.local/share/virtualenvs/python-_2MbXz7b/lib/python3.6/site-packages/tensorflow/contrib/learn/python/learn/datasets/mnist.py:260: maybe_download (from tensorflow.contrib.learn.python.learn.datasets.base) is deprecated and will be removed in a future version.\n",
      "Instructions for updating:\n",
      "Please write your own downloading logic.\n",
      "WARNING:tensorflow:From /Users/michaelmcdermott/.local/share/virtualenvs/python-_2MbXz7b/lib/python3.6/site-packages/tensorflow/contrib/learn/python/learn/datasets/mnist.py:262: extract_images (from tensorflow.contrib.learn.python.learn.datasets.mnist) is deprecated and will be removed in a future version.\n",
      "Instructions for updating:\n",
      "Please use tf.data to implement this functionality.\n",
      "Extracting MNIST_data/train-images-idx3-ubyte.gz\n",
      "WARNING:tensorflow:From /Users/michaelmcdermott/.local/share/virtualenvs/python-_2MbXz7b/lib/python3.6/site-packages/tensorflow/contrib/learn/python/learn/datasets/mnist.py:267: extract_labels (from tensorflow.contrib.learn.python.learn.datasets.mnist) is deprecated and will be removed in a future version.\n",
      "Instructions for updating:\n",
      "Please use tf.data to implement this functionality.\n",
      "Extracting MNIST_data/train-labels-idx1-ubyte.gz\n",
      "WARNING:tensorflow:From /Users/michaelmcdermott/.local/share/virtualenvs/python-_2MbXz7b/lib/python3.6/site-packages/tensorflow/contrib/learn/python/learn/datasets/mnist.py:110: dense_to_one_hot (from tensorflow.contrib.learn.python.learn.datasets.mnist) is deprecated and will be removed in a future version.\n",
      "Instructions for updating:\n",
      "Please use tf.one_hot on tensors.\n",
      "Extracting MNIST_data/t10k-images-idx3-ubyte.gz\n",
      "Extracting MNIST_data/t10k-labels-idx1-ubyte.gz\n",
      "WARNING:tensorflow:From /Users/michaelmcdermott/.local/share/virtualenvs/python-_2MbXz7b/lib/python3.6/site-packages/tensorflow/contrib/learn/python/learn/datasets/mnist.py:290: DataSet.__init__ (from tensorflow.contrib.learn.python.learn.datasets.mnist) is deprecated and will be removed in a future version.\n",
      "Instructions for updating:\n",
      "Please use alternatives such as official/mnist/dataset.py from tensorflow/models.\n"
     ]
    }
   ],
   "source": [
    "mnist = input_data.read_data_sets('MNIST_data', one_hot=True)"
   ]
  },
  {
   "cell_type": "code",
   "execution_count": 4,
   "metadata": {},
   "outputs": [],
   "source": [
    "sess = tf.InteractiveSession()"
   ]
  },
  {
   "cell_type": "code",
   "execution_count": 5,
   "metadata": {},
   "outputs": [],
   "source": [
    "saver = tf.train.import_meta_graph('mnist/conv_99_new.meta')"
   ]
  },
  {
   "cell_type": "code",
   "execution_count": 6,
   "metadata": {},
   "outputs": [
    {
     "name": "stdout",
     "output_type": "stream",
     "text": [
      "INFO:tensorflow:Restoring parameters from mnist/conv_99_new\n"
     ]
    }
   ],
   "source": [
    "saver.restore(sess,'mnist/conv_99_new')"
   ]
  },
  {
   "cell_type": "code",
   "execution_count": 7,
   "metadata": {},
   "outputs": [
    {
     "name": "stdout",
     "output_type": "stream",
     "text": [
      "[<tf.Variable 'Variable:0' shape=(5, 5, 1, 32) dtype=float32_ref>, <tf.Variable 'Variable_1:0' shape=(32,) dtype=float32_ref>, <tf.Variable 'Variable_2:0' shape=(5, 5, 32, 64) dtype=float32_ref>, <tf.Variable 'Variable_3:0' shape=(64,) dtype=float32_ref>, <tf.Variable 'Variable_4:0' shape=(3136, 1024) dtype=float32_ref>, <tf.Variable 'Variable_5:0' shape=(1024,) dtype=float32_ref>, <tf.Variable 'Variable_6:0' shape=(1024, 10) dtype=float32_ref>, <tf.Variable 'Variable_7:0' shape=(10,) dtype=float32_ref>, <tf.Variable 'beta1_power:0' shape=() dtype=float32_ref>, <tf.Variable 'beta2_power:0' shape=() dtype=float32_ref>, <tf.Variable 'Variable/Adam:0' shape=(5, 5, 1, 32) dtype=float32_ref>, <tf.Variable 'Variable/Adam_1:0' shape=(5, 5, 1, 32) dtype=float32_ref>, <tf.Variable 'Variable_1/Adam:0' shape=(32,) dtype=float32_ref>, <tf.Variable 'Variable_1/Adam_1:0' shape=(32,) dtype=float32_ref>, <tf.Variable 'Variable_2/Adam:0' shape=(5, 5, 32, 64) dtype=float32_ref>, <tf.Variable 'Variable_2/Adam_1:0' shape=(5, 5, 32, 64) dtype=float32_ref>, <tf.Variable 'Variable_3/Adam:0' shape=(64,) dtype=float32_ref>, <tf.Variable 'Variable_3/Adam_1:0' shape=(64,) dtype=float32_ref>, <tf.Variable 'Variable_4/Adam:0' shape=(3136, 1024) dtype=float32_ref>, <tf.Variable 'Variable_4/Adam_1:0' shape=(3136, 1024) dtype=float32_ref>, <tf.Variable 'Variable_5/Adam:0' shape=(1024,) dtype=float32_ref>, <tf.Variable 'Variable_5/Adam_1:0' shape=(1024,) dtype=float32_ref>, <tf.Variable 'Variable_6/Adam:0' shape=(1024, 10) dtype=float32_ref>, <tf.Variable 'Variable_6/Adam_1:0' shape=(1024, 10) dtype=float32_ref>, <tf.Variable 'Variable_7/Adam:0' shape=(10,) dtype=float32_ref>, <tf.Variable 'Variable_7/Adam_1:0' shape=(10,) dtype=float32_ref>]\n"
     ]
    }
   ],
   "source": [
    "print(tf.global_variables())"
   ]
  },
  {
   "cell_type": "code",
   "execution_count": 8,
   "metadata": {},
   "outputs": [],
   "source": [
    "keep_prob = tf.get_default_graph().get_tensor_by_name(\"keep_prob:0\")\n",
    "x = tf.get_default_graph().get_tensor_by_name(\"x:0\")\n",
    "y_conv = tf.get_default_graph().get_tensor_by_name(\"y_conv:0\")\n",
    "y_conv_s = tf.get_default_graph().get_tensor_by_name(\"y_conv_s:0\")"
   ]
  },
  {
   "cell_type": "markdown",
   "metadata": {},
   "source": [
    "# Let's compute the geodesics.."
   ]
  },
  {
   "cell_type": "code",
   "execution_count": 9,
   "metadata": {},
   "outputs": [],
   "source": [
    "def shift_pic(pic, shift=4):\n",
    "    return np.roll(pic.reshape([28,28]), shift, axis=1).reshape([784,])"
   ]
  },
  {
   "cell_type": "code",
   "execution_count": 10,
   "metadata": {},
   "outputs": [],
   "source": [
    "def create_vec_tensor(categories, target = y_conv_s):\n",
    "    vec_tens = []\n",
    "    for i in range(categories):\n",
    "            vec_tens.append(tf.gradients(target[:,i], x)[0])\n",
    "    return vec_tens"
   ]
  },
  {
   "cell_type": "code",
   "execution_count": 11,
   "metadata": {},
   "outputs": [],
   "source": [
    "vec_tens = create_vec_tensor(10)\n",
    "def compute_vec_grad(pic, vec_tens):\n",
    "    var_grad = sess.run(vec_tens, feed_dict={x: pic.reshape([1,len(pic)]), keep_prob: 1.0})\n",
    "    return np.asarray(var_grad).reshape([10, 784])"
   ]
  },
  {
   "cell_type": "code",
   "execution_count": 12,
   "metadata": {},
   "outputs": [],
   "source": [
    "def create_vec_hessian(categories, target = y_conv_s):\n",
    "    vec_hes = []\n",
    "    for i in range(categories):\n",
    "            vec_hes.append(tf.hessians(target[:,i], x)[0])\n",
    "    return vec_hes"
   ]
  },
  {
   "cell_type": "code",
   "execution_count": 13,
   "metadata": {},
   "outputs": [],
   "source": [
    "vec_hes = create_vec_hessian(10)\n",
    "def compute_vec_hessian(pic, vec_hes):\n",
    "    var_hessian = sess.run(vec_hes, feed_dict={x: pic.reshape([1,len(pic)]), keep_prob: 1.0})\n",
    "    return np.asarray(var_hessian).reshape([784, 784, 10])"
   ]
  },
  {
   "cell_type": "code",
   "execution_count": 14,
   "metadata": {},
   "outputs": [],
   "source": [
    "def compute_metric(pic, compute_vec_grad=compute_vec_grad, alpha=0.01):\n",
    "    vec_grad = compute_vec_grad(pic, vec_tens)\n",
    "    #vec_grad = vec_grad/np.sqrt(np.sum(vec_grad**2, axis=1)).reshape([10,1])\n",
    "    return alpha*np.identity(784) + np.dot(np.transpose(vec_grad),vec_grad)"
   ]
  },
  {
   "cell_type": "code",
   "execution_count": 15,
   "metadata": {},
   "outputs": [],
   "source": [
    "def compute_grad_metric(pic, compute_vec_grad=compute_vec_grad,\n",
    "                        compute_vec_hessian=compute_vec_hessian):\n",
    "    vec_grad = compute_vec_grad(pic, vec_tens)\n",
    "    #vec_grad = vec_grad/np.sqrt(np.sum(vec_grad**2, axis=1)).reshape([10,1])\n",
    "    vec_hessian = compute_vec_hessian(pic, vec_hes)\n",
    "    hess_mult_grad = np.dot(vec_hessian, vec_grad)\n",
    "    #still need to symmetrize, computes grad_k g^{ij} (first axis is grad, second 2 are g)\n",
    "    return hess_mult_grad + np.swapaxes(hess_mult_grad, 1, 2)"
   ]
  },
  {
   "cell_type": "code",
   "execution_count": 16,
   "metadata": {},
   "outputs": [],
   "source": [
    "def point_shift_integrand(start_pic, end_pic, t, metric=compute_metric, grad_metric=compute_grad_metric):\n",
    "    curr_pic = (1-t)*start_pic + t*end_pic \n",
    "    numerator = np.dot(2*metric(curr_pic), end_pic-start_pic) + t*np.dot(np.dot(grad_metric(curr_pic),end_pic-start_pic), end_pic-start_pic)\n",
    "    denominator = 2*np.sqrt( np.dot( np.dot(end_pic-start_pic, metric(curr_pic)), end_pic-start_pic))\n",
    "    return numerator/denominator"
   ]
  },
  {
   "cell_type": "code",
   "execution_count": 17,
   "metadata": {},
   "outputs": [],
   "source": [
    "def segment_shift_integrand(midpoint, leftpoint, rightpoint, t): \n",
    "    return point_shift_integrand(start_pic=leftpoint, end_pic=midpoint, t=t) + point_shift_integrand(start_pic=midpoint, end_pic=rightpoint, t=t)"
   ]
  },
  {
   "cell_type": "code",
   "execution_count": null,
   "metadata": {},
   "outputs": [],
   "source": []
  },
  {
   "cell_type": "code",
   "execution_count": 18,
   "metadata": {},
   "outputs": [],
   "source": [
    "def compute_point_shift_grad(midpoint, leftpoint, rightpoint):\n",
    "    acc = []\n",
    "    for pix in range(784):\n",
    "        print(\"cur pixel: \", pix)\n",
    "        acc.append(integrate.romberg(lambda t: segment_shift_integrand(midpoint, leftpoint, rightpoint, t)[pix], 0, 1, tol=1, rtol=1e-3))\n",
    "    return np.asarray(acc)\n",
    "    #return integrate.romberg(lambda t: segment_shift_integrand(midpoint, leftpoint, rightpoint, t), 0, 1)\n",
    "    #return segment_shift_integrand(midpoint, leftpoint, rightpoint, 0)\n",
    "    "
   ]
  },
  {
   "cell_type": "code",
   "execution_count": 19,
   "metadata": {},
   "outputs": [],
   "source": [
    "def minimize_length_step(point_index, geod, r):\n",
    "    grad_L = compute_point_shift_grad(geod[point_index,:], geod[point_index-1,:], geod[point_index+1,:])\n",
    "    return geod[point_index] - r*grad_L "
   ]
  },
  {
   "cell_type": "code",
   "execution_count": 20,
   "metadata": {},
   "outputs": [],
   "source": [
    "#returns the geodesic with first index being the pt index and second being the actual point (or picture in the mnist case)\n",
    "def divide(startpoint, endpoint, num_div):\n",
    "    pt_divs = np.linspace(0, 1, num=num_div)\n",
    "\n",
    "    geod = np.ones(len(pt_divs)).reshape([len(pt_divs),1])*startpoint.reshape([1,len(startpoint)]) + pt_divs.reshape([len(pt_divs),1])*(endpoint-startpoint).reshape([1,len(startpoint)])\n",
    "    return pt_divs, geod"
   ]
  },
  {
   "cell_type": "code",
   "execution_count": 21,
   "metadata": {},
   "outputs": [],
   "source": [
    "def compute_geodesic(startpoint, endpoint, num_div, r):\n",
    "    grid, geod = divide(startpoint, endpoint, num_div)\n",
    "    for pt_index in range(len(grid))[1:-1]:\n",
    "        geod[pt_index] = minimize_length_step(pt_index, geod, r)\n",
    "    return geod"
   ]
  },
  {
   "cell_type": "code",
   "execution_count": 22,
   "metadata": {},
   "outputs": [],
   "source": [
    "start_pic = shift_pic(mnist.train.images[7],shift=-2)\n",
    "end_pic = mnist.train.images[7]"
   ]
  },
  {
   "cell_type": "code",
   "execution_count": 23,
   "metadata": {},
   "outputs": [
    {
     "name": "stdout",
     "output_type": "stream",
     "text": [
      "cur pixel:  0\n",
      "cur pixel:  1\n",
      "cur pixel:  2\n",
      "cur pixel:  3\n",
      "cur pixel:  4\n",
      "cur pixel:  5\n",
      "cur pixel:  6\n",
      "cur pixel:  7\n",
      "cur pixel:  8\n",
      "cur pixel:  9\n",
      "cur pixel:  10\n",
      "cur pixel:  11\n",
      "cur pixel:  12\n",
      "cur pixel:  13\n",
      "cur pixel:  14\n",
      "cur pixel:  15\n",
      "cur pixel:  16\n",
      "cur pixel:  17\n",
      "cur pixel:  18\n",
      "cur pixel:  19\n",
      "cur pixel:  20\n",
      "cur pixel:  21\n",
      "cur pixel:  22\n",
      "cur pixel:  23\n",
      "cur pixel:  24\n",
      "cur pixel:  25\n",
      "cur pixel:  26\n",
      "cur pixel:  27\n",
      "cur pixel:  28\n",
      "cur pixel:  29\n",
      "cur pixel:  30\n",
      "cur pixel:  31\n",
      "cur pixel:  32\n",
      "cur pixel:  33\n",
      "cur pixel:  34\n",
      "cur pixel:  35\n",
      "cur pixel:  36\n",
      "cur pixel:  37\n",
      "cur pixel:  38\n",
      "cur pixel:  39\n",
      "cur pixel:  40\n",
      "cur pixel:  41\n",
      "cur pixel:  42\n",
      "cur pixel:  43\n",
      "cur pixel:  44\n",
      "cur pixel:  45\n",
      "cur pixel:  46\n",
      "cur pixel:  47\n",
      "cur pixel:  48\n",
      "cur pixel:  49\n",
      "cur pixel:  50\n",
      "cur pixel:  51\n",
      "cur pixel:  52\n",
      "cur pixel:  53\n",
      "cur pixel:  54\n",
      "cur pixel:  55\n",
      "cur pixel:  56\n",
      "cur pixel:  57\n",
      "cur pixel:  58\n",
      "cur pixel:  59\n",
      "cur pixel:  60\n",
      "cur pixel:  61\n",
      "cur pixel:  62\n",
      "cur pixel:  63\n",
      "cur pixel:  64\n",
      "cur pixel:  65\n",
      "cur pixel:  66\n",
      "cur pixel:  67\n",
      "cur pixel:  68\n",
      "cur pixel:  69\n",
      "cur pixel:  70\n",
      "cur pixel:  71\n",
      "cur pixel:  72\n",
      "cur pixel:  73\n",
      "cur pixel:  74\n",
      "cur pixel:  75\n",
      "cur pixel:  76\n",
      "cur pixel:  77\n",
      "cur pixel:  78\n",
      "cur pixel:  79\n",
      "cur pixel:  80\n",
      "cur pixel:  81\n",
      "cur pixel:  82\n",
      "cur pixel:  83\n",
      "cur pixel:  84\n",
      "cur pixel:  85\n",
      "cur pixel:  86\n",
      "cur pixel:  87\n",
      "cur pixel:  88\n",
      "cur pixel:  89\n",
      "cur pixel:  90\n",
      "cur pixel:  91\n",
      "cur pixel:  92\n",
      "cur pixel:  93\n",
      "cur pixel:  94\n",
      "cur pixel:  95\n",
      "cur pixel:  96\n",
      "cur pixel:  97\n",
      "cur pixel:  98\n",
      "cur pixel:  99\n",
      "cur pixel:  100\n",
      "cur pixel:  101\n",
      "cur pixel:  102\n",
      "cur pixel:  103\n",
      "cur pixel:  104\n",
      "cur pixel:  105\n",
      "cur pixel:  106\n",
      "cur pixel:  107\n",
      "cur pixel:  108\n",
      "cur pixel:  109\n",
      "cur pixel:  110\n",
      "cur pixel:  111\n",
      "cur pixel:  112\n",
      "cur pixel:  113\n",
      "cur pixel:  114\n",
      "cur pixel:  115\n",
      "cur pixel:  116\n",
      "cur pixel:  117\n",
      "cur pixel:  118\n",
      "cur pixel:  119\n",
      "cur pixel:  120\n",
      "cur pixel:  121\n",
      "cur pixel:  122\n",
      "cur pixel:  123\n",
      "cur pixel:  124\n",
      "cur pixel:  125\n",
      "cur pixel:  126\n",
      "cur pixel:  127\n",
      "cur pixel:  128\n",
      "cur pixel:  129\n",
      "cur pixel:  130\n",
      "cur pixel:  131\n",
      "cur pixel:  132\n",
      "cur pixel:  133\n",
      "cur pixel:  134\n",
      "cur pixel:  135\n",
      "cur pixel:  136\n",
      "cur pixel:  137\n",
      "cur pixel:  138\n",
      "cur pixel:  139\n",
      "cur pixel:  140\n",
      "cur pixel:  141\n",
      "cur pixel:  142\n",
      "cur pixel:  143\n",
      "cur pixel:  144\n",
      "cur pixel:  145\n",
      "cur pixel:  146\n",
      "cur pixel:  147\n",
      "cur pixel:  148\n",
      "cur pixel:  149\n",
      "cur pixel:  150\n",
      "cur pixel:  151\n",
      "cur pixel:  152\n",
      "cur pixel:  153\n",
      "cur pixel:  154\n",
      "cur pixel:  155\n",
      "cur pixel:  156\n",
      "cur pixel:  157\n",
      "cur pixel:  158\n",
      "cur pixel:  159\n",
      "cur pixel:  160\n",
      "cur pixel:  161\n",
      "cur pixel:  162\n",
      "cur pixel:  163\n",
      "cur pixel:  164\n",
      "cur pixel:  165\n",
      "cur pixel:  166\n",
      "cur pixel:  167\n",
      "cur pixel:  168\n",
      "cur pixel:  169\n",
      "cur pixel:  170\n",
      "cur pixel:  171\n",
      "cur pixel:  172\n",
      "cur pixel:  173\n",
      "cur pixel:  174\n",
      "cur pixel:  175\n",
      "cur pixel:  176\n",
      "cur pixel:  177\n",
      "cur pixel:  178\n",
      "cur pixel:  179\n",
      "cur pixel:  180\n",
      "cur pixel:  181\n",
      "cur pixel:  182\n",
      "cur pixel:  183\n",
      "cur pixel:  184\n",
      "cur pixel:  185\n",
      "cur pixel:  186\n",
      "cur pixel:  187\n",
      "cur pixel:  188\n",
      "cur pixel:  189\n",
      "cur pixel:  190\n",
      "cur pixel:  191\n",
      "cur pixel:  192\n",
      "cur pixel:  193\n",
      "cur pixel:  194\n",
      "cur pixel:  195\n",
      "cur pixel:  196\n",
      "cur pixel:  197\n",
      "cur pixel:  198\n",
      "cur pixel:  199\n",
      "cur pixel:  200\n",
      "cur pixel:  201\n",
      "cur pixel:  202\n",
      "cur pixel:  203\n",
      "cur pixel:  204\n",
      "cur pixel:  205\n",
      "cur pixel:  206\n",
      "cur pixel:  207\n",
      "cur pixel:  208\n",
      "cur pixel:  209\n",
      "cur pixel:  210\n",
      "cur pixel:  211\n",
      "cur pixel:  212\n",
      "cur pixel:  213\n",
      "cur pixel:  214\n",
      "cur pixel:  215\n",
      "cur pixel:  216\n",
      "cur pixel:  217\n",
      "cur pixel:  218\n",
      "cur pixel:  219\n",
      "cur pixel:  220\n",
      "cur pixel:  221\n",
      "cur pixel:  222\n",
      "cur pixel:  223\n",
      "cur pixel:  224\n",
      "cur pixel:  225\n",
      "cur pixel:  226\n",
      "cur pixel:  227\n",
      "cur pixel:  228\n",
      "cur pixel:  229\n",
      "cur pixel:  230\n",
      "cur pixel:  231\n",
      "cur pixel:  232\n",
      "cur pixel:  233\n",
      "cur pixel:  234\n",
      "cur pixel:  235\n",
      "cur pixel:  236\n",
      "cur pixel:  237\n",
      "cur pixel:  238\n",
      "cur pixel:  239\n",
      "cur pixel:  240\n",
      "cur pixel:  241\n",
      "cur pixel:  242\n",
      "cur pixel:  243\n",
      "cur pixel:  244\n",
      "cur pixel:  245\n",
      "cur pixel:  246\n",
      "cur pixel:  247\n",
      "cur pixel:  248\n",
      "cur pixel:  249\n",
      "cur pixel:  250\n",
      "cur pixel:  251\n",
      "cur pixel:  252\n",
      "cur pixel:  253\n",
      "cur pixel:  254\n",
      "cur pixel:  255\n",
      "cur pixel:  256\n",
      "cur pixel:  257\n",
      "cur pixel:  258\n",
      "cur pixel:  259\n",
      "cur pixel:  260\n",
      "cur pixel:  261\n",
      "cur pixel:  262\n",
      "cur pixel:  263\n",
      "cur pixel:  264\n",
      "cur pixel:  265\n",
      "cur pixel:  266\n",
      "cur pixel:  267\n",
      "cur pixel:  268\n",
      "cur pixel:  269\n",
      "cur pixel:  270\n",
      "cur pixel:  271\n",
      "cur pixel:  272\n",
      "cur pixel:  273\n",
      "cur pixel:  274\n",
      "cur pixel:  275\n",
      "cur pixel:  276\n",
      "cur pixel:  277\n",
      "cur pixel:  278\n",
      "cur pixel:  279\n",
      "cur pixel:  280\n",
      "cur pixel:  281\n",
      "cur pixel:  282\n",
      "cur pixel:  283\n"
     ]
    },
    {
     "ename": "KeyboardInterrupt",
     "evalue": "",
     "output_type": "error",
     "traceback": [
      "\u001b[0;31m---------------------------------------------------------------------------\u001b[0m",
      "\u001b[0;31mKeyboardInterrupt\u001b[0m                         Traceback (most recent call last)",
      "\u001b[0;32m<ipython-input-23-8b82018c9c08>\u001b[0m in \u001b[0;36m<module>\u001b[0;34m()\u001b[0m\n\u001b[0;32m----> 1\u001b[0;31m \u001b[0mg\u001b[0m \u001b[0;34m=\u001b[0m \u001b[0mcompute_geodesic\u001b[0m\u001b[0;34m(\u001b[0m\u001b[0mstart_pic\u001b[0m\u001b[0;34m,\u001b[0m \u001b[0mend_pic\u001b[0m\u001b[0;34m,\u001b[0m \u001b[0;36m4\u001b[0m\u001b[0;34m,\u001b[0m \u001b[0;36m0.1\u001b[0m\u001b[0;34m)\u001b[0m\u001b[0;34m\u001b[0m\u001b[0m\n\u001b[0m",
      "\u001b[0;32m<ipython-input-21-d869e8cf6633>\u001b[0m in \u001b[0;36mcompute_geodesic\u001b[0;34m(startpoint, endpoint, num_div, r)\u001b[0m\n\u001b[1;32m      2\u001b[0m     \u001b[0mgrid\u001b[0m\u001b[0;34m,\u001b[0m \u001b[0mgeod\u001b[0m \u001b[0;34m=\u001b[0m \u001b[0mdivide\u001b[0m\u001b[0;34m(\u001b[0m\u001b[0mstartpoint\u001b[0m\u001b[0;34m,\u001b[0m \u001b[0mendpoint\u001b[0m\u001b[0;34m,\u001b[0m \u001b[0mnum_div\u001b[0m\u001b[0;34m)\u001b[0m\u001b[0;34m\u001b[0m\u001b[0m\n\u001b[1;32m      3\u001b[0m     \u001b[0;32mfor\u001b[0m \u001b[0mpt_index\u001b[0m \u001b[0;32min\u001b[0m \u001b[0mrange\u001b[0m\u001b[0;34m(\u001b[0m\u001b[0mlen\u001b[0m\u001b[0;34m(\u001b[0m\u001b[0mgrid\u001b[0m\u001b[0;34m)\u001b[0m\u001b[0;34m)\u001b[0m\u001b[0;34m[\u001b[0m\u001b[0;36m1\u001b[0m\u001b[0;34m:\u001b[0m\u001b[0;34m-\u001b[0m\u001b[0;36m1\u001b[0m\u001b[0;34m]\u001b[0m\u001b[0;34m:\u001b[0m\u001b[0;34m\u001b[0m\u001b[0m\n\u001b[0;32m----> 4\u001b[0;31m         \u001b[0mgeod\u001b[0m\u001b[0;34m[\u001b[0m\u001b[0mpt_index\u001b[0m\u001b[0;34m]\u001b[0m \u001b[0;34m=\u001b[0m \u001b[0mminimize_length_step\u001b[0m\u001b[0;34m(\u001b[0m\u001b[0mpt_index\u001b[0m\u001b[0;34m,\u001b[0m \u001b[0mgeod\u001b[0m\u001b[0;34m,\u001b[0m \u001b[0mr\u001b[0m\u001b[0;34m)\u001b[0m\u001b[0;34m\u001b[0m\u001b[0m\n\u001b[0m\u001b[1;32m      5\u001b[0m     \u001b[0;32mreturn\u001b[0m \u001b[0mgeod\u001b[0m\u001b[0;34m\u001b[0m\u001b[0m\n",
      "\u001b[0;32m<ipython-input-19-01a251f519c9>\u001b[0m in \u001b[0;36mminimize_length_step\u001b[0;34m(point_index, geod, r)\u001b[0m\n\u001b[1;32m      1\u001b[0m \u001b[0;32mdef\u001b[0m \u001b[0mminimize_length_step\u001b[0m\u001b[0;34m(\u001b[0m\u001b[0mpoint_index\u001b[0m\u001b[0;34m,\u001b[0m \u001b[0mgeod\u001b[0m\u001b[0;34m,\u001b[0m \u001b[0mr\u001b[0m\u001b[0;34m)\u001b[0m\u001b[0;34m:\u001b[0m\u001b[0;34m\u001b[0m\u001b[0m\n\u001b[0;32m----> 2\u001b[0;31m     \u001b[0mgrad_L\u001b[0m \u001b[0;34m=\u001b[0m \u001b[0mcompute_point_shift_grad\u001b[0m\u001b[0;34m(\u001b[0m\u001b[0mgeod\u001b[0m\u001b[0;34m[\u001b[0m\u001b[0mpoint_index\u001b[0m\u001b[0;34m,\u001b[0m\u001b[0;34m:\u001b[0m\u001b[0;34m]\u001b[0m\u001b[0;34m,\u001b[0m \u001b[0mgeod\u001b[0m\u001b[0;34m[\u001b[0m\u001b[0mpoint_index\u001b[0m\u001b[0;34m-\u001b[0m\u001b[0;36m1\u001b[0m\u001b[0;34m,\u001b[0m\u001b[0;34m:\u001b[0m\u001b[0;34m]\u001b[0m\u001b[0;34m,\u001b[0m \u001b[0mgeod\u001b[0m\u001b[0;34m[\u001b[0m\u001b[0mpoint_index\u001b[0m\u001b[0;34m+\u001b[0m\u001b[0;36m1\u001b[0m\u001b[0;34m,\u001b[0m\u001b[0;34m:\u001b[0m\u001b[0;34m]\u001b[0m\u001b[0;34m)\u001b[0m\u001b[0;34m\u001b[0m\u001b[0m\n\u001b[0m\u001b[1;32m      3\u001b[0m     \u001b[0;32mreturn\u001b[0m \u001b[0mgeod\u001b[0m\u001b[0;34m[\u001b[0m\u001b[0mpoint_index\u001b[0m\u001b[0;34m]\u001b[0m \u001b[0;34m-\u001b[0m \u001b[0mr\u001b[0m\u001b[0;34m*\u001b[0m\u001b[0mgrad_L\u001b[0m\u001b[0;34m\u001b[0m\u001b[0m\n",
      "\u001b[0;32m<ipython-input-18-ce9e7e012c5a>\u001b[0m in \u001b[0;36mcompute_point_shift_grad\u001b[0;34m(midpoint, leftpoint, rightpoint)\u001b[0m\n\u001b[1;32m      3\u001b[0m     \u001b[0;32mfor\u001b[0m \u001b[0mpix\u001b[0m \u001b[0;32min\u001b[0m \u001b[0mrange\u001b[0m\u001b[0;34m(\u001b[0m\u001b[0;36m784\u001b[0m\u001b[0;34m)\u001b[0m\u001b[0;34m:\u001b[0m\u001b[0;34m\u001b[0m\u001b[0m\n\u001b[1;32m      4\u001b[0m         \u001b[0mprint\u001b[0m\u001b[0;34m(\u001b[0m\u001b[0;34m\"cur pixel: \"\u001b[0m\u001b[0;34m,\u001b[0m \u001b[0mpix\u001b[0m\u001b[0;34m)\u001b[0m\u001b[0;34m\u001b[0m\u001b[0m\n\u001b[0;32m----> 5\u001b[0;31m         \u001b[0macc\u001b[0m\u001b[0;34m.\u001b[0m\u001b[0mappend\u001b[0m\u001b[0;34m(\u001b[0m\u001b[0mintegrate\u001b[0m\u001b[0;34m.\u001b[0m\u001b[0mromberg\u001b[0m\u001b[0;34m(\u001b[0m\u001b[0;32mlambda\u001b[0m \u001b[0mt\u001b[0m\u001b[0;34m:\u001b[0m \u001b[0msegment_shift_integrand\u001b[0m\u001b[0;34m(\u001b[0m\u001b[0mmidpoint\u001b[0m\u001b[0;34m,\u001b[0m \u001b[0mleftpoint\u001b[0m\u001b[0;34m,\u001b[0m \u001b[0mrightpoint\u001b[0m\u001b[0;34m,\u001b[0m \u001b[0mt\u001b[0m\u001b[0;34m)\u001b[0m\u001b[0;34m[\u001b[0m\u001b[0mpix\u001b[0m\u001b[0;34m]\u001b[0m\u001b[0;34m,\u001b[0m \u001b[0;36m0\u001b[0m\u001b[0;34m,\u001b[0m \u001b[0;36m1\u001b[0m\u001b[0;34m,\u001b[0m \u001b[0mtol\u001b[0m\u001b[0;34m=\u001b[0m\u001b[0;36m1\u001b[0m\u001b[0;34m,\u001b[0m \u001b[0mrtol\u001b[0m\u001b[0;34m=\u001b[0m\u001b[0;36m1e-3\u001b[0m\u001b[0;34m)\u001b[0m\u001b[0;34m)\u001b[0m\u001b[0;34m\u001b[0m\u001b[0m\n\u001b[0m\u001b[1;32m      6\u001b[0m     \u001b[0;32mreturn\u001b[0m \u001b[0mnp\u001b[0m\u001b[0;34m.\u001b[0m\u001b[0masarray\u001b[0m\u001b[0;34m(\u001b[0m\u001b[0macc\u001b[0m\u001b[0;34m)\u001b[0m\u001b[0;34m\u001b[0m\u001b[0m\n\u001b[1;32m      7\u001b[0m     \u001b[0;31m#return integrate.romberg(lambda t: segment_shift_integrand(midpoint, leftpoint, rightpoint, t), 0, 1)\u001b[0m\u001b[0;34m\u001b[0m\u001b[0;34m\u001b[0m\u001b[0m\n",
      "\u001b[0;32m~/.local/share/virtualenvs/python-_2MbXz7b/lib/python3.6/site-packages/scipy/integrate/quadrature.py\u001b[0m in \u001b[0;36mromberg\u001b[0;34m(function, a, b, args, tol, rtol, show, divmax, vec_func)\u001b[0m\n\u001b[1;32m    728\u001b[0m     \u001b[0minterval\u001b[0m \u001b[0;34m=\u001b[0m \u001b[0;34m[\u001b[0m\u001b[0ma\u001b[0m\u001b[0;34m,\u001b[0m \u001b[0mb\u001b[0m\u001b[0;34m]\u001b[0m\u001b[0;34m\u001b[0m\u001b[0m\n\u001b[1;32m    729\u001b[0m     \u001b[0mintrange\u001b[0m \u001b[0;34m=\u001b[0m \u001b[0mb\u001b[0m \u001b[0;34m-\u001b[0m \u001b[0ma\u001b[0m\u001b[0;34m\u001b[0m\u001b[0m\n\u001b[0;32m--> 730\u001b[0;31m     \u001b[0mordsum\u001b[0m \u001b[0;34m=\u001b[0m \u001b[0m_difftrap\u001b[0m\u001b[0;34m(\u001b[0m\u001b[0mvfunc\u001b[0m\u001b[0;34m,\u001b[0m \u001b[0minterval\u001b[0m\u001b[0;34m,\u001b[0m \u001b[0mn\u001b[0m\u001b[0;34m)\u001b[0m\u001b[0;34m\u001b[0m\u001b[0m\n\u001b[0m\u001b[1;32m    731\u001b[0m     \u001b[0mresult\u001b[0m \u001b[0;34m=\u001b[0m \u001b[0mintrange\u001b[0m \u001b[0;34m*\u001b[0m \u001b[0mordsum\u001b[0m\u001b[0;34m\u001b[0m\u001b[0m\n\u001b[1;32m    732\u001b[0m     \u001b[0mresmat\u001b[0m \u001b[0;34m=\u001b[0m \u001b[0;34m[\u001b[0m\u001b[0;34m[\u001b[0m\u001b[0mresult\u001b[0m\u001b[0;34m]\u001b[0m\u001b[0;34m]\u001b[0m\u001b[0;34m\u001b[0m\u001b[0m\n",
      "\u001b[0;32m~/.local/share/virtualenvs/python-_2MbXz7b/lib/python3.6/site-packages/scipy/integrate/quadrature.py\u001b[0m in \u001b[0;36m_difftrap\u001b[0;34m(function, interval, numtraps)\u001b[0m\n\u001b[1;32m    601\u001b[0m         \u001b[0;32mraise\u001b[0m \u001b[0mValueError\u001b[0m\u001b[0;34m(\u001b[0m\u001b[0;34m\"numtraps must be > 0 in difftrap().\"\u001b[0m\u001b[0;34m)\u001b[0m\u001b[0;34m\u001b[0m\u001b[0m\n\u001b[1;32m    602\u001b[0m     \u001b[0;32melif\u001b[0m \u001b[0mnumtraps\u001b[0m \u001b[0;34m==\u001b[0m \u001b[0;36m1\u001b[0m\u001b[0;34m:\u001b[0m\u001b[0;34m\u001b[0m\u001b[0m\n\u001b[0;32m--> 603\u001b[0;31m         \u001b[0;32mreturn\u001b[0m \u001b[0;36m0.5\u001b[0m\u001b[0;34m*\u001b[0m\u001b[0;34m(\u001b[0m\u001b[0mfunction\u001b[0m\u001b[0;34m(\u001b[0m\u001b[0minterval\u001b[0m\u001b[0;34m[\u001b[0m\u001b[0;36m0\u001b[0m\u001b[0;34m]\u001b[0m\u001b[0;34m)\u001b[0m\u001b[0;34m+\u001b[0m\u001b[0mfunction\u001b[0m\u001b[0;34m(\u001b[0m\u001b[0minterval\u001b[0m\u001b[0;34m[\u001b[0m\u001b[0;36m1\u001b[0m\u001b[0;34m]\u001b[0m\u001b[0;34m)\u001b[0m\u001b[0;34m)\u001b[0m\u001b[0;34m\u001b[0m\u001b[0m\n\u001b[0m\u001b[1;32m    604\u001b[0m     \u001b[0;32melse\u001b[0m\u001b[0;34m:\u001b[0m\u001b[0;34m\u001b[0m\u001b[0m\n\u001b[1;32m    605\u001b[0m         \u001b[0mnumtosum\u001b[0m \u001b[0;34m=\u001b[0m \u001b[0mnumtraps\u001b[0m\u001b[0;34m/\u001b[0m\u001b[0;36m2\u001b[0m\u001b[0;34m\u001b[0m\u001b[0m\n",
      "\u001b[0;32m~/.local/share/virtualenvs/python-_2MbXz7b/lib/python3.6/site-packages/scipy/integrate/quadrature.py\u001b[0m in \u001b[0;36mvfunc\u001b[0;34m(x)\u001b[0m\n\u001b[1;32m    119\u001b[0m         \u001b[0;32mdef\u001b[0m \u001b[0mvfunc\u001b[0m\u001b[0;34m(\u001b[0m\u001b[0mx\u001b[0m\u001b[0;34m)\u001b[0m\u001b[0;34m:\u001b[0m\u001b[0;34m\u001b[0m\u001b[0m\n\u001b[1;32m    120\u001b[0m             \u001b[0;32mif\u001b[0m \u001b[0mnp\u001b[0m\u001b[0;34m.\u001b[0m\u001b[0misscalar\u001b[0m\u001b[0;34m(\u001b[0m\u001b[0mx\u001b[0m\u001b[0;34m)\u001b[0m\u001b[0;34m:\u001b[0m\u001b[0;34m\u001b[0m\u001b[0m\n\u001b[0;32m--> 121\u001b[0;31m                 \u001b[0;32mreturn\u001b[0m \u001b[0mfunc\u001b[0m\u001b[0;34m(\u001b[0m\u001b[0mx\u001b[0m\u001b[0;34m,\u001b[0m \u001b[0;34m*\u001b[0m\u001b[0margs\u001b[0m\u001b[0;34m)\u001b[0m\u001b[0;34m\u001b[0m\u001b[0m\n\u001b[0m\u001b[1;32m    122\u001b[0m             \u001b[0mx\u001b[0m \u001b[0;34m=\u001b[0m \u001b[0mnp\u001b[0m\u001b[0;34m.\u001b[0m\u001b[0masarray\u001b[0m\u001b[0;34m(\u001b[0m\u001b[0mx\u001b[0m\u001b[0;34m)\u001b[0m\u001b[0;34m\u001b[0m\u001b[0m\n\u001b[1;32m    123\u001b[0m             \u001b[0;31m# call with first point to get output type\u001b[0m\u001b[0;34m\u001b[0m\u001b[0;34m\u001b[0m\u001b[0m\n",
      "\u001b[0;32m<ipython-input-18-ce9e7e012c5a>\u001b[0m in \u001b[0;36m<lambda>\u001b[0;34m(t)\u001b[0m\n\u001b[1;32m      3\u001b[0m     \u001b[0;32mfor\u001b[0m \u001b[0mpix\u001b[0m \u001b[0;32min\u001b[0m \u001b[0mrange\u001b[0m\u001b[0;34m(\u001b[0m\u001b[0;36m784\u001b[0m\u001b[0;34m)\u001b[0m\u001b[0;34m:\u001b[0m\u001b[0;34m\u001b[0m\u001b[0m\n\u001b[1;32m      4\u001b[0m         \u001b[0mprint\u001b[0m\u001b[0;34m(\u001b[0m\u001b[0;34m\"cur pixel: \"\u001b[0m\u001b[0;34m,\u001b[0m \u001b[0mpix\u001b[0m\u001b[0;34m)\u001b[0m\u001b[0;34m\u001b[0m\u001b[0m\n\u001b[0;32m----> 5\u001b[0;31m         \u001b[0macc\u001b[0m\u001b[0;34m.\u001b[0m\u001b[0mappend\u001b[0m\u001b[0;34m(\u001b[0m\u001b[0mintegrate\u001b[0m\u001b[0;34m.\u001b[0m\u001b[0mromberg\u001b[0m\u001b[0;34m(\u001b[0m\u001b[0;32mlambda\u001b[0m \u001b[0mt\u001b[0m\u001b[0;34m:\u001b[0m \u001b[0msegment_shift_integrand\u001b[0m\u001b[0;34m(\u001b[0m\u001b[0mmidpoint\u001b[0m\u001b[0;34m,\u001b[0m \u001b[0mleftpoint\u001b[0m\u001b[0;34m,\u001b[0m \u001b[0mrightpoint\u001b[0m\u001b[0;34m,\u001b[0m \u001b[0mt\u001b[0m\u001b[0;34m)\u001b[0m\u001b[0;34m[\u001b[0m\u001b[0mpix\u001b[0m\u001b[0;34m]\u001b[0m\u001b[0;34m,\u001b[0m \u001b[0;36m0\u001b[0m\u001b[0;34m,\u001b[0m \u001b[0;36m1\u001b[0m\u001b[0;34m,\u001b[0m \u001b[0mtol\u001b[0m\u001b[0;34m=\u001b[0m\u001b[0;36m1\u001b[0m\u001b[0;34m,\u001b[0m \u001b[0mrtol\u001b[0m\u001b[0;34m=\u001b[0m\u001b[0;36m1e-3\u001b[0m\u001b[0;34m)\u001b[0m\u001b[0;34m)\u001b[0m\u001b[0;34m\u001b[0m\u001b[0m\n\u001b[0m\u001b[1;32m      6\u001b[0m     \u001b[0;32mreturn\u001b[0m \u001b[0mnp\u001b[0m\u001b[0;34m.\u001b[0m\u001b[0masarray\u001b[0m\u001b[0;34m(\u001b[0m\u001b[0macc\u001b[0m\u001b[0;34m)\u001b[0m\u001b[0;34m\u001b[0m\u001b[0m\n\u001b[1;32m      7\u001b[0m     \u001b[0;31m#return integrate.romberg(lambda t: segment_shift_integrand(midpoint, leftpoint, rightpoint, t), 0, 1)\u001b[0m\u001b[0;34m\u001b[0m\u001b[0;34m\u001b[0m\u001b[0m\n",
      "\u001b[0;32m<ipython-input-17-9ad9da7b6309>\u001b[0m in \u001b[0;36msegment_shift_integrand\u001b[0;34m(midpoint, leftpoint, rightpoint, t)\u001b[0m\n\u001b[1;32m      1\u001b[0m \u001b[0;32mdef\u001b[0m \u001b[0msegment_shift_integrand\u001b[0m\u001b[0;34m(\u001b[0m\u001b[0mmidpoint\u001b[0m\u001b[0;34m,\u001b[0m \u001b[0mleftpoint\u001b[0m\u001b[0;34m,\u001b[0m \u001b[0mrightpoint\u001b[0m\u001b[0;34m,\u001b[0m \u001b[0mt\u001b[0m\u001b[0;34m)\u001b[0m\u001b[0;34m:\u001b[0m\u001b[0;34m\u001b[0m\u001b[0m\n\u001b[0;32m----> 2\u001b[0;31m     \u001b[0;32mreturn\u001b[0m \u001b[0mpoint_shift_integrand\u001b[0m\u001b[0;34m(\u001b[0m\u001b[0mstart_pic\u001b[0m\u001b[0;34m=\u001b[0m\u001b[0mleftpoint\u001b[0m\u001b[0;34m,\u001b[0m \u001b[0mend_pic\u001b[0m\u001b[0;34m=\u001b[0m\u001b[0mmidpoint\u001b[0m\u001b[0;34m,\u001b[0m \u001b[0mt\u001b[0m\u001b[0;34m=\u001b[0m\u001b[0mt\u001b[0m\u001b[0;34m)\u001b[0m \u001b[0;34m+\u001b[0m \u001b[0mpoint_shift_integrand\u001b[0m\u001b[0;34m(\u001b[0m\u001b[0mstart_pic\u001b[0m\u001b[0;34m=\u001b[0m\u001b[0mmidpoint\u001b[0m\u001b[0;34m,\u001b[0m \u001b[0mend_pic\u001b[0m\u001b[0;34m=\u001b[0m\u001b[0mrightpoint\u001b[0m\u001b[0;34m,\u001b[0m \u001b[0mt\u001b[0m\u001b[0;34m=\u001b[0m\u001b[0mt\u001b[0m\u001b[0;34m)\u001b[0m\u001b[0;34m\u001b[0m\u001b[0m\n\u001b[0m",
      "\u001b[0;32m<ipython-input-16-0c56b0ba667d>\u001b[0m in \u001b[0;36mpoint_shift_integrand\u001b[0;34m(start_pic, end_pic, t, metric, grad_metric)\u001b[0m\n\u001b[1;32m      1\u001b[0m \u001b[0;32mdef\u001b[0m \u001b[0mpoint_shift_integrand\u001b[0m\u001b[0;34m(\u001b[0m\u001b[0mstart_pic\u001b[0m\u001b[0;34m,\u001b[0m \u001b[0mend_pic\u001b[0m\u001b[0;34m,\u001b[0m \u001b[0mt\u001b[0m\u001b[0;34m,\u001b[0m \u001b[0mmetric\u001b[0m\u001b[0;34m=\u001b[0m\u001b[0mcompute_metric\u001b[0m\u001b[0;34m,\u001b[0m \u001b[0mgrad_metric\u001b[0m\u001b[0;34m=\u001b[0m\u001b[0mcompute_grad_metric\u001b[0m\u001b[0;34m)\u001b[0m\u001b[0;34m:\u001b[0m\u001b[0;34m\u001b[0m\u001b[0m\n\u001b[1;32m      2\u001b[0m     \u001b[0mcurr_pic\u001b[0m \u001b[0;34m=\u001b[0m \u001b[0;34m(\u001b[0m\u001b[0;36m1\u001b[0m\u001b[0;34m-\u001b[0m\u001b[0mt\u001b[0m\u001b[0;34m)\u001b[0m\u001b[0;34m*\u001b[0m\u001b[0mstart_pic\u001b[0m \u001b[0;34m+\u001b[0m \u001b[0mt\u001b[0m\u001b[0;34m*\u001b[0m\u001b[0mend_pic\u001b[0m\u001b[0;34m\u001b[0m\u001b[0m\n\u001b[0;32m----> 3\u001b[0;31m     \u001b[0mnumerator\u001b[0m \u001b[0;34m=\u001b[0m \u001b[0mnp\u001b[0m\u001b[0;34m.\u001b[0m\u001b[0mdot\u001b[0m\u001b[0;34m(\u001b[0m\u001b[0;36m2\u001b[0m\u001b[0;34m*\u001b[0m\u001b[0mmetric\u001b[0m\u001b[0;34m(\u001b[0m\u001b[0mcurr_pic\u001b[0m\u001b[0;34m)\u001b[0m\u001b[0;34m,\u001b[0m \u001b[0mend_pic\u001b[0m\u001b[0;34m-\u001b[0m\u001b[0mstart_pic\u001b[0m\u001b[0;34m)\u001b[0m \u001b[0;34m+\u001b[0m \u001b[0mt\u001b[0m\u001b[0;34m*\u001b[0m\u001b[0mnp\u001b[0m\u001b[0;34m.\u001b[0m\u001b[0mdot\u001b[0m\u001b[0;34m(\u001b[0m\u001b[0mnp\u001b[0m\u001b[0;34m.\u001b[0m\u001b[0mdot\u001b[0m\u001b[0;34m(\u001b[0m\u001b[0mgrad_metric\u001b[0m\u001b[0;34m(\u001b[0m\u001b[0mcurr_pic\u001b[0m\u001b[0;34m)\u001b[0m\u001b[0;34m,\u001b[0m\u001b[0mend_pic\u001b[0m\u001b[0;34m-\u001b[0m\u001b[0mstart_pic\u001b[0m\u001b[0;34m)\u001b[0m\u001b[0;34m,\u001b[0m \u001b[0mend_pic\u001b[0m\u001b[0;34m-\u001b[0m\u001b[0mstart_pic\u001b[0m\u001b[0;34m)\u001b[0m\u001b[0;34m\u001b[0m\u001b[0m\n\u001b[0m\u001b[1;32m      4\u001b[0m     \u001b[0mdenominator\u001b[0m \u001b[0;34m=\u001b[0m \u001b[0;36m2\u001b[0m\u001b[0;34m*\u001b[0m\u001b[0mnp\u001b[0m\u001b[0;34m.\u001b[0m\u001b[0msqrt\u001b[0m\u001b[0;34m(\u001b[0m \u001b[0mnp\u001b[0m\u001b[0;34m.\u001b[0m\u001b[0mdot\u001b[0m\u001b[0;34m(\u001b[0m \u001b[0mnp\u001b[0m\u001b[0;34m.\u001b[0m\u001b[0mdot\u001b[0m\u001b[0;34m(\u001b[0m\u001b[0mend_pic\u001b[0m\u001b[0;34m-\u001b[0m\u001b[0mstart_pic\u001b[0m\u001b[0;34m,\u001b[0m \u001b[0mmetric\u001b[0m\u001b[0;34m(\u001b[0m\u001b[0mcurr_pic\u001b[0m\u001b[0;34m)\u001b[0m\u001b[0;34m)\u001b[0m\u001b[0;34m,\u001b[0m \u001b[0mend_pic\u001b[0m\u001b[0;34m-\u001b[0m\u001b[0mstart_pic\u001b[0m\u001b[0;34m)\u001b[0m\u001b[0;34m)\u001b[0m\u001b[0;34m\u001b[0m\u001b[0m\n\u001b[1;32m      5\u001b[0m     \u001b[0;32mreturn\u001b[0m \u001b[0mnumerator\u001b[0m\u001b[0;34m/\u001b[0m\u001b[0mdenominator\u001b[0m\u001b[0;34m\u001b[0m\u001b[0m\n",
      "\u001b[0;32m<ipython-input-15-3863cb94613d>\u001b[0m in \u001b[0;36mcompute_grad_metric\u001b[0;34m(pic, compute_vec_grad, compute_vec_hessian)\u001b[0m\n\u001b[1;32m      4\u001b[0m     \u001b[0;31m#vec_grad = vec_grad/np.sqrt(np.sum(vec_grad**2, axis=1)).reshape([10,1])\u001b[0m\u001b[0;34m\u001b[0m\u001b[0;34m\u001b[0m\u001b[0m\n\u001b[1;32m      5\u001b[0m     \u001b[0mvec_hessian\u001b[0m \u001b[0;34m=\u001b[0m \u001b[0mcompute_vec_hessian\u001b[0m\u001b[0;34m(\u001b[0m\u001b[0mpic\u001b[0m\u001b[0;34m,\u001b[0m \u001b[0mvec_hes\u001b[0m\u001b[0;34m)\u001b[0m\u001b[0;34m\u001b[0m\u001b[0m\n\u001b[0;32m----> 6\u001b[0;31m     \u001b[0mhess_mult_grad\u001b[0m \u001b[0;34m=\u001b[0m \u001b[0mnp\u001b[0m\u001b[0;34m.\u001b[0m\u001b[0mdot\u001b[0m\u001b[0;34m(\u001b[0m\u001b[0mvec_hessian\u001b[0m\u001b[0;34m,\u001b[0m \u001b[0mvec_grad\u001b[0m\u001b[0;34m)\u001b[0m\u001b[0;34m\u001b[0m\u001b[0m\n\u001b[0m\u001b[1;32m      7\u001b[0m     \u001b[0;31m#still need to symmetrize, computes grad_k g^{ij} (first axis is grad, second 2 are g)\u001b[0m\u001b[0;34m\u001b[0m\u001b[0;34m\u001b[0m\u001b[0m\n\u001b[1;32m      8\u001b[0m     \u001b[0;32mreturn\u001b[0m \u001b[0mhess_mult_grad\u001b[0m \u001b[0;34m+\u001b[0m \u001b[0mnp\u001b[0m\u001b[0;34m.\u001b[0m\u001b[0mswapaxes\u001b[0m\u001b[0;34m(\u001b[0m\u001b[0mhess_mult_grad\u001b[0m\u001b[0;34m,\u001b[0m \u001b[0;36m1\u001b[0m\u001b[0;34m,\u001b[0m \u001b[0;36m2\u001b[0m\u001b[0;34m)\u001b[0m\u001b[0;34m\u001b[0m\u001b[0m\n",
      "\u001b[0;31mKeyboardInterrupt\u001b[0m: "
     ]
    }
   ],
   "source": [
    "g = compute_geodesic(start_pic, end_pic, 4, 0.1)"
   ]
  },
  {
   "cell_type": "code",
   "execution_count": null,
   "metadata": {},
   "outputs": [],
   "source": [
    "g.shape"
   ]
  },
  {
   "cell_type": "code",
   "execution_count": null,
   "metadata": {},
   "outputs": [],
   "source": []
  },
  {
   "cell_type": "code",
   "execution_count": null,
   "metadata": {},
   "outputs": [],
   "source": []
  }
 ],
 "metadata": {
  "kernelspec": {
   "display_name": "Python 3",
   "language": "python",
   "name": "python3"
  },
  "language_info": {
   "codemirror_mode": {
    "name": "ipython",
    "version": 3
   },
   "file_extension": ".py",
   "mimetype": "text/x-python",
   "name": "python",
   "nbconvert_exporter": "python",
   "pygments_lexer": "ipython3",
   "version": "3.6.5"
  }
 },
 "nbformat": 4,
 "nbformat_minor": 2
}
