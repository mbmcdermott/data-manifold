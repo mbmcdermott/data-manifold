{
 "cells": [
  {
   "cell_type": "code",
   "execution_count": 1,
   "metadata": {},
   "outputs": [],
   "source": [
    "from tensorflow.examples.tutorials.mnist import input_data\n",
    "import tensorflow as tf\n",
    "import matplotlib.pyplot as plt\n",
    "import numpy as np"
   ]
  },
  {
   "cell_type": "code",
   "execution_count": 2,
   "metadata": {},
   "outputs": [],
   "source": [
    "import scipy.integrate as integrate\n",
    "import scipy.optimize as optimize"
   ]
  },
  {
   "cell_type": "code",
   "execution_count": 3,
   "metadata": {},
   "outputs": [
    {
     "name": "stdout",
     "output_type": "stream",
     "text": [
      "WARNING:tensorflow:From <ipython-input-3-71e12f4bac70>:1: read_data_sets (from tensorflow.contrib.learn.python.learn.datasets.mnist) is deprecated and will be removed in a future version.\n",
      "Instructions for updating:\n",
      "Please use alternatives such as official/mnist/dataset.py from tensorflow/models.\n",
      "WARNING:tensorflow:From /Users/michaelmcdermott/.local/share/virtualenvs/python-_2MbXz7b/lib/python3.6/site-packages/tensorflow/contrib/learn/python/learn/datasets/mnist.py:260: maybe_download (from tensorflow.contrib.learn.python.learn.datasets.base) is deprecated and will be removed in a future version.\n",
      "Instructions for updating:\n",
      "Please write your own downloading logic.\n",
      "WARNING:tensorflow:From /Users/michaelmcdermott/.local/share/virtualenvs/python-_2MbXz7b/lib/python3.6/site-packages/tensorflow/contrib/learn/python/learn/datasets/mnist.py:262: extract_images (from tensorflow.contrib.learn.python.learn.datasets.mnist) is deprecated and will be removed in a future version.\n",
      "Instructions for updating:\n",
      "Please use tf.data to implement this functionality.\n",
      "Extracting MNIST_data/train-images-idx3-ubyte.gz\n",
      "WARNING:tensorflow:From /Users/michaelmcdermott/.local/share/virtualenvs/python-_2MbXz7b/lib/python3.6/site-packages/tensorflow/contrib/learn/python/learn/datasets/mnist.py:267: extract_labels (from tensorflow.contrib.learn.python.learn.datasets.mnist) is deprecated and will be removed in a future version.\n",
      "Instructions for updating:\n",
      "Please use tf.data to implement this functionality.\n",
      "Extracting MNIST_data/train-labels-idx1-ubyte.gz\n",
      "WARNING:tensorflow:From /Users/michaelmcdermott/.local/share/virtualenvs/python-_2MbXz7b/lib/python3.6/site-packages/tensorflow/contrib/learn/python/learn/datasets/mnist.py:110: dense_to_one_hot (from tensorflow.contrib.learn.python.learn.datasets.mnist) is deprecated and will be removed in a future version.\n",
      "Instructions for updating:\n",
      "Please use tf.one_hot on tensors.\n",
      "Extracting MNIST_data/t10k-images-idx3-ubyte.gz\n",
      "Extracting MNIST_data/t10k-labels-idx1-ubyte.gz\n",
      "WARNING:tensorflow:From /Users/michaelmcdermott/.local/share/virtualenvs/python-_2MbXz7b/lib/python3.6/site-packages/tensorflow/contrib/learn/python/learn/datasets/mnist.py:290: DataSet.__init__ (from tensorflow.contrib.learn.python.learn.datasets.mnist) is deprecated and will be removed in a future version.\n",
      "Instructions for updating:\n",
      "Please use alternatives such as official/mnist/dataset.py from tensorflow/models.\n"
     ]
    }
   ],
   "source": [
    "mnist = input_data.read_data_sets('MNIST_data', one_hot=True)"
   ]
  },
  {
   "cell_type": "code",
   "execution_count": 4,
   "metadata": {},
   "outputs": [],
   "source": [
    "sess = tf.InteractiveSession()"
   ]
  },
  {
   "cell_type": "code",
   "execution_count": 5,
   "metadata": {},
   "outputs": [],
   "source": [
    "saver = tf.train.import_meta_graph('mnist/conv_99_new.meta')"
   ]
  },
  {
   "cell_type": "code",
   "execution_count": 6,
   "metadata": {},
   "outputs": [
    {
     "name": "stdout",
     "output_type": "stream",
     "text": [
      "INFO:tensorflow:Restoring parameters from mnist/conv_99_new\n"
     ]
    }
   ],
   "source": [
    "saver.restore(sess,'mnist/conv_99_new')"
   ]
  },
  {
   "cell_type": "code",
   "execution_count": 7,
   "metadata": {},
   "outputs": [
    {
     "name": "stdout",
     "output_type": "stream",
     "text": [
      "[<tf.Variable 'Variable:0' shape=(5, 5, 1, 32) dtype=float32_ref>, <tf.Variable 'Variable_1:0' shape=(32,) dtype=float32_ref>, <tf.Variable 'Variable_2:0' shape=(5, 5, 32, 64) dtype=float32_ref>, <tf.Variable 'Variable_3:0' shape=(64,) dtype=float32_ref>, <tf.Variable 'Variable_4:0' shape=(3136, 1024) dtype=float32_ref>, <tf.Variable 'Variable_5:0' shape=(1024,) dtype=float32_ref>, <tf.Variable 'Variable_6:0' shape=(1024, 10) dtype=float32_ref>, <tf.Variable 'Variable_7:0' shape=(10,) dtype=float32_ref>, <tf.Variable 'beta1_power:0' shape=() dtype=float32_ref>, <tf.Variable 'beta2_power:0' shape=() dtype=float32_ref>, <tf.Variable 'Variable/Adam:0' shape=(5, 5, 1, 32) dtype=float32_ref>, <tf.Variable 'Variable/Adam_1:0' shape=(5, 5, 1, 32) dtype=float32_ref>, <tf.Variable 'Variable_1/Adam:0' shape=(32,) dtype=float32_ref>, <tf.Variable 'Variable_1/Adam_1:0' shape=(32,) dtype=float32_ref>, <tf.Variable 'Variable_2/Adam:0' shape=(5, 5, 32, 64) dtype=float32_ref>, <tf.Variable 'Variable_2/Adam_1:0' shape=(5, 5, 32, 64) dtype=float32_ref>, <tf.Variable 'Variable_3/Adam:0' shape=(64,) dtype=float32_ref>, <tf.Variable 'Variable_3/Adam_1:0' shape=(64,) dtype=float32_ref>, <tf.Variable 'Variable_4/Adam:0' shape=(3136, 1024) dtype=float32_ref>, <tf.Variable 'Variable_4/Adam_1:0' shape=(3136, 1024) dtype=float32_ref>, <tf.Variable 'Variable_5/Adam:0' shape=(1024,) dtype=float32_ref>, <tf.Variable 'Variable_5/Adam_1:0' shape=(1024,) dtype=float32_ref>, <tf.Variable 'Variable_6/Adam:0' shape=(1024, 10) dtype=float32_ref>, <tf.Variable 'Variable_6/Adam_1:0' shape=(1024, 10) dtype=float32_ref>, <tf.Variable 'Variable_7/Adam:0' shape=(10,) dtype=float32_ref>, <tf.Variable 'Variable_7/Adam_1:0' shape=(10,) dtype=float32_ref>]\n"
     ]
    }
   ],
   "source": [
    "print(tf.global_variables())"
   ]
  },
  {
   "cell_type": "code",
   "execution_count": 8,
   "metadata": {},
   "outputs": [],
   "source": [
    "keep_prob = tf.get_default_graph().get_tensor_by_name(\"keep_prob:0\")\n",
    "x = tf.get_default_graph().get_tensor_by_name(\"x:0\")\n",
    "y_conv = tf.get_default_graph().get_tensor_by_name(\"y_conv:0\")\n",
    "y_conv_s = tf.get_default_graph().get_tensor_by_name(\"y_conv_s:0\")"
   ]
  },
  {
   "cell_type": "markdown",
   "metadata": {},
   "source": [
    "# Let's compute the geodesics.."
   ]
  },
  {
   "cell_type": "code",
   "execution_count": 9,
   "metadata": {},
   "outputs": [],
   "source": [
    "def two_to_one_index(tup):\n",
    "    return np.arange(784).reshape([28, 28])[tup]\n",
    "    "
   ]
  },
  {
   "cell_type": "code",
   "execution_count": 10,
   "metadata": {},
   "outputs": [
    {
     "data": {
      "text/plain": [
       "30"
      ]
     },
     "execution_count": 10,
     "metadata": {},
     "output_type": "execute_result"
    }
   ],
   "source": [
    "two_to_one_index((1,2))"
   ]
  },
  {
   "cell_type": "code",
   "execution_count": 11,
   "metadata": {},
   "outputs": [],
   "source": [
    "def make_pix_pic(coords=(14,14)):\n",
    "    init_pic = np.zeros(784)\n",
    "    init_pic = init_pic.reshape([28,28])\n",
    "    init_pic[coords] = 0.9\n",
    "    return init_pic.reshape(784)"
   ]
  },
  {
   "cell_type": "code",
   "execution_count": 12,
   "metadata": {},
   "outputs": [],
   "source": [
    "def apply_padding(x, unpadded_coords=[(14,12), (14, 13), (14,14)]):\n",
    "    pic = np.zeros([28, 28])\n",
    "    for i, coords in enumerate(unpadded_coords):\n",
    "        pic[coords] = x[i]\n",
    "    return pic.reshape(784)"
   ]
  },
  {
   "cell_type": "code",
   "execution_count": 13,
   "metadata": {},
   "outputs": [],
   "source": [
    "def shift_pic(pic, shift=4):\n",
    "    return np.roll(pic.reshape([28,28]), shift, axis=1).reshape([784,])"
   ]
  },
  {
   "cell_type": "code",
   "execution_count": 14,
   "metadata": {},
   "outputs": [],
   "source": [
    "def create_vec_tensor(categories, target = y_conv_s):\n",
    "    vec_tens = []\n",
    "    for i in range(categories):\n",
    "            vec_tens.append(tf.gradients(target[:,i], x)[0])\n",
    "    return vec_tens"
   ]
  },
  {
   "cell_type": "code",
   "execution_count": 15,
   "metadata": {},
   "outputs": [],
   "source": [
    "vec_tens = create_vec_tensor(10)\n",
    "def compute_vec_grad(pic, vec_tens):\n",
    "    var_grad = sess.run(vec_tens, feed_dict={x: pic.reshape([1,len(pic)]), keep_prob: 1.0})\n",
    "    return np.asarray(var_grad).reshape([10, 784])"
   ]
  },
  {
   "cell_type": "code",
   "execution_count": 16,
   "metadata": {},
   "outputs": [],
   "source": [
    "def create_vec_hessian(categories, target = y_conv_s):\n",
    "    vec_hes = []\n",
    "    for i in range(categories):\n",
    "            vec_hes.append(tf.hessians(target[:,i], x)[0])\n",
    "    return vec_hes"
   ]
  },
  {
   "cell_type": "code",
   "execution_count": 17,
   "metadata": {},
   "outputs": [],
   "source": [
    "vec_hes = create_vec_hessian(10)\n",
    "def compute_vec_hessian(pic, vec_hes):\n",
    "    var_hessian = sess.run(vec_hes, feed_dict={x: pic.reshape([1,len(pic)]), keep_prob: 1.0})\n",
    "    return np.asarray(var_hessian).reshape([784, 784, 10])"
   ]
  },
  {
   "cell_type": "code",
   "execution_count": 18,
   "metadata": {},
   "outputs": [],
   "source": [
    "def compute_metric(pic, compute_vec_grad=compute_vec_grad, alpha=0.01):\n",
    "    vec_grad = compute_vec_grad(pic, vec_tens)\n",
    "    #vec_grad = vec_grad/np.sqrt(np.sum(vec_grad**2, axis=1)).reshape([10,1])\n",
    "    return alpha*np.identity(784) + np.dot(np.transpose(vec_grad),vec_grad)"
   ]
  },
  {
   "cell_type": "code",
   "execution_count": 19,
   "metadata": {},
   "outputs": [],
   "source": [
    "def compute_grad_metric(pic, compute_vec_grad=compute_vec_grad,\n",
    "                        compute_vec_hessian=compute_vec_hessian):\n",
    "    vec_grad = compute_vec_grad(pic, vec_tens)\n",
    "    #vec_grad = vec_grad/np.sqrt(np.sum(vec_grad**2, axis=1)).reshape([10,1])\n",
    "    vec_hessian = compute_vec_hessian(pic, vec_hes)\n",
    "    hess_mult_grad = np.dot(vec_hessian, vec_grad)\n",
    "    #still need to symmetrize, computes grad_k g^{ij} (first axis is grad, second 2 are g)\n",
    "    return hess_mult_grad + np.swapaxes(hess_mult_grad, 1, 2)"
   ]
  },
  {
   "cell_type": "code",
   "execution_count": 20,
   "metadata": {},
   "outputs": [],
   "source": [
    "def point_shift_integrand(start_pic, end_pic, t, metric=compute_metric, grad_metric=compute_grad_metric):\n",
    "    curr_pic = (1-t)*start_pic + t*end_pic \n",
    "    numerator = np.dot(2*metric(curr_pic), end_pic-start_pic) + t*np.dot(np.dot(grad_metric(curr_pic),end_pic-start_pic), end_pic-start_pic)\n",
    "    denominator = 2*np.sqrt( np.dot( np.dot(end_pic-start_pic, metric(curr_pic)), end_pic-start_pic))\n",
    "    return numerator/denominator"
   ]
  },
  {
   "cell_type": "code",
   "execution_count": 21,
   "metadata": {},
   "outputs": [],
   "source": [
    "def segment_shift_integrand(midpoint, leftpoint, rightpoint, t): \n",
    "    return point_shift_integrand(start_pic=leftpoint, end_pic=midpoint, t=t) + point_shift_integrand(start_pic=midpoint, end_pic=rightpoint, t=t)"
   ]
  },
  {
   "cell_type": "code",
   "execution_count": 22,
   "metadata": {},
   "outputs": [
    {
     "data": {
      "text/plain": [
       "array([[0, 1],\n",
       "       [2, 3]])"
      ]
     },
     "execution_count": 22,
     "metadata": {},
     "output_type": "execute_result"
    }
   ],
   "source": [
    "np.arange(4).reshape([2,2])"
   ]
  },
  {
   "cell_type": "code",
   "execution_count": 23,
   "metadata": {},
   "outputs": [],
   "source": [
    "def compute_point_shift_grad(midpoint, leftpoint, rightpoint, pix_to_shift=[(14,12), (14,13), (14,14)]):\n",
    "    acc = []\n",
    "    for pix, index in enumerate(pix_to_shift):\n",
    "        print(\"cur pixel: \", pix)\n",
    "        acc.append(integrate.romberg(lambda t: segment_shift_integrand(midpoint, leftpoint, rightpoint, t)[two_to_one_index(index)], 0, 1, tol=1e-1,rtol=1e-5))\n",
    "    print('shift grad:', acc)\n",
    "    return np.asarray(acc)\n",
    "    #return integrate.romberg(lambda t: segment_shift_integrand(midpoint, leftpoint, rightpoint, t), 0, 1)\n",
    "    #return segment_shift_integrand(midpoint, leftpoint, rightpoint, 0)\n",
    "    "
   ]
  },
  {
   "cell_type": "code",
   "execution_count": 24,
   "metadata": {},
   "outputs": [],
   "source": [
    "def interp_integrand(start_pic, end_pic, t, metric=compute_metric):\n",
    "    curr_pic = (1-t)*start_pic + t*end_pic \n",
    "    return np.sqrt( np.dot( np.dot(end_pic-start_pic, metric(curr_pic)), end_pic-start_pic))\n",
    "\n",
    "def mid_func(midpoint, startpoint, endpoint, metric=compute_metric):\n",
    "    i = integrate.romberg(lambda t: interp_integrand(startpoint, midpoint, t) + interp_integrand(midpoint, endpoint, t),0,1, tol=1e-1, rtol=1e-4)\n",
    "    return i"
   ]
  },
  {
   "cell_type": "code",
   "execution_count": 25,
   "metadata": {},
   "outputs": [],
   "source": [
    "def minimize_length_step(point_index, geod):\n",
    "    grad_L = lambda x: compute_point_shift_grad(apply_padding(x), geod[point_index-1,:], geod[point_index+1,:])\n",
    "    bounds = [(0,1)]*3\n",
    "    print('begin opt')\n",
    "    soln = optimize.fmin_tnc(lambda x: mid_func(apply_padding(x), geod[point_index-1,:], geod[point_index+1,:]), x0=[0.05,0.9,0.05], fprime=grad_L, bounds=bounds, disp=5)    \n",
    "    print('end opt')\n",
    "    print('result was: ', soln)\n",
    "    return apply_padding(soln[0])"
   ]
  },
  {
   "cell_type": "code",
   "execution_count": 26,
   "metadata": {},
   "outputs": [],
   "source": [
    "#returns the geodesic with first index being the pt index and second being the actual point (or picture in the mnist case)\n",
    "def divide(startpoint, endpoint, num_div):\n",
    "    pt_divs = np.linspace(0, 1, num=num_div)\n",
    "\n",
    "    geod = np.ones(len(pt_divs)).reshape([len(pt_divs),1])*startpoint.reshape([1,len(startpoint)]) + pt_divs.reshape([len(pt_divs),1])*(endpoint-startpoint).reshape([1,len(startpoint)])\n",
    "    return pt_divs, geod"
   ]
  },
  {
   "cell_type": "code",
   "execution_count": 27,
   "metadata": {},
   "outputs": [],
   "source": [
    "def compute_geodesic(startpoint, endpoint, num_div):\n",
    "    grid, geod = divide(startpoint, endpoint, num_div)\n",
    "    for pt_index in range(len(grid))[1:-1]:\n",
    "        geod[pt_index] = minimize_length_step(pt_index, geod)\n",
    "    return geod"
   ]
  },
  {
   "cell_type": "code",
   "execution_count": 28,
   "metadata": {},
   "outputs": [],
   "source": [
    "start_pic = shift_pic(make_pix_pic(),shift=-2)\n",
    "end_pic = make_pix_pic()"
   ]
  },
  {
   "cell_type": "code",
   "execution_count": 29,
   "metadata": {},
   "outputs": [
    {
     "name": "stdout",
     "output_type": "stream",
     "text": [
      "begin opt\n",
      "cur pixel:  0\n",
      "cur pixel:  1\n",
      "cur pixel:  2\n",
      "shift grad: [-0.19151937265837116, -0.01559919942069593, 0.09761882284277032]\n",
      "cur pixel:  0\n",
      "cur pixel:  1\n",
      "cur pixel:  2\n",
      "shift grad: [-0.1915194262453024, -0.015599150427028466, 0.09761881861194695]\n",
      "cur pixel:  0\n",
      "cur pixel:  1\n",
      "cur pixel:  2\n",
      "shift grad: [-0.21302135883354695, -0.08031376668518259, 0.07124170114341905]\n",
      "cur pixel:  0\n",
      "cur pixel:  1\n",
      "cur pixel:  2\n",
      "shift grad: [-0.2575133076346503, -0.07803636328156799, 0.055298917211639036]\n",
      "cur pixel:  0\n",
      "cur pixel:  1\n",
      "cur pixel:  2\n",
      "shift grad: [-0.21568918609596022, -0.019502501341947105, 0.07227570912227912]\n",
      "cur pixel:  0\n",
      "cur pixel:  1\n",
      "cur pixel:  2\n",
      "shift grad: [-0.1922586248795485, -0.007520337488936148, 0.10310151250558278]\n",
      "cur pixel:  0\n",
      "cur pixel:  1\n",
      "cur pixel:  2\n",
      "shift grad: [-0.2188811926122267, -0.021020948234038463, 0.0961644317696401]\n",
      "cur pixel:  0\n",
      "cur pixel:  1\n",
      "cur pixel:  2\n",
      "shift grad: [-0.20369701425457576, -0.006884492994777197, 0.1000024217770205]\n",
      "cur pixel:  0\n",
      "cur pixel:  1\n",
      "cur pixel:  2\n",
      "shift grad: [-0.19321426510525647, -0.007334531474433294, 0.100324745582804]\n",
      "cur pixel:  0\n",
      "cur pixel:  1\n",
      "cur pixel:  2\n",
      "shift grad: [-0.19328653119910857, -0.007427597759370334, 0.10033089632329381]\n",
      "cur pixel:  0\n",
      "cur pixel:  1\n",
      "cur pixel:  2\n",
      "shift grad: [-0.19325059381961102, -0.007381061368285272, 0.10032778837205644]\n",
      "cur pixel:  0\n",
      "cur pixel:  1\n",
      "cur pixel:  2\n",
      "shift grad: [-0.19326853754342208, -0.0074043819268496775, 0.10032935053565163]\n",
      "cur pixel:  0\n",
      "cur pixel:  1\n",
      "cur pixel:  2\n",
      "shift grad: [-0.19327752852401628, -0.007415913093001418, 0.10033016018570105]\n",
      "cur pixel:  0\n",
      "cur pixel:  1\n",
      "cur pixel:  2\n",
      "shift grad: [-0.1932820396112362, -0.007421783166859888, 0.10033050012242614]\n",
      "cur pixel:  0\n",
      "cur pixel:  1\n",
      "cur pixel:  2\n",
      "shift grad: [-0.19328427549374005, -0.007424712397624318, 0.10033071035495114]\n",
      "cur pixel:  0\n",
      "cur pixel:  1\n",
      "cur pixel:  2\n",
      "shift grad: [-0.19328538847376445, -0.007426163487377606, 0.10033081315751913]\n",
      "cur pixel:  0\n",
      "cur pixel:  1\n",
      "cur pixel:  2\n",
      "shift grad: [-0.19328600264323945, -0.0074268775994837345, 0.10033087944839547]\n",
      "cur pixel:  0\n",
      "cur pixel:  1\n",
      "cur pixel:  2\n",
      "shift grad: [-0.1932862168740038, -0.00742727084336979, 0.10033085938843649]\n",
      "cur pixel:  0\n",
      "cur pixel:  1\n",
      "cur pixel:  2\n",
      "shift grad: [-0.1932863755589149, -0.007427483389261404, 0.10033089404727964]\n",
      "cur pixel:  0\n",
      "cur pixel:  1\n",
      "cur pixel:  2\n",
      "shift grad: [-0.19328649655127525, -0.007427522356019733, 0.100330897998907]\n",
      "cur pixel:  0\n",
      "cur pixel:  1\n",
      "cur pixel:  2\n",
      "shift grad: [-0.19328648591457984, -0.007427538797193591, 0.10033087432904889]\n",
      "cur pixel:  0\n",
      "cur pixel:  1\n",
      "cur pixel:  2\n",
      "shift grad: [-0.1932865564705428, -0.007427625172533786, 0.10033087716486107]\n",
      "cur pixel:  0\n",
      "cur pixel:  1\n",
      "cur pixel:  2\n",
      "shift grad: [-0.1932864703774654, -0.007427562058929961, 0.10033091755633877]\n",
      "cur pixel:  0\n",
      "cur pixel:  1\n",
      "cur pixel:  2\n",
      "shift grad: [-0.19328647930572612, -0.007427568447909386, 0.10033093059607431]\n",
      "cur pixel:  0\n",
      "cur pixel:  1\n",
      "cur pixel:  2\n",
      "shift grad: [-0.1932865232515858, -0.00742756826744792, 0.10033093967393115]\n",
      "cur pixel:  0\n",
      "cur pixel:  1\n",
      "cur pixel:  2\n",
      "shift grad: [-0.19328655976923195, -0.007427570064816776, 0.10033088731487902]\n",
      "cur pixel:  0\n",
      "cur pixel:  1\n",
      "cur pixel:  2\n",
      "shift grad: [-0.19328653250221825, -0.0074276128451390795, 0.10033087809665125]\n",
      "cur pixel:  0\n",
      "cur pixel:  1\n",
      "cur pixel:  2\n",
      "shift grad: [-0.19328656007387177, -0.007427570541622408, 0.10033088736595523]\n",
      "cur pixel:  0\n",
      "cur pixel:  1\n",
      "cur pixel:  2\n",
      "shift grad: [-0.1932865227735982, -0.007427578247215581, 0.10033092002703951]\n",
      "cur pixel:  0\n",
      "cur pixel:  1\n",
      "cur pixel:  2\n",
      "shift grad: [-0.20657132854577392, -0.025297318483905495, 0.03886040071853531]\n",
      "cur pixel:  0\n",
      "cur pixel:  1\n",
      "cur pixel:  2\n",
      "shift grad: [-0.2421469412200193, -0.0552948465991042, 0.03361306069472613]\n",
      "cur pixel:  0\n",
      "cur pixel:  1\n",
      "cur pixel:  2\n",
      "shift grad: [-0.27830258223012205, -0.06916268483018848, 0.049520841514342544]\n",
      "cur pixel:  0\n",
      "cur pixel:  1\n",
      "cur pixel:  2\n",
      "shift grad: [-0.23382992955874474, -0.036226648266966595, 0.067907990411081]\n",
      "cur pixel:  0\n",
      "cur pixel:  1\n",
      "cur pixel:  2\n",
      "shift grad: [-0.22510401996784288, -0.03104177920927369, 0.09302255586752867]\n",
      "cur pixel:  0\n",
      "cur pixel:  1\n",
      "cur pixel:  2\n",
      "shift grad: [-0.20349267124534076, -0.01682565545096539, 0.09764074966803198]\n",
      "cur pixel:  0\n",
      "cur pixel:  1\n",
      "cur pixel:  2\n",
      "shift grad: [-0.19528180114251498, -0.016974533232782987, 0.0987285405090688]\n",
      "cur pixel:  0\n",
      "cur pixel:  1\n",
      "cur pixel:  2\n",
      "shift grad: [-0.19314316290649183, -0.007357915148146789, 0.10028164892406849]\n",
      "cur pixel:  0\n",
      "cur pixel:  1\n",
      "cur pixel:  2\n",
      "shift grad: [-0.19321517171590685, -0.007392873832037142, 0.10030615866026246]\n",
      "cur pixel:  0\n",
      "cur pixel:  1\n",
      "cur pixel:  2\n",
      "shift grad: [-0.19325087854500544, -0.007410259363952579, 0.10031852906921522]\n",
      "cur pixel:  0\n",
      "cur pixel:  1\n",
      "cur pixel:  2\n",
      "shift grad: [-0.1932688155233304, -0.007418985979837543, 0.10032472246095242]\n",
      "cur pixel:  0\n",
      "cur pixel:  1\n",
      "cur pixel:  2\n",
      "shift grad: [-0.1932776621889087, -0.0074233038551268045, 0.10032781234347646]\n",
      "cur pixel:  0\n",
      "cur pixel:  1\n",
      "cur pixel:  2\n",
      "shift grad: [-0.19328211180601115, -0.007425425896207992, 0.10032935156745658]\n",
      "cur pixel:  0\n",
      "cur pixel:  1\n",
      "cur pixel:  2\n",
      "shift grad: [-0.1932842907596077, -0.007426492562991156, 0.10033010646945302]\n",
      "cur pixel:  0\n",
      "cur pixel:  1\n",
      "cur pixel:  2\n",
      "shift grad: [-0.19328544195093342, -0.007427064393176521, 0.10033055970652331]\n",
      "cur pixel:  0\n",
      "cur pixel:  1\n",
      "cur pixel:  2\n",
      "shift grad: [-0.19328605878218116, -0.007427386745722228, 0.10033066158602941]\n",
      "cur pixel:  0\n",
      "cur pixel:  1\n",
      "cur pixel:  2\n",
      "shift grad: [-0.19328621412827818, -0.0074275438217890205, 0.10033081254414969]\n",
      "cur pixel:  0\n",
      "cur pixel:  1\n",
      "cur pixel:  2\n",
      "shift grad: [-0.19328639978214615, -0.007427509355995667, 0.10033087158229907]\n",
      "cur pixel:  0\n",
      "cur pixel:  1\n",
      "cur pixel:  2\n",
      "shift grad: [-0.19328652542793065, -0.007427596023831441, 0.10033082043587137]\n",
      "cur pixel:  0\n",
      "cur pixel:  1\n",
      "cur pixel:  2\n",
      "shift grad: [-0.1932864629033263, -0.007427567659734652, 0.1003309046289664]\n",
      "cur pixel:  0\n",
      "cur pixel:  1\n",
      "cur pixel:  2\n",
      "shift grad: [-0.19328650508755654, -0.007427607025799726, 0.10033092942855801]\n",
      "cur pixel:  0\n",
      "cur pixel:  1\n",
      "cur pixel:  2\n",
      "shift grad: [-0.19328651833286295, -0.007427595444087197, 0.10033091786739738]\n",
      "cur pixel:  0\n",
      "cur pixel:  1\n",
      "cur pixel:  2\n",
      "shift grad: [-0.1932864951878924, -0.007427575811359277, 0.10033093802729247]\n",
      "cur pixel:  0\n",
      "cur pixel:  1\n",
      "cur pixel:  2\n",
      "shift grad: [-0.19328651302761876, -0.00742760150164995, 0.10033090249836411]\n",
      "cur pixel:  0\n",
      "cur pixel:  1\n",
      "cur pixel:  2\n",
      "shift grad: [-0.19328655894657956, -0.007427570074587178, 0.10033088698301798]\n",
      "cur pixel:  0\n",
      "cur pixel:  1\n",
      "cur pixel:  2\n",
      "shift grad: [-0.19328655966254557, -0.007427570546507657, 0.10033088720002474]\n",
      "cur pixel:  0\n",
      "cur pixel:  1\n",
      "cur pixel:  2\n",
      "shift grad: [-0.19328652530338186, -0.007427610061617536, 0.1003308824566133]\n",
      "cur pixel:  0\n",
      "cur pixel:  1\n",
      "cur pixel:  2\n",
      "shift grad: [-0.1932865321955592, -0.00742761017959763, 0.10033085858887118]\n",
      "cur pixel:  0\n",
      "cur pixel:  1\n"
     ]
    },
    {
     "ename": "KeyboardInterrupt",
     "evalue": "",
     "output_type": "error",
     "traceback": [
      "\u001b[0;31m---------------------------------------------------------------------------\u001b[0m",
      "\u001b[0;31mKeyboardInterrupt\u001b[0m                         Traceback (most recent call last)",
      "\u001b[0;32m<ipython-input-29-8e0c8c0784ef>\u001b[0m in \u001b[0;36m<module>\u001b[0;34m()\u001b[0m\n\u001b[0;32m----> 1\u001b[0;31m \u001b[0mg\u001b[0m \u001b[0;34m=\u001b[0m \u001b[0mcompute_geodesic\u001b[0m\u001b[0;34m(\u001b[0m\u001b[0mstart_pic\u001b[0m\u001b[0;34m,\u001b[0m \u001b[0mend_pic\u001b[0m\u001b[0;34m,\u001b[0m \u001b[0;36m3\u001b[0m\u001b[0;34m)\u001b[0m\u001b[0;34m\u001b[0m\u001b[0m\n\u001b[0m",
      "\u001b[0;32m<ipython-input-27-815fd584f5fb>\u001b[0m in \u001b[0;36mcompute_geodesic\u001b[0;34m(startpoint, endpoint, num_div)\u001b[0m\n\u001b[1;32m      2\u001b[0m     \u001b[0mgrid\u001b[0m\u001b[0;34m,\u001b[0m \u001b[0mgeod\u001b[0m \u001b[0;34m=\u001b[0m \u001b[0mdivide\u001b[0m\u001b[0;34m(\u001b[0m\u001b[0mstartpoint\u001b[0m\u001b[0;34m,\u001b[0m \u001b[0mendpoint\u001b[0m\u001b[0;34m,\u001b[0m \u001b[0mnum_div\u001b[0m\u001b[0;34m)\u001b[0m\u001b[0;34m\u001b[0m\u001b[0m\n\u001b[1;32m      3\u001b[0m     \u001b[0;32mfor\u001b[0m \u001b[0mpt_index\u001b[0m \u001b[0;32min\u001b[0m \u001b[0mrange\u001b[0m\u001b[0;34m(\u001b[0m\u001b[0mlen\u001b[0m\u001b[0;34m(\u001b[0m\u001b[0mgrid\u001b[0m\u001b[0;34m)\u001b[0m\u001b[0;34m)\u001b[0m\u001b[0;34m[\u001b[0m\u001b[0;36m1\u001b[0m\u001b[0;34m:\u001b[0m\u001b[0;34m-\u001b[0m\u001b[0;36m1\u001b[0m\u001b[0;34m]\u001b[0m\u001b[0;34m:\u001b[0m\u001b[0;34m\u001b[0m\u001b[0m\n\u001b[0;32m----> 4\u001b[0;31m         \u001b[0mgeod\u001b[0m\u001b[0;34m[\u001b[0m\u001b[0mpt_index\u001b[0m\u001b[0;34m]\u001b[0m \u001b[0;34m=\u001b[0m \u001b[0mminimize_length_step\u001b[0m\u001b[0;34m(\u001b[0m\u001b[0mpt_index\u001b[0m\u001b[0;34m,\u001b[0m \u001b[0mgeod\u001b[0m\u001b[0;34m)\u001b[0m\u001b[0;34m\u001b[0m\u001b[0m\n\u001b[0m\u001b[1;32m      5\u001b[0m     \u001b[0;32mreturn\u001b[0m \u001b[0mgeod\u001b[0m\u001b[0;34m\u001b[0m\u001b[0m\n",
      "\u001b[0;32m<ipython-input-25-27a6f5ac2814>\u001b[0m in \u001b[0;36mminimize_length_step\u001b[0;34m(point_index, geod)\u001b[0m\n\u001b[1;32m      3\u001b[0m     \u001b[0mbounds\u001b[0m \u001b[0;34m=\u001b[0m \u001b[0;34m[\u001b[0m\u001b[0;34m(\u001b[0m\u001b[0;36m0\u001b[0m\u001b[0;34m,\u001b[0m\u001b[0;36m1\u001b[0m\u001b[0;34m)\u001b[0m\u001b[0;34m]\u001b[0m\u001b[0;34m*\u001b[0m\u001b[0;36m3\u001b[0m\u001b[0;34m\u001b[0m\u001b[0m\n\u001b[1;32m      4\u001b[0m     \u001b[0mprint\u001b[0m\u001b[0;34m(\u001b[0m\u001b[0;34m'begin opt'\u001b[0m\u001b[0;34m)\u001b[0m\u001b[0;34m\u001b[0m\u001b[0m\n\u001b[0;32m----> 5\u001b[0;31m     \u001b[0msoln\u001b[0m \u001b[0;34m=\u001b[0m \u001b[0moptimize\u001b[0m\u001b[0;34m.\u001b[0m\u001b[0mfmin_tnc\u001b[0m\u001b[0;34m(\u001b[0m\u001b[0;32mlambda\u001b[0m \u001b[0mx\u001b[0m\u001b[0;34m:\u001b[0m \u001b[0mmid_func\u001b[0m\u001b[0;34m(\u001b[0m\u001b[0mapply_padding\u001b[0m\u001b[0;34m(\u001b[0m\u001b[0mx\u001b[0m\u001b[0;34m)\u001b[0m\u001b[0;34m,\u001b[0m \u001b[0mgeod\u001b[0m\u001b[0;34m[\u001b[0m\u001b[0mpoint_index\u001b[0m\u001b[0;34m-\u001b[0m\u001b[0;36m1\u001b[0m\u001b[0;34m,\u001b[0m\u001b[0;34m:\u001b[0m\u001b[0;34m]\u001b[0m\u001b[0;34m,\u001b[0m \u001b[0mgeod\u001b[0m\u001b[0;34m[\u001b[0m\u001b[0mpoint_index\u001b[0m\u001b[0;34m+\u001b[0m\u001b[0;36m1\u001b[0m\u001b[0;34m,\u001b[0m\u001b[0;34m:\u001b[0m\u001b[0;34m]\u001b[0m\u001b[0;34m)\u001b[0m\u001b[0;34m,\u001b[0m \u001b[0mx0\u001b[0m\u001b[0;34m=\u001b[0m\u001b[0;34m[\u001b[0m\u001b[0;36m0.05\u001b[0m\u001b[0;34m,\u001b[0m\u001b[0;36m0.9\u001b[0m\u001b[0;34m,\u001b[0m\u001b[0;36m0.05\u001b[0m\u001b[0;34m]\u001b[0m\u001b[0;34m,\u001b[0m \u001b[0mfprime\u001b[0m\u001b[0;34m=\u001b[0m\u001b[0mgrad_L\u001b[0m\u001b[0;34m,\u001b[0m \u001b[0mbounds\u001b[0m\u001b[0;34m=\u001b[0m\u001b[0mbounds\u001b[0m\u001b[0;34m,\u001b[0m \u001b[0mdisp\u001b[0m\u001b[0;34m=\u001b[0m\u001b[0;36m5\u001b[0m\u001b[0;34m)\u001b[0m\u001b[0;34m\u001b[0m\u001b[0m\n\u001b[0m\u001b[1;32m      6\u001b[0m     \u001b[0mprint\u001b[0m\u001b[0;34m(\u001b[0m\u001b[0;34m'end opt'\u001b[0m\u001b[0;34m)\u001b[0m\u001b[0;34m\u001b[0m\u001b[0m\n\u001b[1;32m      7\u001b[0m     \u001b[0mprint\u001b[0m\u001b[0;34m(\u001b[0m\u001b[0;34m'result was: '\u001b[0m\u001b[0;34m,\u001b[0m \u001b[0msoln\u001b[0m\u001b[0;34m)\u001b[0m\u001b[0;34m\u001b[0m\u001b[0m\n",
      "\u001b[0;32m~/.local/share/virtualenvs/python-_2MbXz7b/lib/python3.6/site-packages/scipy/optimize/tnc.py\u001b[0m in \u001b[0;36mfmin_tnc\u001b[0;34m(func, x0, fprime, args, approx_grad, bounds, epsilon, scale, offset, messages, maxCGit, maxfun, eta, stepmx, accuracy, fmin, ftol, xtol, pgtol, rescale, disp, callback)\u001b[0m\n\u001b[1;32m    273\u001b[0m             'disp': False}\n\u001b[1;32m    274\u001b[0m \u001b[0;34m\u001b[0m\u001b[0m\n\u001b[0;32m--> 275\u001b[0;31m     \u001b[0mres\u001b[0m \u001b[0;34m=\u001b[0m \u001b[0m_minimize_tnc\u001b[0m\u001b[0;34m(\u001b[0m\u001b[0mfun\u001b[0m\u001b[0;34m,\u001b[0m \u001b[0mx0\u001b[0m\u001b[0;34m,\u001b[0m \u001b[0margs\u001b[0m\u001b[0;34m,\u001b[0m \u001b[0mjac\u001b[0m\u001b[0;34m,\u001b[0m \u001b[0mbounds\u001b[0m\u001b[0;34m,\u001b[0m \u001b[0mcallback\u001b[0m\u001b[0;34m=\u001b[0m\u001b[0mcallback\u001b[0m\u001b[0;34m,\u001b[0m \u001b[0;34m**\u001b[0m\u001b[0mopts\u001b[0m\u001b[0;34m)\u001b[0m\u001b[0;34m\u001b[0m\u001b[0m\n\u001b[0m\u001b[1;32m    276\u001b[0m \u001b[0;34m\u001b[0m\u001b[0m\n\u001b[1;32m    277\u001b[0m     \u001b[0;32mreturn\u001b[0m \u001b[0mres\u001b[0m\u001b[0;34m[\u001b[0m\u001b[0;34m'x'\u001b[0m\u001b[0;34m]\u001b[0m\u001b[0;34m,\u001b[0m \u001b[0mres\u001b[0m\u001b[0;34m[\u001b[0m\u001b[0;34m'nfev'\u001b[0m\u001b[0;34m]\u001b[0m\u001b[0;34m,\u001b[0m \u001b[0mres\u001b[0m\u001b[0;34m[\u001b[0m\u001b[0;34m'status'\u001b[0m\u001b[0;34m]\u001b[0m\u001b[0;34m\u001b[0m\u001b[0m\n",
      "\u001b[0;32m~/.local/share/virtualenvs/python-_2MbXz7b/lib/python3.6/site-packages/scipy/optimize/tnc.py\u001b[0m in \u001b[0;36m_minimize_tnc\u001b[0;34m(fun, x0, args, jac, bounds, eps, scale, offset, mesg_num, maxCGit, maxiter, eta, stepmx, accuracy, minfev, ftol, xtol, gtol, rescale, disp, callback, **unknown_options)\u001b[0m\n\u001b[1;32m    407\u001b[0m                                         \u001b[0moffset\u001b[0m\u001b[0;34m,\u001b[0m \u001b[0mmessages\u001b[0m\u001b[0;34m,\u001b[0m \u001b[0mmaxCGit\u001b[0m\u001b[0;34m,\u001b[0m \u001b[0mmaxfun\u001b[0m\u001b[0;34m,\u001b[0m\u001b[0;34m\u001b[0m\u001b[0m\n\u001b[1;32m    408\u001b[0m                                         \u001b[0meta\u001b[0m\u001b[0;34m,\u001b[0m \u001b[0mstepmx\u001b[0m\u001b[0;34m,\u001b[0m \u001b[0maccuracy\u001b[0m\u001b[0;34m,\u001b[0m \u001b[0mfmin\u001b[0m\u001b[0;34m,\u001b[0m \u001b[0mftol\u001b[0m\u001b[0;34m,\u001b[0m\u001b[0;34m\u001b[0m\u001b[0m\n\u001b[0;32m--> 409\u001b[0;31m                                         xtol, pgtol, rescale, callback)\n\u001b[0m\u001b[1;32m    410\u001b[0m \u001b[0;34m\u001b[0m\u001b[0m\n\u001b[1;32m    411\u001b[0m     \u001b[0mfunv\u001b[0m\u001b[0;34m,\u001b[0m \u001b[0mjacv\u001b[0m \u001b[0;34m=\u001b[0m \u001b[0mfunc_and_grad\u001b[0m\u001b[0;34m(\u001b[0m\u001b[0mx\u001b[0m\u001b[0;34m)\u001b[0m\u001b[0;34m\u001b[0m\u001b[0m\n",
      "\u001b[0;32m~/.local/share/virtualenvs/python-_2MbXz7b/lib/python3.6/site-packages/scipy/optimize/tnc.py\u001b[0m in \u001b[0;36mfunc_and_grad\u001b[0;34m(x)\u001b[0m\n\u001b[1;32m    370\u001b[0m         \u001b[0;32mdef\u001b[0m \u001b[0mfunc_and_grad\u001b[0m\u001b[0;34m(\u001b[0m\u001b[0mx\u001b[0m\u001b[0;34m)\u001b[0m\u001b[0;34m:\u001b[0m\u001b[0;34m\u001b[0m\u001b[0m\n\u001b[1;32m    371\u001b[0m             \u001b[0mf\u001b[0m \u001b[0;34m=\u001b[0m \u001b[0mfun\u001b[0m\u001b[0;34m(\u001b[0m\u001b[0mx\u001b[0m\u001b[0;34m,\u001b[0m \u001b[0;34m*\u001b[0m\u001b[0margs\u001b[0m\u001b[0;34m)\u001b[0m\u001b[0;34m\u001b[0m\u001b[0m\n\u001b[0;32m--> 372\u001b[0;31m             \u001b[0mg\u001b[0m \u001b[0;34m=\u001b[0m \u001b[0mjac\u001b[0m\u001b[0;34m(\u001b[0m\u001b[0mx\u001b[0m\u001b[0;34m,\u001b[0m \u001b[0;34m*\u001b[0m\u001b[0margs\u001b[0m\u001b[0;34m)\u001b[0m\u001b[0;34m\u001b[0m\u001b[0m\n\u001b[0m\u001b[1;32m    373\u001b[0m             \u001b[0;32mreturn\u001b[0m \u001b[0mf\u001b[0m\u001b[0;34m,\u001b[0m \u001b[0mg\u001b[0m\u001b[0;34m\u001b[0m\u001b[0m\n\u001b[1;32m    374\u001b[0m \u001b[0;34m\u001b[0m\u001b[0m\n",
      "\u001b[0;32m<ipython-input-25-27a6f5ac2814>\u001b[0m in \u001b[0;36m<lambda>\u001b[0;34m(x)\u001b[0m\n\u001b[1;32m      1\u001b[0m \u001b[0;32mdef\u001b[0m \u001b[0mminimize_length_step\u001b[0m\u001b[0;34m(\u001b[0m\u001b[0mpoint_index\u001b[0m\u001b[0;34m,\u001b[0m \u001b[0mgeod\u001b[0m\u001b[0;34m)\u001b[0m\u001b[0;34m:\u001b[0m\u001b[0;34m\u001b[0m\u001b[0m\n\u001b[0;32m----> 2\u001b[0;31m     \u001b[0mgrad_L\u001b[0m \u001b[0;34m=\u001b[0m \u001b[0;32mlambda\u001b[0m \u001b[0mx\u001b[0m\u001b[0;34m:\u001b[0m \u001b[0mcompute_point_shift_grad\u001b[0m\u001b[0;34m(\u001b[0m\u001b[0mapply_padding\u001b[0m\u001b[0;34m(\u001b[0m\u001b[0mx\u001b[0m\u001b[0;34m)\u001b[0m\u001b[0;34m,\u001b[0m \u001b[0mgeod\u001b[0m\u001b[0;34m[\u001b[0m\u001b[0mpoint_index\u001b[0m\u001b[0;34m-\u001b[0m\u001b[0;36m1\u001b[0m\u001b[0;34m,\u001b[0m\u001b[0;34m:\u001b[0m\u001b[0;34m]\u001b[0m\u001b[0;34m,\u001b[0m \u001b[0mgeod\u001b[0m\u001b[0;34m[\u001b[0m\u001b[0mpoint_index\u001b[0m\u001b[0;34m+\u001b[0m\u001b[0;36m1\u001b[0m\u001b[0;34m,\u001b[0m\u001b[0;34m:\u001b[0m\u001b[0;34m]\u001b[0m\u001b[0;34m)\u001b[0m\u001b[0;34m\u001b[0m\u001b[0m\n\u001b[0m\u001b[1;32m      3\u001b[0m     \u001b[0mbounds\u001b[0m \u001b[0;34m=\u001b[0m \u001b[0;34m[\u001b[0m\u001b[0;34m(\u001b[0m\u001b[0;36m0\u001b[0m\u001b[0;34m,\u001b[0m\u001b[0;36m1\u001b[0m\u001b[0;34m)\u001b[0m\u001b[0;34m]\u001b[0m\u001b[0;34m*\u001b[0m\u001b[0;36m3\u001b[0m\u001b[0;34m\u001b[0m\u001b[0m\n\u001b[1;32m      4\u001b[0m     \u001b[0mprint\u001b[0m\u001b[0;34m(\u001b[0m\u001b[0;34m'begin opt'\u001b[0m\u001b[0;34m)\u001b[0m\u001b[0;34m\u001b[0m\u001b[0m\n\u001b[1;32m      5\u001b[0m     \u001b[0msoln\u001b[0m \u001b[0;34m=\u001b[0m \u001b[0moptimize\u001b[0m\u001b[0;34m.\u001b[0m\u001b[0mfmin_tnc\u001b[0m\u001b[0;34m(\u001b[0m\u001b[0;32mlambda\u001b[0m \u001b[0mx\u001b[0m\u001b[0;34m:\u001b[0m \u001b[0mmid_func\u001b[0m\u001b[0;34m(\u001b[0m\u001b[0mapply_padding\u001b[0m\u001b[0;34m(\u001b[0m\u001b[0mx\u001b[0m\u001b[0;34m)\u001b[0m\u001b[0;34m,\u001b[0m \u001b[0mgeod\u001b[0m\u001b[0;34m[\u001b[0m\u001b[0mpoint_index\u001b[0m\u001b[0;34m-\u001b[0m\u001b[0;36m1\u001b[0m\u001b[0;34m,\u001b[0m\u001b[0;34m:\u001b[0m\u001b[0;34m]\u001b[0m\u001b[0;34m,\u001b[0m \u001b[0mgeod\u001b[0m\u001b[0;34m[\u001b[0m\u001b[0mpoint_index\u001b[0m\u001b[0;34m+\u001b[0m\u001b[0;36m1\u001b[0m\u001b[0;34m,\u001b[0m\u001b[0;34m:\u001b[0m\u001b[0;34m]\u001b[0m\u001b[0;34m)\u001b[0m\u001b[0;34m,\u001b[0m \u001b[0mx0\u001b[0m\u001b[0;34m=\u001b[0m\u001b[0;34m[\u001b[0m\u001b[0;36m0.05\u001b[0m\u001b[0;34m,\u001b[0m\u001b[0;36m0.9\u001b[0m\u001b[0;34m,\u001b[0m\u001b[0;36m0.05\u001b[0m\u001b[0;34m]\u001b[0m\u001b[0;34m,\u001b[0m \u001b[0mfprime\u001b[0m\u001b[0;34m=\u001b[0m\u001b[0mgrad_L\u001b[0m\u001b[0;34m,\u001b[0m \u001b[0mbounds\u001b[0m\u001b[0;34m=\u001b[0m\u001b[0mbounds\u001b[0m\u001b[0;34m,\u001b[0m \u001b[0mdisp\u001b[0m\u001b[0;34m=\u001b[0m\u001b[0;36m5\u001b[0m\u001b[0;34m)\u001b[0m\u001b[0;34m\u001b[0m\u001b[0m\n",
      "\u001b[0;32m<ipython-input-23-e7638066a213>\u001b[0m in \u001b[0;36mcompute_point_shift_grad\u001b[0;34m(midpoint, leftpoint, rightpoint, pix_to_shift)\u001b[0m\n\u001b[1;32m      3\u001b[0m     \u001b[0;32mfor\u001b[0m \u001b[0mpix\u001b[0m\u001b[0;34m,\u001b[0m \u001b[0mindex\u001b[0m \u001b[0;32min\u001b[0m \u001b[0menumerate\u001b[0m\u001b[0;34m(\u001b[0m\u001b[0mpix_to_shift\u001b[0m\u001b[0;34m)\u001b[0m\u001b[0;34m:\u001b[0m\u001b[0;34m\u001b[0m\u001b[0m\n\u001b[1;32m      4\u001b[0m         \u001b[0mprint\u001b[0m\u001b[0;34m(\u001b[0m\u001b[0;34m\"cur pixel: \"\u001b[0m\u001b[0;34m,\u001b[0m \u001b[0mpix\u001b[0m\u001b[0;34m)\u001b[0m\u001b[0;34m\u001b[0m\u001b[0m\n\u001b[0;32m----> 5\u001b[0;31m         \u001b[0macc\u001b[0m\u001b[0;34m.\u001b[0m\u001b[0mappend\u001b[0m\u001b[0;34m(\u001b[0m\u001b[0mintegrate\u001b[0m\u001b[0;34m.\u001b[0m\u001b[0mromberg\u001b[0m\u001b[0;34m(\u001b[0m\u001b[0;32mlambda\u001b[0m \u001b[0mt\u001b[0m\u001b[0;34m:\u001b[0m \u001b[0msegment_shift_integrand\u001b[0m\u001b[0;34m(\u001b[0m\u001b[0mmidpoint\u001b[0m\u001b[0;34m,\u001b[0m \u001b[0mleftpoint\u001b[0m\u001b[0;34m,\u001b[0m \u001b[0mrightpoint\u001b[0m\u001b[0;34m,\u001b[0m \u001b[0mt\u001b[0m\u001b[0;34m)\u001b[0m\u001b[0;34m[\u001b[0m\u001b[0mtwo_to_one_index\u001b[0m\u001b[0;34m(\u001b[0m\u001b[0mindex\u001b[0m\u001b[0;34m)\u001b[0m\u001b[0;34m]\u001b[0m\u001b[0;34m,\u001b[0m \u001b[0;36m0\u001b[0m\u001b[0;34m,\u001b[0m \u001b[0;36m1\u001b[0m\u001b[0;34m,\u001b[0m \u001b[0mtol\u001b[0m\u001b[0;34m=\u001b[0m\u001b[0;36m1e-1\u001b[0m\u001b[0;34m,\u001b[0m\u001b[0mrtol\u001b[0m\u001b[0;34m=\u001b[0m\u001b[0;36m1e-5\u001b[0m\u001b[0;34m)\u001b[0m\u001b[0;34m)\u001b[0m\u001b[0;34m\u001b[0m\u001b[0m\n\u001b[0m\u001b[1;32m      6\u001b[0m     \u001b[0mprint\u001b[0m\u001b[0;34m(\u001b[0m\u001b[0;34m'shift grad:'\u001b[0m\u001b[0;34m,\u001b[0m \u001b[0macc\u001b[0m\u001b[0;34m)\u001b[0m\u001b[0;34m\u001b[0m\u001b[0m\n\u001b[1;32m      7\u001b[0m     \u001b[0;32mreturn\u001b[0m \u001b[0mnp\u001b[0m\u001b[0;34m.\u001b[0m\u001b[0masarray\u001b[0m\u001b[0;34m(\u001b[0m\u001b[0macc\u001b[0m\u001b[0;34m)\u001b[0m\u001b[0;34m\u001b[0m\u001b[0m\n",
      "\u001b[0;32m~/.local/share/virtualenvs/python-_2MbXz7b/lib/python3.6/site-packages/scipy/integrate/quadrature.py\u001b[0m in \u001b[0;36mromberg\u001b[0;34m(function, a, b, args, tol, rtol, show, divmax, vec_func)\u001b[0m\n\u001b[1;32m    735\u001b[0m     \u001b[0;32mfor\u001b[0m \u001b[0mi\u001b[0m \u001b[0;32min\u001b[0m \u001b[0mxrange\u001b[0m\u001b[0;34m(\u001b[0m\u001b[0;36m1\u001b[0m\u001b[0;34m,\u001b[0m \u001b[0mdivmax\u001b[0m\u001b[0;34m+\u001b[0m\u001b[0;36m1\u001b[0m\u001b[0;34m)\u001b[0m\u001b[0;34m:\u001b[0m\u001b[0;34m\u001b[0m\u001b[0m\n\u001b[1;32m    736\u001b[0m         \u001b[0mn\u001b[0m \u001b[0;34m*=\u001b[0m \u001b[0;36m2\u001b[0m\u001b[0;34m\u001b[0m\u001b[0m\n\u001b[0;32m--> 737\u001b[0;31m         \u001b[0mordsum\u001b[0m \u001b[0;34m+=\u001b[0m \u001b[0m_difftrap\u001b[0m\u001b[0;34m(\u001b[0m\u001b[0mvfunc\u001b[0m\u001b[0;34m,\u001b[0m \u001b[0minterval\u001b[0m\u001b[0;34m,\u001b[0m \u001b[0mn\u001b[0m\u001b[0;34m)\u001b[0m\u001b[0;34m\u001b[0m\u001b[0m\n\u001b[0m\u001b[1;32m    738\u001b[0m         \u001b[0mrow\u001b[0m \u001b[0;34m=\u001b[0m \u001b[0;34m[\u001b[0m\u001b[0mintrange\u001b[0m \u001b[0;34m*\u001b[0m \u001b[0mordsum\u001b[0m \u001b[0;34m/\u001b[0m \u001b[0mn\u001b[0m\u001b[0;34m]\u001b[0m\u001b[0;34m\u001b[0m\u001b[0m\n\u001b[1;32m    739\u001b[0m         \u001b[0;32mfor\u001b[0m \u001b[0mk\u001b[0m \u001b[0;32min\u001b[0m \u001b[0mxrange\u001b[0m\u001b[0;34m(\u001b[0m\u001b[0mi\u001b[0m\u001b[0;34m)\u001b[0m\u001b[0;34m:\u001b[0m\u001b[0;34m\u001b[0m\u001b[0m\n",
      "\u001b[0;32m~/.local/share/virtualenvs/python-_2MbXz7b/lib/python3.6/site-packages/scipy/integrate/quadrature.py\u001b[0m in \u001b[0;36m_difftrap\u001b[0;34m(function, interval, numtraps)\u001b[0m\n\u001b[1;32m    607\u001b[0m         \u001b[0mlox\u001b[0m \u001b[0;34m=\u001b[0m \u001b[0minterval\u001b[0m\u001b[0;34m[\u001b[0m\u001b[0;36m0\u001b[0m\u001b[0;34m]\u001b[0m \u001b[0;34m+\u001b[0m \u001b[0;36m0.5\u001b[0m \u001b[0;34m*\u001b[0m \u001b[0mh\u001b[0m\u001b[0;34m\u001b[0m\u001b[0m\n\u001b[1;32m    608\u001b[0m         \u001b[0mpoints\u001b[0m \u001b[0;34m=\u001b[0m \u001b[0mlox\u001b[0m \u001b[0;34m+\u001b[0m \u001b[0mh\u001b[0m \u001b[0;34m*\u001b[0m \u001b[0mnp\u001b[0m\u001b[0;34m.\u001b[0m\u001b[0marange\u001b[0m\u001b[0;34m(\u001b[0m\u001b[0mnumtosum\u001b[0m\u001b[0;34m)\u001b[0m\u001b[0;34m\u001b[0m\u001b[0m\n\u001b[0;32m--> 609\u001b[0;31m         \u001b[0ms\u001b[0m \u001b[0;34m=\u001b[0m \u001b[0mnp\u001b[0m\u001b[0;34m.\u001b[0m\u001b[0msum\u001b[0m\u001b[0;34m(\u001b[0m\u001b[0mfunction\u001b[0m\u001b[0;34m(\u001b[0m\u001b[0mpoints\u001b[0m\u001b[0;34m)\u001b[0m\u001b[0;34m,\u001b[0m \u001b[0maxis\u001b[0m\u001b[0;34m=\u001b[0m\u001b[0;36m0\u001b[0m\u001b[0;34m)\u001b[0m\u001b[0;34m\u001b[0m\u001b[0m\n\u001b[0m\u001b[1;32m    610\u001b[0m         \u001b[0;32mreturn\u001b[0m \u001b[0ms\u001b[0m\u001b[0;34m\u001b[0m\u001b[0m\n\u001b[1;32m    611\u001b[0m \u001b[0;34m\u001b[0m\u001b[0m\n",
      "\u001b[0;32m~/.local/share/virtualenvs/python-_2MbXz7b/lib/python3.6/site-packages/scipy/integrate/quadrature.py\u001b[0m in \u001b[0;36mvfunc\u001b[0;34m(x)\u001b[0m\n\u001b[1;32m    122\u001b[0m             \u001b[0mx\u001b[0m \u001b[0;34m=\u001b[0m \u001b[0mnp\u001b[0m\u001b[0;34m.\u001b[0m\u001b[0masarray\u001b[0m\u001b[0;34m(\u001b[0m\u001b[0mx\u001b[0m\u001b[0;34m)\u001b[0m\u001b[0;34m\u001b[0m\u001b[0m\n\u001b[1;32m    123\u001b[0m             \u001b[0;31m# call with first point to get output type\u001b[0m\u001b[0;34m\u001b[0m\u001b[0;34m\u001b[0m\u001b[0m\n\u001b[0;32m--> 124\u001b[0;31m             \u001b[0my0\u001b[0m \u001b[0;34m=\u001b[0m \u001b[0mfunc\u001b[0m\u001b[0;34m(\u001b[0m\u001b[0mx\u001b[0m\u001b[0;34m[\u001b[0m\u001b[0;36m0\u001b[0m\u001b[0;34m]\u001b[0m\u001b[0;34m,\u001b[0m \u001b[0;34m*\u001b[0m\u001b[0margs\u001b[0m\u001b[0;34m)\u001b[0m\u001b[0;34m\u001b[0m\u001b[0m\n\u001b[0m\u001b[1;32m    125\u001b[0m             \u001b[0mn\u001b[0m \u001b[0;34m=\u001b[0m \u001b[0mlen\u001b[0m\u001b[0;34m(\u001b[0m\u001b[0mx\u001b[0m\u001b[0;34m)\u001b[0m\u001b[0;34m\u001b[0m\u001b[0m\n\u001b[1;32m    126\u001b[0m             \u001b[0mdtype\u001b[0m \u001b[0;34m=\u001b[0m \u001b[0mgetattr\u001b[0m\u001b[0;34m(\u001b[0m\u001b[0my0\u001b[0m\u001b[0;34m,\u001b[0m \u001b[0;34m'dtype'\u001b[0m\u001b[0;34m,\u001b[0m \u001b[0mtype\u001b[0m\u001b[0;34m(\u001b[0m\u001b[0my0\u001b[0m\u001b[0;34m)\u001b[0m\u001b[0;34m)\u001b[0m\u001b[0;34m\u001b[0m\u001b[0m\n",
      "\u001b[0;32m<ipython-input-23-e7638066a213>\u001b[0m in \u001b[0;36m<lambda>\u001b[0;34m(t)\u001b[0m\n\u001b[1;32m      3\u001b[0m     \u001b[0;32mfor\u001b[0m \u001b[0mpix\u001b[0m\u001b[0;34m,\u001b[0m \u001b[0mindex\u001b[0m \u001b[0;32min\u001b[0m \u001b[0menumerate\u001b[0m\u001b[0;34m(\u001b[0m\u001b[0mpix_to_shift\u001b[0m\u001b[0;34m)\u001b[0m\u001b[0;34m:\u001b[0m\u001b[0;34m\u001b[0m\u001b[0m\n\u001b[1;32m      4\u001b[0m         \u001b[0mprint\u001b[0m\u001b[0;34m(\u001b[0m\u001b[0;34m\"cur pixel: \"\u001b[0m\u001b[0;34m,\u001b[0m \u001b[0mpix\u001b[0m\u001b[0;34m)\u001b[0m\u001b[0;34m\u001b[0m\u001b[0m\n\u001b[0;32m----> 5\u001b[0;31m         \u001b[0macc\u001b[0m\u001b[0;34m.\u001b[0m\u001b[0mappend\u001b[0m\u001b[0;34m(\u001b[0m\u001b[0mintegrate\u001b[0m\u001b[0;34m.\u001b[0m\u001b[0mromberg\u001b[0m\u001b[0;34m(\u001b[0m\u001b[0;32mlambda\u001b[0m \u001b[0mt\u001b[0m\u001b[0;34m:\u001b[0m \u001b[0msegment_shift_integrand\u001b[0m\u001b[0;34m(\u001b[0m\u001b[0mmidpoint\u001b[0m\u001b[0;34m,\u001b[0m \u001b[0mleftpoint\u001b[0m\u001b[0;34m,\u001b[0m \u001b[0mrightpoint\u001b[0m\u001b[0;34m,\u001b[0m \u001b[0mt\u001b[0m\u001b[0;34m)\u001b[0m\u001b[0;34m[\u001b[0m\u001b[0mtwo_to_one_index\u001b[0m\u001b[0;34m(\u001b[0m\u001b[0mindex\u001b[0m\u001b[0;34m)\u001b[0m\u001b[0;34m]\u001b[0m\u001b[0;34m,\u001b[0m \u001b[0;36m0\u001b[0m\u001b[0;34m,\u001b[0m \u001b[0;36m1\u001b[0m\u001b[0;34m,\u001b[0m \u001b[0mtol\u001b[0m\u001b[0;34m=\u001b[0m\u001b[0;36m1e-1\u001b[0m\u001b[0;34m,\u001b[0m\u001b[0mrtol\u001b[0m\u001b[0;34m=\u001b[0m\u001b[0;36m1e-5\u001b[0m\u001b[0;34m)\u001b[0m\u001b[0;34m)\u001b[0m\u001b[0;34m\u001b[0m\u001b[0m\n\u001b[0m\u001b[1;32m      6\u001b[0m     \u001b[0mprint\u001b[0m\u001b[0;34m(\u001b[0m\u001b[0;34m'shift grad:'\u001b[0m\u001b[0;34m,\u001b[0m \u001b[0macc\u001b[0m\u001b[0;34m)\u001b[0m\u001b[0;34m\u001b[0m\u001b[0m\n\u001b[1;32m      7\u001b[0m     \u001b[0;32mreturn\u001b[0m \u001b[0mnp\u001b[0m\u001b[0;34m.\u001b[0m\u001b[0masarray\u001b[0m\u001b[0;34m(\u001b[0m\u001b[0macc\u001b[0m\u001b[0;34m)\u001b[0m\u001b[0;34m\u001b[0m\u001b[0m\n",
      "\u001b[0;32m<ipython-input-21-9ad9da7b6309>\u001b[0m in \u001b[0;36msegment_shift_integrand\u001b[0;34m(midpoint, leftpoint, rightpoint, t)\u001b[0m\n\u001b[1;32m      1\u001b[0m \u001b[0;32mdef\u001b[0m \u001b[0msegment_shift_integrand\u001b[0m\u001b[0;34m(\u001b[0m\u001b[0mmidpoint\u001b[0m\u001b[0;34m,\u001b[0m \u001b[0mleftpoint\u001b[0m\u001b[0;34m,\u001b[0m \u001b[0mrightpoint\u001b[0m\u001b[0;34m,\u001b[0m \u001b[0mt\u001b[0m\u001b[0;34m)\u001b[0m\u001b[0;34m:\u001b[0m\u001b[0;34m\u001b[0m\u001b[0m\n\u001b[0;32m----> 2\u001b[0;31m     \u001b[0;32mreturn\u001b[0m \u001b[0mpoint_shift_integrand\u001b[0m\u001b[0;34m(\u001b[0m\u001b[0mstart_pic\u001b[0m\u001b[0;34m=\u001b[0m\u001b[0mleftpoint\u001b[0m\u001b[0;34m,\u001b[0m \u001b[0mend_pic\u001b[0m\u001b[0;34m=\u001b[0m\u001b[0mmidpoint\u001b[0m\u001b[0;34m,\u001b[0m \u001b[0mt\u001b[0m\u001b[0;34m=\u001b[0m\u001b[0mt\u001b[0m\u001b[0;34m)\u001b[0m \u001b[0;34m+\u001b[0m \u001b[0mpoint_shift_integrand\u001b[0m\u001b[0;34m(\u001b[0m\u001b[0mstart_pic\u001b[0m\u001b[0;34m=\u001b[0m\u001b[0mmidpoint\u001b[0m\u001b[0;34m,\u001b[0m \u001b[0mend_pic\u001b[0m\u001b[0;34m=\u001b[0m\u001b[0mrightpoint\u001b[0m\u001b[0;34m,\u001b[0m \u001b[0mt\u001b[0m\u001b[0;34m=\u001b[0m\u001b[0mt\u001b[0m\u001b[0;34m)\u001b[0m\u001b[0;34m\u001b[0m\u001b[0m\n\u001b[0m",
      "\u001b[0;32m<ipython-input-20-0c56b0ba667d>\u001b[0m in \u001b[0;36mpoint_shift_integrand\u001b[0;34m(start_pic, end_pic, t, metric, grad_metric)\u001b[0m\n\u001b[1;32m      1\u001b[0m \u001b[0;32mdef\u001b[0m \u001b[0mpoint_shift_integrand\u001b[0m\u001b[0;34m(\u001b[0m\u001b[0mstart_pic\u001b[0m\u001b[0;34m,\u001b[0m \u001b[0mend_pic\u001b[0m\u001b[0;34m,\u001b[0m \u001b[0mt\u001b[0m\u001b[0;34m,\u001b[0m \u001b[0mmetric\u001b[0m\u001b[0;34m=\u001b[0m\u001b[0mcompute_metric\u001b[0m\u001b[0;34m,\u001b[0m \u001b[0mgrad_metric\u001b[0m\u001b[0;34m=\u001b[0m\u001b[0mcompute_grad_metric\u001b[0m\u001b[0;34m)\u001b[0m\u001b[0;34m:\u001b[0m\u001b[0;34m\u001b[0m\u001b[0m\n\u001b[1;32m      2\u001b[0m     \u001b[0mcurr_pic\u001b[0m \u001b[0;34m=\u001b[0m \u001b[0;34m(\u001b[0m\u001b[0;36m1\u001b[0m\u001b[0;34m-\u001b[0m\u001b[0mt\u001b[0m\u001b[0;34m)\u001b[0m\u001b[0;34m*\u001b[0m\u001b[0mstart_pic\u001b[0m \u001b[0;34m+\u001b[0m \u001b[0mt\u001b[0m\u001b[0;34m*\u001b[0m\u001b[0mend_pic\u001b[0m\u001b[0;34m\u001b[0m\u001b[0m\n\u001b[0;32m----> 3\u001b[0;31m     \u001b[0mnumerator\u001b[0m \u001b[0;34m=\u001b[0m \u001b[0mnp\u001b[0m\u001b[0;34m.\u001b[0m\u001b[0mdot\u001b[0m\u001b[0;34m(\u001b[0m\u001b[0;36m2\u001b[0m\u001b[0;34m*\u001b[0m\u001b[0mmetric\u001b[0m\u001b[0;34m(\u001b[0m\u001b[0mcurr_pic\u001b[0m\u001b[0;34m)\u001b[0m\u001b[0;34m,\u001b[0m \u001b[0mend_pic\u001b[0m\u001b[0;34m-\u001b[0m\u001b[0mstart_pic\u001b[0m\u001b[0;34m)\u001b[0m \u001b[0;34m+\u001b[0m \u001b[0mt\u001b[0m\u001b[0;34m*\u001b[0m\u001b[0mnp\u001b[0m\u001b[0;34m.\u001b[0m\u001b[0mdot\u001b[0m\u001b[0;34m(\u001b[0m\u001b[0mnp\u001b[0m\u001b[0;34m.\u001b[0m\u001b[0mdot\u001b[0m\u001b[0;34m(\u001b[0m\u001b[0mgrad_metric\u001b[0m\u001b[0;34m(\u001b[0m\u001b[0mcurr_pic\u001b[0m\u001b[0;34m)\u001b[0m\u001b[0;34m,\u001b[0m\u001b[0mend_pic\u001b[0m\u001b[0;34m-\u001b[0m\u001b[0mstart_pic\u001b[0m\u001b[0;34m)\u001b[0m\u001b[0;34m,\u001b[0m \u001b[0mend_pic\u001b[0m\u001b[0;34m-\u001b[0m\u001b[0mstart_pic\u001b[0m\u001b[0;34m)\u001b[0m\u001b[0;34m\u001b[0m\u001b[0m\n\u001b[0m\u001b[1;32m      4\u001b[0m     \u001b[0mdenominator\u001b[0m \u001b[0;34m=\u001b[0m \u001b[0;36m2\u001b[0m\u001b[0;34m*\u001b[0m\u001b[0mnp\u001b[0m\u001b[0;34m.\u001b[0m\u001b[0msqrt\u001b[0m\u001b[0;34m(\u001b[0m \u001b[0mnp\u001b[0m\u001b[0;34m.\u001b[0m\u001b[0mdot\u001b[0m\u001b[0;34m(\u001b[0m \u001b[0mnp\u001b[0m\u001b[0;34m.\u001b[0m\u001b[0mdot\u001b[0m\u001b[0;34m(\u001b[0m\u001b[0mend_pic\u001b[0m\u001b[0;34m-\u001b[0m\u001b[0mstart_pic\u001b[0m\u001b[0;34m,\u001b[0m \u001b[0mmetric\u001b[0m\u001b[0;34m(\u001b[0m\u001b[0mcurr_pic\u001b[0m\u001b[0;34m)\u001b[0m\u001b[0;34m)\u001b[0m\u001b[0;34m,\u001b[0m \u001b[0mend_pic\u001b[0m\u001b[0;34m-\u001b[0m\u001b[0mstart_pic\u001b[0m\u001b[0;34m)\u001b[0m\u001b[0;34m)\u001b[0m\u001b[0;34m\u001b[0m\u001b[0m\n\u001b[1;32m      5\u001b[0m     \u001b[0;32mreturn\u001b[0m \u001b[0mnumerator\u001b[0m\u001b[0;34m/\u001b[0m\u001b[0mdenominator\u001b[0m\u001b[0;34m\u001b[0m\u001b[0m\n",
      "\u001b[0;32m<ipython-input-19-3863cb94613d>\u001b[0m in \u001b[0;36mcompute_grad_metric\u001b[0;34m(pic, compute_vec_grad, compute_vec_hessian)\u001b[0m\n\u001b[1;32m      4\u001b[0m     \u001b[0;31m#vec_grad = vec_grad/np.sqrt(np.sum(vec_grad**2, axis=1)).reshape([10,1])\u001b[0m\u001b[0;34m\u001b[0m\u001b[0;34m\u001b[0m\u001b[0m\n\u001b[1;32m      5\u001b[0m     \u001b[0mvec_hessian\u001b[0m \u001b[0;34m=\u001b[0m \u001b[0mcompute_vec_hessian\u001b[0m\u001b[0;34m(\u001b[0m\u001b[0mpic\u001b[0m\u001b[0;34m,\u001b[0m \u001b[0mvec_hes\u001b[0m\u001b[0;34m)\u001b[0m\u001b[0;34m\u001b[0m\u001b[0m\n\u001b[0;32m----> 6\u001b[0;31m     \u001b[0mhess_mult_grad\u001b[0m \u001b[0;34m=\u001b[0m \u001b[0mnp\u001b[0m\u001b[0;34m.\u001b[0m\u001b[0mdot\u001b[0m\u001b[0;34m(\u001b[0m\u001b[0mvec_hessian\u001b[0m\u001b[0;34m,\u001b[0m \u001b[0mvec_grad\u001b[0m\u001b[0;34m)\u001b[0m\u001b[0;34m\u001b[0m\u001b[0m\n\u001b[0m\u001b[1;32m      7\u001b[0m     \u001b[0;31m#still need to symmetrize, computes grad_k g^{ij} (first axis is grad, second 2 are g)\u001b[0m\u001b[0;34m\u001b[0m\u001b[0;34m\u001b[0m\u001b[0m\n\u001b[1;32m      8\u001b[0m     \u001b[0;32mreturn\u001b[0m \u001b[0mhess_mult_grad\u001b[0m \u001b[0;34m+\u001b[0m \u001b[0mnp\u001b[0m\u001b[0;34m.\u001b[0m\u001b[0mswapaxes\u001b[0m\u001b[0;34m(\u001b[0m\u001b[0mhess_mult_grad\u001b[0m\u001b[0;34m,\u001b[0m \u001b[0;36m1\u001b[0m\u001b[0;34m,\u001b[0m \u001b[0;36m2\u001b[0m\u001b[0;34m)\u001b[0m\u001b[0;34m\u001b[0m\u001b[0m\n",
      "\u001b[0;31mKeyboardInterrupt\u001b[0m: "
     ]
    }
   ],
   "source": [
    "g = compute_geodesic(start_pic, end_pic, 3)"
   ]
  },
  {
   "cell_type": "code",
   "execution_count": null,
   "metadata": {},
   "outputs": [],
   "source": [
    "g.shape"
   ]
  },
  {
   "cell_type": "code",
   "execution_count": null,
   "metadata": {},
   "outputs": [],
   "source": [
    "g"
   ]
  },
  {
   "cell_type": "code",
   "execution_count": null,
   "metadata": {},
   "outputs": [],
   "source": [
    "start_pic.reshape(28,28)[14,14]"
   ]
  },
  {
   "cell_type": "code",
   "execution_count": null,
   "metadata": {},
   "outputs": [],
   "source": [
    "g[1,:].reshape(28,28)[14,14]"
   ]
  },
  {
   "cell_type": "code",
   "execution_count": null,
   "metadata": {},
   "outputs": [],
   "source": [
    "plt.imshow(g[1,:].reshape(28,28))\n",
    "plt.colorbar()"
   ]
  },
  {
   "cell_type": "code",
   "execution_count": null,
   "metadata": {},
   "outputs": [],
   "source": []
  }
 ],
 "metadata": {
  "kernelspec": {
   "display_name": "Python 3",
   "language": "python",
   "name": "python3"
  },
  "language_info": {
   "codemirror_mode": {
    "name": "ipython",
    "version": 3
   },
   "file_extension": ".py",
   "mimetype": "text/x-python",
   "name": "python",
   "nbconvert_exporter": "python",
   "pygments_lexer": "ipython3",
   "version": "3.6.5"
  }
 },
 "nbformat": 4,
 "nbformat_minor": 2
}
