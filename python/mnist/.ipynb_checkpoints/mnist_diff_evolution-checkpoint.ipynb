{
 "cells": [
  {
   "cell_type": "code",
   "execution_count": 1,
   "metadata": {},
   "outputs": [],
   "source": [
    "from tensorflow.examples.tutorials.mnist import input_data\n",
    "import tensorflow as tf\n",
    "import matplotlib.pyplot as plt\n",
    "import numpy as np"
   ]
  },
  {
   "cell_type": "code",
   "execution_count": 2,
   "metadata": {},
   "outputs": [],
   "source": [
    "import scipy.integrate as integrate\n",
    "import scipy.optimize as optimize"
   ]
  },
  {
   "cell_type": "code",
   "execution_count": 3,
   "metadata": {},
   "outputs": [
    {
     "name": "stdout",
     "output_type": "stream",
     "text": [
      "WARNING:tensorflow:From <ipython-input-3-71e12f4bac70>:1: read_data_sets (from tensorflow.contrib.learn.python.learn.datasets.mnist) is deprecated and will be removed in a future version.\n",
      "Instructions for updating:\n",
      "Please use alternatives such as official/mnist/dataset.py from tensorflow/models.\n",
      "WARNING:tensorflow:From /Users/michaelmcdermott/.local/share/virtualenvs/python-_2MbXz7b/lib/python3.6/site-packages/tensorflow/contrib/learn/python/learn/datasets/mnist.py:260: maybe_download (from tensorflow.contrib.learn.python.learn.datasets.base) is deprecated and will be removed in a future version.\n",
      "Instructions for updating:\n",
      "Please write your own downloading logic.\n",
      "WARNING:tensorflow:From /Users/michaelmcdermott/.local/share/virtualenvs/python-_2MbXz7b/lib/python3.6/site-packages/tensorflow/contrib/learn/python/learn/datasets/mnist.py:262: extract_images (from tensorflow.contrib.learn.python.learn.datasets.mnist) is deprecated and will be removed in a future version.\n",
      "Instructions for updating:\n",
      "Please use tf.data to implement this functionality.\n",
      "Extracting MNIST_data/train-images-idx3-ubyte.gz\n",
      "WARNING:tensorflow:From /Users/michaelmcdermott/.local/share/virtualenvs/python-_2MbXz7b/lib/python3.6/site-packages/tensorflow/contrib/learn/python/learn/datasets/mnist.py:267: extract_labels (from tensorflow.contrib.learn.python.learn.datasets.mnist) is deprecated and will be removed in a future version.\n",
      "Instructions for updating:\n",
      "Please use tf.data to implement this functionality.\n",
      "Extracting MNIST_data/train-labels-idx1-ubyte.gz\n",
      "WARNING:tensorflow:From /Users/michaelmcdermott/.local/share/virtualenvs/python-_2MbXz7b/lib/python3.6/site-packages/tensorflow/contrib/learn/python/learn/datasets/mnist.py:110: dense_to_one_hot (from tensorflow.contrib.learn.python.learn.datasets.mnist) is deprecated and will be removed in a future version.\n",
      "Instructions for updating:\n",
      "Please use tf.one_hot on tensors.\n",
      "Extracting MNIST_data/t10k-images-idx3-ubyte.gz\n",
      "Extracting MNIST_data/t10k-labels-idx1-ubyte.gz\n",
      "WARNING:tensorflow:From /Users/michaelmcdermott/.local/share/virtualenvs/python-_2MbXz7b/lib/python3.6/site-packages/tensorflow/contrib/learn/python/learn/datasets/mnist.py:290: DataSet.__init__ (from tensorflow.contrib.learn.python.learn.datasets.mnist) is deprecated and will be removed in a future version.\n",
      "Instructions for updating:\n",
      "Please use alternatives such as official/mnist/dataset.py from tensorflow/models.\n"
     ]
    }
   ],
   "source": [
    "mnist = input_data.read_data_sets('MNIST_data', one_hot=True)"
   ]
  },
  {
   "cell_type": "code",
   "execution_count": 4,
   "metadata": {},
   "outputs": [],
   "source": [
    "sess = tf.InteractiveSession()"
   ]
  },
  {
   "cell_type": "code",
   "execution_count": 5,
   "metadata": {},
   "outputs": [],
   "source": [
    "saver = tf.train.import_meta_graph('mnist/conv_99_new.meta')"
   ]
  },
  {
   "cell_type": "code",
   "execution_count": 6,
   "metadata": {},
   "outputs": [
    {
     "name": "stdout",
     "output_type": "stream",
     "text": [
      "INFO:tensorflow:Restoring parameters from mnist/conv_99_new\n"
     ]
    }
   ],
   "source": [
    "saver.restore(sess,'mnist/conv_99_new')"
   ]
  },
  {
   "cell_type": "code",
   "execution_count": 7,
   "metadata": {},
   "outputs": [
    {
     "name": "stdout",
     "output_type": "stream",
     "text": [
      "[<tf.Variable 'Variable:0' shape=(5, 5, 1, 32) dtype=float32_ref>, <tf.Variable 'Variable_1:0' shape=(32,) dtype=float32_ref>, <tf.Variable 'Variable_2:0' shape=(5, 5, 32, 64) dtype=float32_ref>, <tf.Variable 'Variable_3:0' shape=(64,) dtype=float32_ref>, <tf.Variable 'Variable_4:0' shape=(3136, 1024) dtype=float32_ref>, <tf.Variable 'Variable_5:0' shape=(1024,) dtype=float32_ref>, <tf.Variable 'Variable_6:0' shape=(1024, 10) dtype=float32_ref>, <tf.Variable 'Variable_7:0' shape=(10,) dtype=float32_ref>, <tf.Variable 'beta1_power:0' shape=() dtype=float32_ref>, <tf.Variable 'beta2_power:0' shape=() dtype=float32_ref>, <tf.Variable 'Variable/Adam:0' shape=(5, 5, 1, 32) dtype=float32_ref>, <tf.Variable 'Variable/Adam_1:0' shape=(5, 5, 1, 32) dtype=float32_ref>, <tf.Variable 'Variable_1/Adam:0' shape=(32,) dtype=float32_ref>, <tf.Variable 'Variable_1/Adam_1:0' shape=(32,) dtype=float32_ref>, <tf.Variable 'Variable_2/Adam:0' shape=(5, 5, 32, 64) dtype=float32_ref>, <tf.Variable 'Variable_2/Adam_1:0' shape=(5, 5, 32, 64) dtype=float32_ref>, <tf.Variable 'Variable_3/Adam:0' shape=(64,) dtype=float32_ref>, <tf.Variable 'Variable_3/Adam_1:0' shape=(64,) dtype=float32_ref>, <tf.Variable 'Variable_4/Adam:0' shape=(3136, 1024) dtype=float32_ref>, <tf.Variable 'Variable_4/Adam_1:0' shape=(3136, 1024) dtype=float32_ref>, <tf.Variable 'Variable_5/Adam:0' shape=(1024,) dtype=float32_ref>, <tf.Variable 'Variable_5/Adam_1:0' shape=(1024,) dtype=float32_ref>, <tf.Variable 'Variable_6/Adam:0' shape=(1024, 10) dtype=float32_ref>, <tf.Variable 'Variable_6/Adam_1:0' shape=(1024, 10) dtype=float32_ref>, <tf.Variable 'Variable_7/Adam:0' shape=(10,) dtype=float32_ref>, <tf.Variable 'Variable_7/Adam_1:0' shape=(10,) dtype=float32_ref>]\n"
     ]
    }
   ],
   "source": [
    "print(tf.global_variables())"
   ]
  },
  {
   "cell_type": "code",
   "execution_count": 8,
   "metadata": {},
   "outputs": [],
   "source": [
    "keep_prob = tf.get_default_graph().get_tensor_by_name(\"keep_prob:0\")\n",
    "x = tf.get_default_graph().get_tensor_by_name(\"x:0\")\n",
    "y_conv = tf.get_default_graph().get_tensor_by_name(\"y_conv:0\")\n",
    "y_conv_s = tf.get_default_graph().get_tensor_by_name(\"y_conv_s:0\")"
   ]
  },
  {
   "cell_type": "markdown",
   "metadata": {},
   "source": [
    "# Let's compute the geodesics.."
   ]
  },
  {
   "cell_type": "code",
   "execution_count": 9,
   "metadata": {},
   "outputs": [],
   "source": [
    "def norm(x):\n",
    "    return np.sqrt(np.sum(x**2))"
   ]
  },
  {
   "cell_type": "code",
   "execution_count": 10,
   "metadata": {},
   "outputs": [],
   "source": [
    "def callbak(x,convergence):\n",
    "    print('x is: ', x)\n",
    "    print('val is: ', convergence)"
   ]
  },
  {
   "cell_type": "code",
   "execution_count": 11,
   "metadata": {},
   "outputs": [
    {
     "name": "stdout",
     "output_type": "stream",
     "text": [
      "differential_evolution step 1: f(x)= 0.233001\n",
      "differential_evolution step 2: f(x)= 0.231048\n",
      "differential_evolution step 3: f(x)= 0.231048\n",
      "differential_evolution step 4: f(x)= 0.231048\n",
      "differential_evolution step 5: f(x)= 0.161568\n",
      "differential_evolution step 6: f(x)= 0.161568\n",
      "differential_evolution step 7: f(x)= 0.155335\n",
      "differential_evolution step 8: f(x)= 0.139526\n",
      "differential_evolution step 9: f(x)= 0.115752\n",
      "differential_evolution step 10: f(x)= 0.115752\n",
      "differential_evolution step 11: f(x)= 0.115752\n",
      "differential_evolution step 12: f(x)= 0.115752\n",
      "differential_evolution step 13: f(x)= 0.108116\n",
      "differential_evolution step 14: f(x)= 0.108116\n",
      "differential_evolution step 15: f(x)= 0.108116\n",
      "differential_evolution step 16: f(x)= 0.102578\n",
      "differential_evolution step 17: f(x)= 0.102578\n",
      "differential_evolution step 18: f(x)= 0.102578\n",
      "differential_evolution step 19: f(x)= 0.102578\n",
      "differential_evolution step 20: f(x)= 0.102099\n",
      "differential_evolution step 21: f(x)= 0.102099\n",
      "differential_evolution step 22: f(x)= 0.102099\n",
      "differential_evolution step 23: f(x)= 0.102099\n",
      "differential_evolution step 24: f(x)= 0.102099\n",
      "differential_evolution step 25: f(x)= 0.102099\n",
      "differential_evolution step 26: f(x)= 0.101006\n",
      "differential_evolution step 27: f(x)= 0.101006\n",
      "differential_evolution step 28: f(x)= 0.101006\n",
      "differential_evolution step 29: f(x)= 0.101006\n",
      "differential_evolution step 30: f(x)= 0.101006\n",
      "differential_evolution step 31: f(x)= 0.101006\n",
      "differential_evolution step 32: f(x)= 0.101006\n",
      "differential_evolution step 33: f(x)= 0.101006\n",
      "differential_evolution step 34: f(x)= 0.101006\n",
      "differential_evolution step 35: f(x)= 0.100638\n",
      "differential_evolution step 36: f(x)= 0.100559\n",
      "differential_evolution step 37: f(x)= 0.100177\n",
      "differential_evolution step 38: f(x)= 0.100177\n",
      "differential_evolution step 39: f(x)= 0.100175\n",
      "differential_evolution step 40: f(x)= 0.100175\n",
      "differential_evolution step 41: f(x)= 0.10013\n",
      "differential_evolution step 42: f(x)= 0.10013\n",
      "differential_evolution step 43: f(x)= 0.10013\n",
      "differential_evolution step 44: f(x)= 0.100039\n",
      "differential_evolution step 45: f(x)= 0.100039\n",
      "differential_evolution step 46: f(x)= 0.100039\n",
      "differential_evolution step 47: f(x)= 0.100039\n",
      "differential_evolution step 48: f(x)= 0.100039\n",
      "differential_evolution step 49: f(x)= 0.100024\n",
      "differential_evolution step 50: f(x)= 0.100024\n",
      "differential_evolution step 51: f(x)= 0.100024\n",
      "differential_evolution step 52: f(x)= 0.100024\n",
      "differential_evolution step 53: f(x)= 0.100024\n",
      "differential_evolution step 54: f(x)= 0.100024\n",
      "differential_evolution step 55: f(x)= 0.100024\n"
     ]
    }
   ],
   "source": [
    "te=optimize.differential_evolution(norm, bounds=[(0,1), (0,1), (0,1), (0.1,1)], disp=True)"
   ]
  },
  {
   "cell_type": "code",
   "execution_count": 12,
   "metadata": {},
   "outputs": [
    {
     "data": {
      "text/plain": [
       "array([0. , 0. , 0. , 0.1])"
      ]
     },
     "execution_count": 12,
     "metadata": {},
     "output_type": "execute_result"
    }
   ],
   "source": [
    "te['x']"
   ]
  },
  {
   "cell_type": "code",
   "execution_count": 13,
   "metadata": {},
   "outputs": [],
   "source": [
    "def shift_pic(pic, shift=4):\n",
    "    return np.roll(pic.reshape([28,28]), shift, axis=1).reshape([784,])"
   ]
  },
  {
   "cell_type": "code",
   "execution_count": 14,
   "metadata": {},
   "outputs": [],
   "source": [
    "def create_vec_tensor(categories, target = y_conv_s):\n",
    "    vec_tens = []\n",
    "    for i in range(categories):\n",
    "            vec_tens.append(tf.gradients(target[:,i], x)[0])\n",
    "    return vec_tens"
   ]
  },
  {
   "cell_type": "code",
   "execution_count": 15,
   "metadata": {},
   "outputs": [],
   "source": [
    "vec_tens = create_vec_tensor(10)\n",
    "def compute_vec_grad(pic, vec_tens):\n",
    "    var_grad = sess.run(vec_tens, feed_dict={x: pic.reshape([1,len(pic)]), keep_prob: 1.0})\n",
    "    return np.asarray(var_grad).reshape([10, 784])"
   ]
  },
  {
   "cell_type": "code",
   "execution_count": 16,
   "metadata": {},
   "outputs": [],
   "source": [
    "def compute_metric(pic, compute_vec_grad=compute_vec_grad, alpha=0.01):\n",
    "    vec_grad = compute_vec_grad(pic, vec_tens)\n",
    "    #vec_grad = vec_grad/np.sqrt(np.sum(vec_grad**2, axis=1)).reshape([10,1])\n",
    "    return alpha*np.identity(784) + np.dot(np.transpose(vec_grad),vec_grad)"
   ]
  },
  {
   "cell_type": "code",
   "execution_count": 17,
   "metadata": {},
   "outputs": [],
   "source": [
    "def interp_integrand(start_pic, end_pic, t, metric=compute_metric):\n",
    "    curr_pic = (1-t)*start_pic + t*end_pic \n",
    "    return np.sqrt( np.dot( np.dot(end_pic-start_pic, metric(curr_pic)), end_pic-start_pic))"
   ]
  },
  {
   "cell_type": "code",
   "execution_count": 18,
   "metadata": {},
   "outputs": [],
   "source": [
    "def mid_func(midpoint, startpoint, endpoint, metric=compute_metric):\n",
    "    print('evaluating midfunc with params')\n",
    "    print('midpoint: ', hash(tuple(midpoint)))\n",
    "    print('startpoint: ', hash(tuple(startpoint)))\n",
    "    print('endpoint: ', hash(tuple(endpoint)))\n",
    "    i = integrate.romberg(lambda t: interp_integrand(startpoint, midpoint, t) + interp_integrand(midpoint, endpoint, t),0,1)\n",
    "    print('integral: ', i)\n",
    "    return i"
   ]
  },
  {
   "cell_type": "code",
   "execution_count": 19,
   "metadata": {},
   "outputs": [],
   "source": [
    "def minimize_length_step(point_index, geod):\n",
    "    bounds = [(0,1)]*784\n",
    "    print('begin diff evolution')\n",
    "    soln = optimize.differential_evolution(lambda x: mid_func(x, geod[point_index-1,:], geod[point_index+1,:]), bounds=bounds, maxiter=1,popsize=2, recombination=1, callback=callbak, disp=True)\n",
    "    print('end diff evolution')\n",
    "    return soln['x']"
   ]
  },
  {
   "cell_type": "code",
   "execution_count": 20,
   "metadata": {},
   "outputs": [],
   "source": [
    "#returns the geodesic with first index being the pt index and second being the actual point (or picture in the mnist case)\n",
    "def divide(startpoint, endpoint, num_div):\n",
    "    pt_divs = np.linspace(0, 1, num=num_div)\n",
    "\n",
    "    geod = np.ones(len(pt_divs)).reshape([len(pt_divs),1])*startpoint.reshape([1,len(startpoint)]) + pt_divs.reshape([len(pt_divs),1])*(endpoint-startpoint).reshape([1,len(startpoint)])\n",
    "    return pt_divs, geod\n",
    "\n",
    "def compute_geodesic(startpoint, endpoint, num_div):\n",
    "    grid, geod = divide(startpoint, endpoint, num_div)\n",
    "    for pt_index in range(len(grid))[1:-1]:\n",
    "        geod[pt_index] = minimize_length_step(pt_index, geod)\n",
    "    return geod"
   ]
  },
  {
   "cell_type": "code",
   "execution_count": 21,
   "metadata": {},
   "outputs": [],
   "source": [
    "start_pic = shift_pic(mnist.train.images[7],shift=-2)\n",
    "end_pic = mnist.train.images[7]"
   ]
  },
  {
   "cell_type": "code",
   "execution_count": null,
   "metadata": {},
   "outputs": [],
   "source": [
    "bounds = [(0,1)]*784\n",
    "soln = optimize.differential_evolution(lambda x: mid_func(x, start_pic, end_pic), bounds=bounds, maxiter=10,popsize=7000, recombination=1, disp=True)"
   ]
  },
  {
   "cell_type": "code",
   "execution_count": null,
   "metadata": {},
   "outputs": [],
   "source": [
    "g = compute_geodesic(start_pic, end_pic, 4)"
   ]
  },
  {
   "cell_type": "code",
   "execution_count": null,
   "metadata": {},
   "outputs": [],
   "source": [
    "g.shape"
   ]
  },
  {
   "cell_type": "code",
   "execution_count": null,
   "metadata": {},
   "outputs": [],
   "source": [
    "hash(tuple(start_pic))"
   ]
  },
  {
   "cell_type": "code",
   "execution_count": null,
   "metadata": {},
   "outputs": [],
   "source": []
  }
 ],
 "metadata": {
  "kernelspec": {
   "display_name": "Python 3",
   "language": "python",
   "name": "python3"
  },
  "language_info": {
   "codemirror_mode": {
    "name": "ipython",
    "version": 3
   },
   "file_extension": ".py",
   "mimetype": "text/x-python",
   "name": "python",
   "nbconvert_exporter": "python",
   "pygments_lexer": "ipython3",
   "version": "3.6.5"
  }
 },
 "nbformat": 4,
 "nbformat_minor": 2
}
