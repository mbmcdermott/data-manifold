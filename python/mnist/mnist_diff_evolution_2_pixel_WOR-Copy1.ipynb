{
 "cells": [
  {
   "cell_type": "code",
   "execution_count": 1,
   "metadata": {},
   "outputs": [],
   "source": [
    "from tensorflow.examples.tutorials.mnist import input_data\n",
    "import tensorflow as tf\n",
    "import matplotlib.pyplot as plt\n",
    "import numpy as np"
   ]
  },
  {
   "cell_type": "code",
   "execution_count": 2,
   "metadata": {},
   "outputs": [],
   "source": [
    "import scipy.integrate as integrate\n",
    "import scipy.optimize as optimize"
   ]
  },
  {
   "cell_type": "code",
   "execution_count": 3,
   "metadata": {},
   "outputs": [
    {
     "name": "stdout",
     "output_type": "stream",
     "text": [
      "WARNING:tensorflow:From <ipython-input-3-71e12f4bac70>:1: read_data_sets (from tensorflow.contrib.learn.python.learn.datasets.mnist) is deprecated and will be removed in a future version.\n",
      "Instructions for updating:\n",
      "Please use alternatives such as official/mnist/dataset.py from tensorflow/models.\n",
      "WARNING:tensorflow:From /Users/michaelmcdermott/.local/share/virtualenvs/python-_2MbXz7b/lib/python3.6/site-packages/tensorflow/contrib/learn/python/learn/datasets/mnist.py:260: maybe_download (from tensorflow.contrib.learn.python.learn.datasets.base) is deprecated and will be removed in a future version.\n",
      "Instructions for updating:\n",
      "Please write your own downloading logic.\n",
      "WARNING:tensorflow:From /Users/michaelmcdermott/.local/share/virtualenvs/python-_2MbXz7b/lib/python3.6/site-packages/tensorflow/contrib/learn/python/learn/datasets/mnist.py:262: extract_images (from tensorflow.contrib.learn.python.learn.datasets.mnist) is deprecated and will be removed in a future version.\n",
      "Instructions for updating:\n",
      "Please use tf.data to implement this functionality.\n",
      "Extracting MNIST_data/train-images-idx3-ubyte.gz\n",
      "WARNING:tensorflow:From /Users/michaelmcdermott/.local/share/virtualenvs/python-_2MbXz7b/lib/python3.6/site-packages/tensorflow/contrib/learn/python/learn/datasets/mnist.py:267: extract_labels (from tensorflow.contrib.learn.python.learn.datasets.mnist) is deprecated and will be removed in a future version.\n",
      "Instructions for updating:\n",
      "Please use tf.data to implement this functionality.\n",
      "Extracting MNIST_data/train-labels-idx1-ubyte.gz\n",
      "WARNING:tensorflow:From /Users/michaelmcdermott/.local/share/virtualenvs/python-_2MbXz7b/lib/python3.6/site-packages/tensorflow/contrib/learn/python/learn/datasets/mnist.py:110: dense_to_one_hot (from tensorflow.contrib.learn.python.learn.datasets.mnist) is deprecated and will be removed in a future version.\n",
      "Instructions for updating:\n",
      "Please use tf.one_hot on tensors.\n",
      "Extracting MNIST_data/t10k-images-idx3-ubyte.gz\n",
      "Extracting MNIST_data/t10k-labels-idx1-ubyte.gz\n",
      "WARNING:tensorflow:From /Users/michaelmcdermott/.local/share/virtualenvs/python-_2MbXz7b/lib/python3.6/site-packages/tensorflow/contrib/learn/python/learn/datasets/mnist.py:290: DataSet.__init__ (from tensorflow.contrib.learn.python.learn.datasets.mnist) is deprecated and will be removed in a future version.\n",
      "Instructions for updating:\n",
      "Please use alternatives such as official/mnist/dataset.py from tensorflow/models.\n"
     ]
    }
   ],
   "source": [
    "mnist = input_data.read_data_sets('MNIST_data', one_hot=True)"
   ]
  },
  {
   "cell_type": "code",
   "execution_count": 4,
   "metadata": {},
   "outputs": [],
   "source": [
    "sess = tf.InteractiveSession()"
   ]
  },
  {
   "cell_type": "code",
   "execution_count": 5,
   "metadata": {},
   "outputs": [],
   "source": [
    "saver = tf.train.import_meta_graph('mnist/conv_99_new.meta')"
   ]
  },
  {
   "cell_type": "code",
   "execution_count": 6,
   "metadata": {},
   "outputs": [
    {
     "name": "stdout",
     "output_type": "stream",
     "text": [
      "INFO:tensorflow:Restoring parameters from mnist/conv_99_new\n"
     ]
    }
   ],
   "source": [
    "saver.restore(sess,'mnist/conv_99_new')"
   ]
  },
  {
   "cell_type": "code",
   "execution_count": 7,
   "metadata": {},
   "outputs": [
    {
     "name": "stdout",
     "output_type": "stream",
     "text": [
      "[<tf.Variable 'Variable:0' shape=(5, 5, 1, 32) dtype=float32_ref>, <tf.Variable 'Variable_1:0' shape=(32,) dtype=float32_ref>, <tf.Variable 'Variable_2:0' shape=(5, 5, 32, 64) dtype=float32_ref>, <tf.Variable 'Variable_3:0' shape=(64,) dtype=float32_ref>, <tf.Variable 'Variable_4:0' shape=(3136, 1024) dtype=float32_ref>, <tf.Variable 'Variable_5:0' shape=(1024,) dtype=float32_ref>, <tf.Variable 'Variable_6:0' shape=(1024, 10) dtype=float32_ref>, <tf.Variable 'Variable_7:0' shape=(10,) dtype=float32_ref>, <tf.Variable 'beta1_power:0' shape=() dtype=float32_ref>, <tf.Variable 'beta2_power:0' shape=() dtype=float32_ref>, <tf.Variable 'Variable/Adam:0' shape=(5, 5, 1, 32) dtype=float32_ref>, <tf.Variable 'Variable/Adam_1:0' shape=(5, 5, 1, 32) dtype=float32_ref>, <tf.Variable 'Variable_1/Adam:0' shape=(32,) dtype=float32_ref>, <tf.Variable 'Variable_1/Adam_1:0' shape=(32,) dtype=float32_ref>, <tf.Variable 'Variable_2/Adam:0' shape=(5, 5, 32, 64) dtype=float32_ref>, <tf.Variable 'Variable_2/Adam_1:0' shape=(5, 5, 32, 64) dtype=float32_ref>, <tf.Variable 'Variable_3/Adam:0' shape=(64,) dtype=float32_ref>, <tf.Variable 'Variable_3/Adam_1:0' shape=(64,) dtype=float32_ref>, <tf.Variable 'Variable_4/Adam:0' shape=(3136, 1024) dtype=float32_ref>, <tf.Variable 'Variable_4/Adam_1:0' shape=(3136, 1024) dtype=float32_ref>, <tf.Variable 'Variable_5/Adam:0' shape=(1024,) dtype=float32_ref>, <tf.Variable 'Variable_5/Adam_1:0' shape=(1024,) dtype=float32_ref>, <tf.Variable 'Variable_6/Adam:0' shape=(1024, 10) dtype=float32_ref>, <tf.Variable 'Variable_6/Adam_1:0' shape=(1024, 10) dtype=float32_ref>, <tf.Variable 'Variable_7/Adam:0' shape=(10,) dtype=float32_ref>, <tf.Variable 'Variable_7/Adam_1:0' shape=(10,) dtype=float32_ref>]\n"
     ]
    }
   ],
   "source": [
    "print(tf.global_variables())"
   ]
  },
  {
   "cell_type": "code",
   "execution_count": 8,
   "metadata": {},
   "outputs": [],
   "source": [
    "keep_prob = tf.get_default_graph().get_tensor_by_name(\"keep_prob:0\")\n",
    "x = tf.get_default_graph().get_tensor_by_name(\"x:0\")\n",
    "y_conv = tf.get_default_graph().get_tensor_by_name(\"y_conv:0\")\n",
    "y_conv_s = tf.get_default_graph().get_tensor_by_name(\"y_conv_s:0\")"
   ]
  },
  {
   "cell_type": "markdown",
   "metadata": {},
   "source": [
    "# Let's create a 3 pixel shifting image"
   ]
  },
  {
   "cell_type": "code",
   "execution_count": 9,
   "metadata": {},
   "outputs": [],
   "source": [
    "pic = mnist.train.images[7]"
   ]
  },
  {
   "cell_type": "code",
   "execution_count": null,
   "metadata": {},
   "outputs": [],
   "source": []
  },
  {
   "cell_type": "code",
   "execution_count": 10,
   "metadata": {},
   "outputs": [
    {
     "data": {
      "text/plain": [
       "<matplotlib.colorbar.Colorbar at 0x12c87a748>"
      ]
     },
     "execution_count": 10,
     "metadata": {},
     "output_type": "execute_result"
    },
    {
     "data": {
      "image/png": "[encoded data removed]",
      "text/plain": [
       "<Figure size 432x288 with 2 Axes>"
      ]
     },
     "metadata": {},
     "output_type": "display_data"
    }
   ],
   "source": [
    "plt.imshow(pic.reshape([28,28]))\n",
    "plt.colorbar()"
   ]
  },
  {
   "cell_type": "code",
   "execution_count": 11,
   "metadata": {},
   "outputs": [],
   "source": [
    "def make_pix_pic(coords=(14,14)):\n",
    "    init_pic = np.zeros(784)\n",
    "    init_pic = init_pic.reshape([28,28])\n",
    "    init_pic[coords] = 0.99\n",
    "    return init_pic.reshape(784)"
   ]
  },
  {
   "cell_type": "code",
   "execution_count": 12,
   "metadata": {},
   "outputs": [],
   "source": [
    "init_pic = np.zeros(784)\n",
    "init_pic = init_pic.reshape([28,28])\n",
    "init_pic[14, 10] = 0.9"
   ]
  },
  {
   "cell_type": "code",
   "execution_count": 13,
   "metadata": {},
   "outputs": [
    {
     "data": {
      "text/plain": [
       "<matplotlib.colorbar.Colorbar at 0x12c9fdcf8>"
      ]
     },
     "execution_count": 13,
     "metadata": {},
     "output_type": "execute_result"
    },
    {
     "data": {
      "image/png": "[encoded data removed]",
      "text/plain": [
       "<Figure size 432x288 with 2 Axes>"
      ]
     },
     "metadata": {},
     "output_type": "display_data"
    }
   ],
   "source": [
    "plt.imshow(init_pic)\n",
    "plt.colorbar()"
   ]
  },
  {
   "cell_type": "code",
   "execution_count": null,
   "metadata": {},
   "outputs": [],
   "source": []
  },
  {
   "cell_type": "markdown",
   "metadata": {},
   "source": [
    "# Let's compute the geodesics.."
   ]
  },
  {
   "cell_type": "code",
   "execution_count": 14,
   "metadata": {},
   "outputs": [],
   "source": [
    "def norm(x):\n",
    "    return np.sqrt(np.sum(x**2))"
   ]
  },
  {
   "cell_type": "code",
   "execution_count": 15,
   "metadata": {},
   "outputs": [],
   "source": [
    "def callbak(x,convergence):\n",
    "    print('x is: ', x)\n",
    "    print('val is: ', convergence)"
   ]
  },
  {
   "cell_type": "code",
   "execution_count": 16,
   "metadata": {},
   "outputs": [
    {
     "name": "stdout",
     "output_type": "stream",
     "text": [
      "differential_evolution step 1: f(x)= 0.335143\n",
      "differential_evolution step 2: f(x)= 0.335143\n",
      "differential_evolution step 3: f(x)= 0.326115\n",
      "differential_evolution step 4: f(x)= 0.197388\n",
      "differential_evolution step 5: f(x)= 0.181686\n",
      "differential_evolution step 6: f(x)= 0.148047\n",
      "differential_evolution step 7: f(x)= 0.148047\n",
      "differential_evolution step 8: f(x)= 0.125395\n",
      "differential_evolution step 9: f(x)= 0.125395\n",
      "differential_evolution step 10: f(x)= 0.125395\n",
      "differential_evolution step 11: f(x)= 0.125395\n",
      "differential_evolution step 12: f(x)= 0.123574\n",
      "differential_evolution step 13: f(x)= 0.103373\n",
      "differential_evolution step 14: f(x)= 0.10263\n",
      "differential_evolution step 15: f(x)= 0.10263\n",
      "differential_evolution step 16: f(x)= 0.10263\n",
      "differential_evolution step 17: f(x)= 0.10263\n",
      "differential_evolution step 18: f(x)= 0.10263\n",
      "differential_evolution step 19: f(x)= 0.10263\n",
      "differential_evolution step 20: f(x)= 0.10263\n",
      "differential_evolution step 21: f(x)= 0.10263\n",
      "differential_evolution step 22: f(x)= 0.102519\n",
      "differential_evolution step 23: f(x)= 0.102519\n",
      "differential_evolution step 24: f(x)= 0.100799\n",
      "differential_evolution step 25: f(x)= 0.100799\n",
      "differential_evolution step 26: f(x)= 0.100799\n",
      "differential_evolution step 27: f(x)= 0.100501\n",
      "differential_evolution step 28: f(x)= 0.100501\n",
      "differential_evolution step 29: f(x)= 0.100297\n",
      "differential_evolution step 30: f(x)= 0.100297\n",
      "differential_evolution step 31: f(x)= 0.100297\n",
      "differential_evolution step 32: f(x)= 0.100297\n",
      "differential_evolution step 33: f(x)= 0.100203\n",
      "differential_evolution step 34: f(x)= 0.100203\n",
      "differential_evolution step 35: f(x)= 0.100203\n",
      "differential_evolution step 36: f(x)= 0.100203\n",
      "differential_evolution step 37: f(x)= 0.100203\n",
      "differential_evolution step 38: f(x)= 0.100203\n",
      "differential_evolution step 39: f(x)= 0.100186\n",
      "differential_evolution step 40: f(x)= 0.100129\n"
     ]
    }
   ],
   "source": [
    "te=optimize.differential_evolution(norm, bounds=[(0,1), (0,1), (0,1), (0.1,1)], disp=True)"
   ]
  },
  {
   "cell_type": "code",
   "execution_count": 17,
   "metadata": {},
   "outputs": [
    {
     "data": {
      "text/plain": [
       "     fun: 0.1\n",
       "     jac: array([5.13478149e-08, 5.13478149e-08, 5.13478149e-08, 9.99999999e-01])\n",
       " message: 'Optimization terminated successfully.'\n",
       "    nfev: 2470\n",
       "     nit: 40\n",
       " success: True\n",
       "       x: array([0. , 0. , 0. , 0.1])"
      ]
     },
     "execution_count": 17,
     "metadata": {},
     "output_type": "execute_result"
    }
   ],
   "source": [
    "te"
   ]
  },
  {
   "cell_type": "code",
   "execution_count": 18,
   "metadata": {},
   "outputs": [],
   "source": [
    "def shift_pic(pic, shift=4):\n",
    "    return np.roll(pic.reshape([28,28]), shift, axis=1).reshape([784,])"
   ]
  },
  {
   "cell_type": "code",
   "execution_count": 19,
   "metadata": {},
   "outputs": [],
   "source": [
    "def apply_scalar_padding(x, unpadded_coords=[(14,15)]):\n",
    "    pic = np.zeros([28, 28])\n",
    "    pic[unpadded_coords] = x\n",
    "    return pic.reshape(784)"
   ]
  },
  {
   "cell_type": "code",
   "execution_count": 20,
   "metadata": {},
   "outputs": [],
   "source": [
    "def apply_padding(x, unpadded_coords=[(14,14), (14,15)]):\n",
    "    pic = np.zeros([28, 28])\n",
    "    #pic = 1/100.*np.random.rand(28, 28)\n",
    "    for i, coords in enumerate(unpadded_coords):\n",
    "        pic[coords] = x[i]\n",
    "    return pic.reshape(784)"
   ]
  },
  {
   "cell_type": "code",
   "execution_count": 21,
   "metadata": {},
   "outputs": [],
   "source": [
    "def create_vec_tensor(categories, target = y_conv_s):\n",
    "    vec_tens = []\n",
    "    for i in range(categories):\n",
    "            vec_tens.append(tf.gradients(target[:,i], x)[0])\n",
    "    return vec_tens"
   ]
  },
  {
   "cell_type": "code",
   "execution_count": 22,
   "metadata": {},
   "outputs": [],
   "source": [
    "vec_tens = create_vec_tensor(10)\n",
    "def compute_vec_grad(pic, vec_tens):\n",
    "    var_grad = sess.run(vec_tens, feed_dict={x: pic.reshape([1,len(pic)]), keep_prob: 1.0})\n",
    "    return np.asarray(var_grad).reshape([10, 784])"
   ]
  },
  {
   "cell_type": "code",
   "execution_count": 23,
   "metadata": {},
   "outputs": [],
   "source": [
    "def compute_metric(pic, compute_vec_grad=compute_vec_grad, alpha=0.0, beta=1.0):\n",
    "    vec_grad = compute_vec_grad(pic, vec_tens)\n",
    "    #vec_grad = vec_grad/np.sqrt(np.sum(vec_grad**2, axis=1)).reshape([10,1])\n",
    "    return alpha*np.identity(784) + beta*np.dot(np.transpose(vec_grad),vec_grad)"
   ]
  },
  {
   "cell_type": "code",
   "execution_count": 24,
   "metadata": {},
   "outputs": [],
   "source": [
    "def interp_integrand(start_pic, end_pic, t, metric=compute_metric):\n",
    "    curr_pic = (1-t)*start_pic + t*end_pic \n",
    "    return np.sqrt( np.dot( np.dot(end_pic-start_pic, metric(curr_pic)), end_pic-start_pic))"
   ]
  },
  {
   "cell_type": "code",
   "execution_count": 25,
   "metadata": {},
   "outputs": [],
   "source": [
    "def mid_func(midpoint, startpoint, endpoint, metric=compute_metric):\n",
    "    i = integrate.romberg(lambda t: interp_integrand(startpoint, midpoint, t) + interp_integrand(midpoint, endpoint, t),0,1, tol=1e-1, rtol=1e-4)\n",
    "    return i"
   ]
  },
  {
   "cell_type": "code",
   "execution_count": 26,
   "metadata": {},
   "outputs": [],
   "source": [
    "def distance_geod(geod):\n",
    "    print(\"integrating geodesic\")\n",
    "    length = 0\n",
    "    for i in range(len(geod)-1):\n",
    "        length+=integrate.romberg(lambda t: interp_integrand(geod[i], geod[i+1], t), 0, 1, tol=1e-1, rtol=1e-4)\n",
    "\n",
    "    return length"
   ]
  },
  {
   "cell_type": "code",
   "execution_count": 27,
   "metadata": {},
   "outputs": [],
   "source": [
    "def minimize_length_step(point_index, geod):\n",
    "    bounds = [(0,1)]*2\n",
    "    print('begin diff evolution')\n",
    "    soln = optimize.differential_evolution(lambda x: mid_func(apply_padding(x), geod[point_index-1,:], geod[point_index+1,:]), bounds=bounds, maxiter=100,popsize=30, recombination=1, disp=True)\n",
    "    print('end diff evolution')\n",
    "    print('result was: ', soln['x'])\n",
    "    return np.asarray(apply_padding(soln['x']))"
   ]
  },
  {
   "cell_type": "code",
   "execution_count": 28,
   "metadata": {},
   "outputs": [],
   "source": [
    "#returns the geodesic with first index being the pt index and second being the actual point (or picture in the mnist case)\n",
    "def divide(startpoint, endpoint, num_div):\n",
    "    pt_divs = np.linspace(0, 1, num=num_div)\n",
    "\n",
    "    geod = np.ones(len(pt_divs)).reshape([len(pt_divs),1])*startpoint.reshape([1,len(startpoint)]) + pt_divs.reshape([len(pt_divs),1])*(endpoint-startpoint).reshape([1,len(startpoint)])\n",
    "#     for pt_index in range(len(pt_divs))[1:-1]:\n",
    "#         geod[pt_index] = make_pix_pic(coords=(14,14))\n",
    "    return pt_divs, geod\n",
    "\n",
    "def compute_geodesic(startpoint, endpoint, num_div, num_passes=2):\n",
    "    grid, geod = divide(startpoint, endpoint, num_div)\n",
    "    length_pass = []\n",
    "    length_pass.append(distance_geod(geod))\n",
    "    for n in range(num_passes):\n",
    "        r=np.arange(len(grid))[1:-1]\n",
    "        np.random.shuffle(r)\n",
    "        for pt_index in r:\n",
    "            geod[pt_index] = minimize_length_step(pt_index, geod)\n",
    "        length_pass.append(distance_geod(geod))\n",
    "    return geod, length_pass"
   ]
  },
  {
   "cell_type": "code",
   "execution_count": 29,
   "metadata": {},
   "outputs": [],
   "source": [
    "start_pic = make_pix_pic()\n",
    "end_pic =  shift_pic(make_pix_pic(),shift=1)"
   ]
  },
  {
   "cell_type": "code",
   "execution_count": 30,
   "metadata": {},
   "outputs": [
    {
     "data": {
      "text/plain": [
       "<matplotlib.colorbar.Colorbar at 0x125124c18>"
      ]
     },
     "execution_count": 30,
     "metadata": {},
     "output_type": "execute_result"
    },
    {
     "data": {
      "image/png": "[encoded data removed]",
      "text/plain": [
       "<Figure size 432x288 with 2 Axes>"
      ]
     },
     "metadata": {},
     "output_type": "display_data"
    }
   ],
   "source": [
    "plt.imshow(end_pic.reshape([28,28]))\n",
    "plt.colorbar()"
   ]
  },
  {
   "cell_type": "code",
   "execution_count": 31,
   "metadata": {},
   "outputs": [],
   "source": [
    "# bounds = [(0,1)]*3\n",
    "\n",
    "# soln = optimize.differential_evolution(lambda x: mid_func(apply_padding(x), start_pic, end_pic), bounds=[(0,1),(0,1),(0,1)], maxiter=100,popsize=30, recombination=1, disp=True)"
   ]
  },
  {
   "cell_type": "code",
   "execution_count": 32,
   "metadata": {},
   "outputs": [],
   "source": [
    "# soln"
   ]
  },
  {
   "cell_type": "code",
   "execution_count": 33,
   "metadata": {},
   "outputs": [
    {
     "name": "stdout",
     "output_type": "stream",
     "text": [
      "integrating geodesic\n",
      "begin diff evolution\n",
      "differential_evolution step 1: f(x)= 0.0795757\n",
      "differential_evolution step 2: f(x)= 0.0795757\n",
      "differential_evolution step 3: f(x)= 0.0784594\n",
      "differential_evolution step 4: f(x)= 0.0691608\n",
      "differential_evolution step 5: f(x)= 0.0691608\n",
      "differential_evolution step 6: f(x)= 0.0691608\n",
      "differential_evolution step 7: f(x)= 0.0691608\n",
      "differential_evolution step 8: f(x)= 0.0691608\n",
      "differential_evolution step 9: f(x)= 0.0691608\n",
      "differential_evolution step 10: f(x)= 0.0691608\n",
      "differential_evolution step 11: f(x)= 0.0691608\n",
      "differential_evolution step 12: f(x)= 0.0691608\n",
      "differential_evolution step 13: f(x)= 0.0691608\n",
      "differential_evolution step 14: f(x)= 0.0691608\n",
      "differential_evolution step 15: f(x)= 0.0691608\n",
      "differential_evolution step 16: f(x)= 0.0691402\n",
      "end diff evolution\n",
      "result was:  [0.41988389 0.62095751]\n",
      "begin diff evolution\n",
      "differential_evolution step 1: f(x)= 0.0725193\n",
      "differential_evolution step 2: f(x)= 0.0725193\n",
      "differential_evolution step 3: f(x)= 0.0723602\n",
      "differential_evolution step 4: f(x)= 0.0723602\n",
      "differential_evolution step 5: f(x)= 0.0691779\n",
      "differential_evolution step 6: f(x)= 0.0691779\n",
      "differential_evolution step 7: f(x)= 0.0691779\n",
      "differential_evolution step 8: f(x)= 0.0690717\n",
      "differential_evolution step 9: f(x)= 0.0690717\n",
      "differential_evolution step 10: f(x)= 0.0673888\n",
      "differential_evolution step 11: f(x)= 0.0673888\n",
      "differential_evolution step 12: f(x)= 0.0673888\n",
      "differential_evolution step 13: f(x)= 0.0673616\n",
      "differential_evolution step 14: f(x)= 0.0673616\n",
      "differential_evolution step 15: f(x)= 0.0673375\n",
      "differential_evolution step 16: f(x)= 0.0673113\n",
      "differential_evolution step 17: f(x)= 0.0672816\n",
      "end diff evolution\n",
      "result was:  [0.6250289  0.46681345]\n",
      "begin diff evolution\n",
      "differential_evolution step 1: f(x)= 0.0832767\n",
      "differential_evolution step 2: f(x)= 0.079593\n",
      "differential_evolution step 3: f(x)= 0.079593\n",
      "differential_evolution step 4: f(x)= 0.0792927\n",
      "differential_evolution step 5: f(x)= 0.0765544\n",
      "differential_evolution step 6: f(x)= 0.0765544\n",
      "differential_evolution step 7: f(x)= 0.0765544\n",
      "differential_evolution step 8: f(x)= 0.0765544\n",
      "differential_evolution step 9: f(x)= 0.0765544\n",
      "differential_evolution step 10: f(x)= 0.0765544\n",
      "differential_evolution step 11: f(x)= 0.0765544\n",
      "differential_evolution step 12: f(x)= 0.0757723\n",
      "differential_evolution step 13: f(x)= 0.0757723\n",
      "differential_evolution step 14: f(x)= 0.0755239\n",
      "differential_evolution step 15: f(x)= 0.0752799\n",
      "differential_evolution step 16: f(x)= 0.0752524\n",
      "differential_evolution step 17: f(x)= 0.0752524\n",
      "differential_evolution step 18: f(x)= 0.0752524\n",
      "differential_evolution step 19: f(x)= 0.0752498\n",
      "differential_evolution step 20: f(x)= 0.0752498\n",
      "differential_evolution step 21: f(x)= 0.0751604\n",
      "differential_evolution step 22: f(x)= 0.0751604\n",
      "differential_evolution step 23: f(x)= 0.0751604\n",
      "end diff evolution\n",
      "result was:  [0.53596375 0.58089009]\n",
      "integrating geodesic\n",
      "begin diff evolution\n",
      "differential_evolution step 1: f(x)= 0.02545\n",
      "differential_evolution step 2: f(x)= 0.02545\n",
      "differential_evolution step 3: f(x)= 0.0252535\n",
      "differential_evolution step 4: f(x)= 0.0218501\n",
      "differential_evolution step 5: f(x)= 0.0218501\n",
      "differential_evolution step 6: f(x)= 0.0206981\n",
      "differential_evolution step 7: f(x)= 0.0204805\n",
      "differential_evolution step 8: f(x)= 0.0204805\n",
      "differential_evolution step 9: f(x)= 0.0204805\n",
      "differential_evolution step 10: f(x)= 0.0204805\n",
      "differential_evolution step 11: f(x)= 0.0202887\n",
      "differential_evolution step 12: f(x)= 0.0202887\n",
      "differential_evolution step 13: f(x)= 0.0202119\n",
      "differential_evolution step 14: f(x)= 0.020198\n",
      "differential_evolution step 15: f(x)= 0.0201875\n",
      "differential_evolution step 16: f(x)= 0.0201503\n",
      "differential_evolution step 17: f(x)= 0.0201416\n",
      "differential_evolution step 18: f(x)= 0.0201385\n",
      "end diff evolution\n",
      "result was:  [0.57217097 0.53881439]\n",
      "begin diff evolution\n",
      "differential_evolution step 1: f(x)= 0.0629914\n",
      "differential_evolution step 2: f(x)= 0.0602666\n",
      "differential_evolution step 3: f(x)= 0.0542557\n",
      "differential_evolution step 4: f(x)= 0.0542557\n",
      "differential_evolution step 5: f(x)= 0.0542557\n",
      "differential_evolution step 6: f(x)= 0.0542557\n",
      "differential_evolution step 7: f(x)= 0.0540179\n",
      "differential_evolution step 8: f(x)= 0.0536687\n",
      "differential_evolution step 9: f(x)= 0.05365\n",
      "differential_evolution step 10: f(x)= 0.0536458\n",
      "differential_evolution step 11: f(x)= 0.0536385\n",
      "differential_evolution step 12: f(x)= 0.0535274\n",
      "differential_evolution step 13: f(x)= 0.0535238\n",
      "end diff evolution\n",
      "result was:  [0.6589624  0.46458416]\n",
      "begin diff evolution\n",
      "differential_evolution step 1: f(x)= 0.073594\n",
      "differential_evolution step 2: f(x)= 0.0710341\n",
      "differential_evolution step 3: f(x)= 0.0710341\n",
      "differential_evolution step 4: f(x)= 0.0710341\n",
      "differential_evolution step 5: f(x)= 0.0653002\n",
      "differential_evolution step 6: f(x)= 0.0629954\n",
      "differential_evolution step 7: f(x)= 0.0629954\n",
      "differential_evolution step 8: f(x)= 0.062556\n",
      "differential_evolution step 9: f(x)= 0.0621912\n",
      "differential_evolution step 10: f(x)= 0.0614436\n",
      "differential_evolution step 11: f(x)= 0.0614436\n",
      "differential_evolution step 12: f(x)= 0.0612448\n",
      "differential_evolution step 13: f(x)= 0.0612448\n",
      "differential_evolution step 14: f(x)= 0.0611774\n",
      "differential_evolution step 15: f(x)= 0.0611774\n",
      "differential_evolution step 16: f(x)= 0.0611563\n",
      "differential_evolution step 17: f(x)= 0.0611563\n",
      "differential_evolution step 18: f(x)= 0.0611458\n",
      "differential_evolution step 19: f(x)= 0.0611458\n",
      "end diff evolution\n",
      "result was:  [0.54930517 0.58409492]\n",
      "integrating geodesic\n",
      "begin diff evolution\n",
      "differential_evolution step 1: f(x)= 0.0195953\n",
      "differential_evolution step 2: f(x)= 0.0195953\n",
      "differential_evolution step 3: f(x)= 0.0195953\n",
      "differential_evolution step 4: f(x)= 0.0194138\n",
      "differential_evolution step 5: f(x)= 0.0194138\n",
      "differential_evolution step 6: f(x)= 0.0188136\n",
      "differential_evolution step 7: f(x)= 0.0188136\n",
      "differential_evolution step 8: f(x)= 0.0180106\n",
      "differential_evolution step 9: f(x)= 0.0180106\n",
      "differential_evolution step 10: f(x)= 0.0180106\n",
      "differential_evolution step 11: f(x)= 0.0179486\n",
      "differential_evolution step 12: f(x)= 0.0179486\n",
      "differential_evolution step 13: f(x)= 0.0179486\n",
      "differential_evolution step 14: f(x)= 0.0179486\n",
      "differential_evolution step 15: f(x)= 0.0179486\n",
      "differential_evolution step 16: f(x)= 0.0179486\n",
      "differential_evolution step 17: f(x)= 0.0179486\n",
      "differential_evolution step 18: f(x)= 0.0179161\n",
      "differential_evolution step 19: f(x)= 0.0179161\n",
      "end diff evolution\n",
      "result was:  [0.59000831 0.54268301]\n",
      "begin diff evolution\n",
      "differential_evolution step 1: f(x)= 0.0712805\n",
      "differential_evolution step 2: f(x)= 0.0712805\n",
      "differential_evolution step 3: f(x)= 0.0649246\n",
      "differential_evolution step 4: f(x)= 0.0607295\n",
      "differential_evolution step 5: f(x)= 0.0575794\n",
      "differential_evolution step 6: f(x)= 0.0560586\n",
      "differential_evolution step 7: f(x)= 0.0560586\n",
      "differential_evolution step 8: f(x)= 0.0560586\n",
      "differential_evolution step 9: f(x)= 0.0559955\n",
      "differential_evolution step 10: f(x)= 0.0558334\n",
      "differential_evolution step 11: f(x)= 0.0558334\n",
      "differential_evolution step 12: f(x)= 0.055825\n",
      "differential_evolution step 13: f(x)= 0.0557171\n",
      "end diff evolution\n",
      "result was:  [0.55417179 0.58947274]\n",
      "begin diff evolution\n",
      "differential_evolution step 1: f(x)= 0.0651608\n",
      "differential_evolution step 2: f(x)= 0.0535347\n",
      "differential_evolution step 3: f(x)= 0.0535347\n",
      "differential_evolution step 4: f(x)= 0.0535347\n",
      "differential_evolution step 5: f(x)= 0.0526291\n",
      "differential_evolution step 6: f(x)= 0.0526291\n",
      "differential_evolution step 7: f(x)= 0.0526291\n",
      "differential_evolution step 8: f(x)= 0.0526291\n",
      "differential_evolution step 9: f(x)= 0.0526291\n",
      "differential_evolution step 10: f(x)= 0.0526291\n",
      "differential_evolution step 11: f(x)= 0.0525229\n",
      "differential_evolution step 12: f(x)= 0.0525229\n",
      "differential_evolution step 13: f(x)= 0.0525229\n",
      "differential_evolution step 14: f(x)= 0.0525229\n",
      "differential_evolution step 15: f(x)= 0.0524747\n",
      "end diff evolution\n",
      "result was:  [0.77140577 0.34652691]\n",
      "integrating geodesic\n",
      "begin diff evolution\n",
      "differential_evolution step 1: f(x)= 0.0635476\n",
      "differential_evolution step 2: f(x)= 0.0541853\n",
      "differential_evolution step 3: f(x)= 0.0541853\n",
      "differential_evolution step 4: f(x)= 0.0541853\n"
     ]
    },
    {
     "name": "stdout",
     "output_type": "stream",
     "text": [
      "differential_evolution step 5: f(x)= 0.0541853\n",
      "differential_evolution step 6: f(x)= 0.0519682\n",
      "differential_evolution step 7: f(x)= 0.0519682\n",
      "differential_evolution step 8: f(x)= 0.0519682\n",
      "differential_evolution step 9: f(x)= 0.0519682\n",
      "differential_evolution step 10: f(x)= 0.0519682\n",
      "differential_evolution step 11: f(x)= 0.0515625\n",
      "differential_evolution step 12: f(x)= 0.0514375\n",
      "differential_evolution step 13: f(x)= 0.0514375\n",
      "differential_evolution step 14: f(x)= 0.0512477\n",
      "differential_evolution step 15: f(x)= 0.0511551\n",
      "differential_evolution step 16: f(x)= 0.0511551\n",
      "differential_evolution step 17: f(x)= 0.0511295\n",
      "differential_evolution step 18: f(x)= 0.0511295\n",
      "differential_evolution step 19: f(x)= 0.0510891\n",
      "end diff evolution\n",
      "result was:  [0.66266182 0.46555702]\n",
      "begin diff evolution\n",
      "differential_evolution step 1: f(x)= 0.0406657\n",
      "differential_evolution step 2: f(x)= 0.0214768\n",
      "differential_evolution step 3: f(x)= 0.0214768\n",
      "differential_evolution step 4: f(x)= 0.0207069\n",
      "differential_evolution step 5: f(x)= 0.0199098\n",
      "differential_evolution step 6: f(x)= 0.0195559\n",
      "differential_evolution step 7: f(x)= 0.0195559\n",
      "differential_evolution step 8: f(x)= 0.0195559\n",
      "differential_evolution step 9: f(x)= 0.0194337\n",
      "differential_evolution step 10: f(x)= 0.0193332\n",
      "differential_evolution step 11: f(x)= 0.0193332\n",
      "differential_evolution step 12: f(x)= 0.0193332\n",
      "differential_evolution step 13: f(x)= 0.0192854\n",
      "differential_evolution step 14: f(x)= 0.0192854\n",
      "differential_evolution step 15: f(x)= 0.0192854\n",
      "differential_evolution step 16: f(x)= 0.0192854\n",
      "differential_evolution step 17: f(x)= 0.0192704\n",
      "differential_evolution step 18: f(x)= 0.0192704\n",
      "differential_evolution step 19: f(x)= 0.0192454\n",
      "differential_evolution step 20: f(x)= 0.0192454\n",
      "differential_evolution step 21: f(x)= 0.0192454\n",
      "end diff evolution\n",
      "result was:  [0.59428677 0.54790748]\n",
      "begin diff evolution\n",
      "differential_evolution step 1: f(x)= 0.0849089\n",
      "differential_evolution step 2: f(x)= 0.0849089\n",
      "differential_evolution step 3: f(x)= 0.054744\n",
      "differential_evolution step 4: f(x)= 0.054744\n",
      "differential_evolution step 5: f(x)= 0.054744\n",
      "differential_evolution step 6: f(x)= 0.054744\n",
      "differential_evolution step 7: f(x)= 0.054744\n",
      "differential_evolution step 8: f(x)= 0.054185\n",
      "differential_evolution step 9: f(x)= 0.0530724\n",
      "differential_evolution step 10: f(x)= 0.0530724\n",
      "differential_evolution step 11: f(x)= 0.0530724\n",
      "differential_evolution step 12: f(x)= 0.0522075\n",
      "differential_evolution step 13: f(x)= 0.0522075\n",
      "differential_evolution step 14: f(x)= 0.0522075\n",
      "differential_evolution step 15: f(x)= 0.0519653\n",
      "differential_evolution step 16: f(x)= 0.0515104\n",
      "differential_evolution step 17: f(x)= 0.0515104\n",
      "differential_evolution step 18: f(x)= 0.0515104\n",
      "differential_evolution step 19: f(x)= 0.0515104\n",
      "differential_evolution step 20: f(x)= 0.0515104\n",
      "differential_evolution step 21: f(x)= 0.0515104\n",
      "differential_evolution step 22: f(x)= 0.0514791\n",
      "differential_evolution step 23: f(x)= 0.0514738\n",
      "differential_evolution step 24: f(x)= 0.0514738\n",
      "differential_evolution step 25: f(x)= 0.0514738\n",
      "end diff evolution\n",
      "result was:  [0.55631738 0.58402714]\n",
      "integrating geodesic\n",
      "begin diff evolution\n",
      "differential_evolution step 1: f(x)= 0.0536195\n",
      "differential_evolution step 2: f(x)= 0.0536195\n",
      "differential_evolution step 3: f(x)= 0.0536195\n",
      "differential_evolution step 4: f(x)= 0.0536195\n",
      "differential_evolution step 5: f(x)= 0.0525964\n",
      "differential_evolution step 6: f(x)= 0.0513066\n",
      "differential_evolution step 7: f(x)= 0.0512125\n",
      "differential_evolution step 8: f(x)= 0.0512125\n",
      "differential_evolution step 9: f(x)= 0.0512125\n",
      "differential_evolution step 10: f(x)= 0.0511032\n",
      "differential_evolution step 11: f(x)= 0.0511032\n",
      "differential_evolution step 12: f(x)= 0.0510721\n",
      "differential_evolution step 13: f(x)= 0.0510721\n",
      "end diff evolution\n",
      "result was:  [0.69367672 0.45722358]\n",
      "begin diff evolution\n",
      "differential_evolution step 1: f(x)= 0.0230467\n",
      "differential_evolution step 2: f(x)= 0.0215935\n",
      "differential_evolution step 3: f(x)= 0.0186963\n",
      "differential_evolution step 4: f(x)= 0.0186963\n",
      "differential_evolution step 5: f(x)= 0.0186963\n",
      "differential_evolution step 6: f(x)= 0.0186963\n",
      "differential_evolution step 7: f(x)= 0.0176501\n",
      "differential_evolution step 8: f(x)= 0.0173129\n",
      "differential_evolution step 9: f(x)= 0.0173086\n",
      "differential_evolution step 10: f(x)= 0.0172523\n",
      "differential_evolution step 11: f(x)= 0.0169812\n",
      "differential_evolution step 12: f(x)= 0.0169812\n",
      "differential_evolution step 13: f(x)= 0.0169812\n",
      "differential_evolution step 14: f(x)= 0.0169812\n",
      "differential_evolution step 15: f(x)= 0.0169668\n",
      "end diff evolution\n",
      "result was:  [0.62786627 0.52822869]\n",
      "begin diff evolution\n",
      "differential_evolution step 1: f(x)= 0.0811877\n",
      "differential_evolution step 2: f(x)= 0.0725115\n",
      "differential_evolution step 3: f(x)= 0.0636256\n",
      "differential_evolution step 4: f(x)= 0.063087\n",
      "differential_evolution step 5: f(x)= 0.0563729\n",
      "differential_evolution step 6: f(x)= 0.0563729\n",
      "differential_evolution step 7: f(x)= 0.0550065\n",
      "differential_evolution step 8: f(x)= 0.0550065\n",
      "differential_evolution step 9: f(x)= 0.0545949\n",
      "differential_evolution step 10: f(x)= 0.0542838\n",
      "differential_evolution step 11: f(x)= 0.0541652\n",
      "differential_evolution step 12: f(x)= 0.0541652\n",
      "differential_evolution step 13: f(x)= 0.0541652\n",
      "differential_evolution step 14: f(x)= 0.0541652\n",
      "differential_evolution step 15: f(x)= 0.0541652\n",
      "differential_evolution step 16: f(x)= 0.0541652\n",
      "differential_evolution step 17: f(x)= 0.0541652\n",
      "differential_evolution step 18: f(x)= 0.054055\n",
      "differential_evolution step 19: f(x)= 0.054055\n",
      "end diff evolution\n",
      "result was:  [0.56015128 0.58795697]\n",
      "integrating geodesic\n",
      "begin diff evolution\n",
      "differential_evolution step 1: f(x)= 0.019772\n",
      "differential_evolution step 2: f(x)= 0.0185417\n",
      "differential_evolution step 3: f(x)= 0.0185417\n",
      "differential_evolution step 4: f(x)= 0.0165649\n",
      "differential_evolution step 5: f(x)= 0.0165649\n",
      "differential_evolution step 6: f(x)= 0.0165649\n",
      "differential_evolution step 7: f(x)= 0.0165649\n",
      "differential_evolution step 8: f(x)= 0.0165649\n",
      "differential_evolution step 9: f(x)= 0.0161611\n",
      "differential_evolution step 10: f(x)= 0.0161549\n",
      "differential_evolution step 11: f(x)= 0.0159613\n",
      "differential_evolution step 12: f(x)= 0.0159613\n",
      "differential_evolution step 13: f(x)= 0.0159613\n",
      "differential_evolution step 14: f(x)= 0.0159613\n",
      "differential_evolution step 15: f(x)= 0.0159109\n",
      "end diff evolution\n",
      "result was:  [0.63230345 0.53145286]\n",
      "begin diff evolution\n",
      "differential_evolution step 1: f(x)= 0.0505776\n",
      "differential_evolution step 2: f(x)= 0.0495633\n",
      "differential_evolution step 3: f(x)= 0.0449994\n",
      "differential_evolution step 4: f(x)= 0.0449994\n",
      "differential_evolution step 5: f(x)= 0.0437048\n",
      "differential_evolution step 6: f(x)= 0.042851\n",
      "differential_evolution step 7: f(x)= 0.042851\n",
      "differential_evolution step 8: f(x)= 0.042851\n",
      "differential_evolution step 9: f(x)= 0.0426874\n",
      "differential_evolution step 10: f(x)= 0.0426874\n",
      "differential_evolution step 11: f(x)= 0.0426594\n",
      "differential_evolution step 12: f(x)= 0.0426594\n",
      "end diff evolution\n",
      "result was:  [0.69938655 0.45737079]\n",
      "begin diff evolution\n",
      "differential_evolution step 1: f(x)= 0.0634155\n",
      "differential_evolution step 2: f(x)= 0.0634155\n",
      "differential_evolution step 3: f(x)= 0.0634155\n",
      "differential_evolution step 4: f(x)= 0.0573291\n",
      "differential_evolution step 5: f(x)= 0.0573291\n",
      "differential_evolution step 6: f(x)= 0.0556082\n",
      "differential_evolution step 7: f(x)= 0.0556082\n",
      "differential_evolution step 8: f(x)= 0.0544471\n",
      "differential_evolution step 9: f(x)= 0.0544471\n",
      "differential_evolution step 10: f(x)= 0.0543616\n",
      "differential_evolution step 11: f(x)= 0.0542621\n",
      "differential_evolution step 12: f(x)= 0.0540146\n",
      "differential_evolution step 13: f(x)= 0.0538164\n",
      "differential_evolution step 14: f(x)= 0.0538164\n",
      "differential_evolution step 15: f(x)= 0.0538164\n",
      "differential_evolution step 16: f(x)= 0.0538059\n",
      "differential_evolution step 17: f(x)= 0.0537894\n",
      "end diff evolution\n",
      "result was:  [0.55834784 0.59365135]\n",
      "integrating geodesic\n"
     ]
    }
   ],
   "source": [
    "g = compute_geodesic(start_pic, end_pic, num_div=5, num_passes=6)"
   ]
  },
  {
   "cell_type": "code",
   "execution_count": 34,
   "metadata": {},
   "outputs": [
    {
     "data": {
      "text/plain": [
       "(5, 784)"
      ]
     },
     "execution_count": 34,
     "metadata": {},
     "output_type": "execute_result"
    }
   ],
   "source": [
    "g[0].shape"
   ]
  },
  {
   "cell_type": "code",
   "execution_count": 35,
   "metadata": {},
   "outputs": [
    {
     "name": "stdout",
     "output_type": "stream",
     "text": [
      "vals:  [0.   0.99 0.  ]\n"
     ]
    },
    {
     "data": {
      "image/png": "[encoded data removed]",
      "text/plain": [
       "<Figure size 432x288 with 1 Axes>"
      ]
     },
     "metadata": {},
     "output_type": "display_data"
    },
    {
     "name": "stdout",
     "output_type": "stream",
     "text": [
      "vals:  [0.         0.69938655 0.45737079]\n"
     ]
    },
    {
     "data": {
      "image/png": "[encoded data removed]",
      "text/plain": [
       "<Figure size 432x288 with 1 Axes>"
      ]
     },
     "metadata": {},
     "output_type": "display_data"
    },
    {
     "name": "stdout",
     "output_type": "stream",
     "text": [
      "vals:  [0.         0.63230345 0.53145286]\n"
     ]
    },
    {
     "data": {
      "image/png": "[encoded data removed]",
      "text/plain": [
       "<Figure size 432x288 with 1 Axes>"
      ]
     },
     "metadata": {},
     "output_type": "display_data"
    },
    {
     "name": "stdout",
     "output_type": "stream",
     "text": [
      "vals:  [0.         0.55834784 0.59365135]\n"
     ]
    },
    {
     "data": {
      "image/png": "[encoded data removed]",
      "text/plain": [
       "<Figure size 432x288 with 1 Axes>"
      ]
     },
     "metadata": {},
     "output_type": "display_data"
    },
    {
     "name": "stdout",
     "output_type": "stream",
     "text": [
      "vals:  [0.   0.   0.99]\n"
     ]
    },
    {
     "data": {
      "image/png": "[encoded data removed]",
      "text/plain": [
       "<Figure size 432x288 with 1 Axes>"
      ]
     },
     "metadata": {},
     "output_type": "display_data"
    },
    {
     "ename": "IndexError",
     "evalue": "index 5 is out of bounds for axis 0 with size 5",
     "output_type": "error",
     "traceback": [
      "\u001b[0;31m---------------------------------------------------------------------------\u001b[0m",
      "\u001b[0;31mIndexError\u001b[0m                                Traceback (most recent call last)",
      "\u001b[0;32m<ipython-input-35-f67c8197c25f>\u001b[0m in \u001b[0;36m<module>\u001b[0;34m()\u001b[0m\n\u001b[1;32m      1\u001b[0m \u001b[0;32mfor\u001b[0m \u001b[0mi\u001b[0m \u001b[0;32min\u001b[0m \u001b[0mrange\u001b[0m\u001b[0;34m(\u001b[0m\u001b[0;36m10\u001b[0m\u001b[0;34m)\u001b[0m\u001b[0;34m:\u001b[0m\u001b[0;34m\u001b[0m\u001b[0m\n\u001b[0;32m----> 2\u001b[0;31m     \u001b[0mprint\u001b[0m\u001b[0;34m(\u001b[0m\u001b[0;34m'vals: '\u001b[0m\u001b[0;34m,\u001b[0m \u001b[0;34m(\u001b[0m\u001b[0mg\u001b[0m\u001b[0;34m[\u001b[0m\u001b[0;36m0\u001b[0m\u001b[0;34m]\u001b[0m\u001b[0;34m[\u001b[0m\u001b[0mi\u001b[0m\u001b[0;34m,\u001b[0m\u001b[0;34m:\u001b[0m\u001b[0;34m]\u001b[0m\u001b[0;34m.\u001b[0m\u001b[0mreshape\u001b[0m\u001b[0;34m(\u001b[0m\u001b[0;34m[\u001b[0m\u001b[0;36m28\u001b[0m\u001b[0;34m,\u001b[0m\u001b[0;36m28\u001b[0m\u001b[0;34m]\u001b[0m\u001b[0;34m)\u001b[0m\u001b[0;34m[\u001b[0m\u001b[0;36m14\u001b[0m\u001b[0;34m,\u001b[0m\u001b[0;36m13\u001b[0m\u001b[0;34m:\u001b[0m\u001b[0;36m16\u001b[0m\u001b[0;34m]\u001b[0m\u001b[0;34m)\u001b[0m\u001b[0;34m)\u001b[0m\u001b[0;34m\u001b[0m\u001b[0m\n\u001b[0m\u001b[1;32m      3\u001b[0m     \u001b[0mplt\u001b[0m\u001b[0;34m.\u001b[0m\u001b[0mimshow\u001b[0m\u001b[0;34m(\u001b[0m\u001b[0mg\u001b[0m\u001b[0;34m[\u001b[0m\u001b[0;36m0\u001b[0m\u001b[0;34m]\u001b[0m\u001b[0;34m[\u001b[0m\u001b[0mi\u001b[0m\u001b[0;34m,\u001b[0m\u001b[0;34m:\u001b[0m\u001b[0;34m]\u001b[0m\u001b[0;34m.\u001b[0m\u001b[0mreshape\u001b[0m\u001b[0;34m(\u001b[0m\u001b[0;34m[\u001b[0m\u001b[0;36m28\u001b[0m\u001b[0;34m,\u001b[0m\u001b[0;36m28\u001b[0m\u001b[0;34m]\u001b[0m\u001b[0;34m)\u001b[0m\u001b[0;34m)\u001b[0m\u001b[0;34m\u001b[0m\u001b[0m\n\u001b[1;32m      4\u001b[0m     \u001b[0mplt\u001b[0m\u001b[0;34m.\u001b[0m\u001b[0mshow\u001b[0m\u001b[0;34m(\u001b[0m\u001b[0;34m)\u001b[0m\u001b[0;34m\u001b[0m\u001b[0m\n",
      "\u001b[0;31mIndexError\u001b[0m: index 5 is out of bounds for axis 0 with size 5"
     ]
    }
   ],
   "source": [
    "for i in range(10):\n",
    "    print('vals: ', (g[0][i,:].reshape([28,28])[14,13:16]))\n",
    "    plt.imshow(g[0][i,:].reshape([28,28]))\n",
    "    plt.show()"
   ]
  },
  {
   "cell_type": "code",
   "execution_count": 36,
   "metadata": {},
   "outputs": [
    {
     "data": {
      "text/plain": [
       "[0.3782344663546075,\n",
       " 0.2619881761711881,\n",
       " 0.16775491339548332,\n",
       " 0.16643322060718796,\n",
       " 0.16384271671969636,\n",
       " 0.15669360718871725,\n",
       " 0.1578673518342465]"
      ]
     },
     "execution_count": 36,
     "metadata": {},
     "output_type": "execute_result"
    }
   ],
   "source": [
    "g[1]"
   ]
  },
  {
   "cell_type": "code",
   "execution_count": null,
   "metadata": {},
   "outputs": [],
   "source": [
    "g[1]"
   ]
  },
  {
   "cell_type": "code",
   "execution_count": null,
   "metadata": {},
   "outputs": [],
   "source": []
  }
 ],
 "metadata": {
  "kernelspec": {
   "display_name": "Python 3",
   "language": "python",
   "name": "python3"
  },
  "language_info": {
   "codemirror_mode": {
    "name": "ipython",
    "version": 3
   },
   "file_extension": ".py",
   "mimetype": "text/x-python",
   "name": "python",
   "nbconvert_exporter": "python",
   "pygments_lexer": "ipython3",
   "version": "3.6.5"
  }
 },
 "nbformat": 4,
 "nbformat_minor": 2
}
