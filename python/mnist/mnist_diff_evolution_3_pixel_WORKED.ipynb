{
 "cells": [
  {
   "cell_type": "code",
   "execution_count": 1,
   "metadata": {},
   "outputs": [],
   "source": [
    "from tensorflow.examples.tutorials.mnist import input_data\n",
    "import tensorflow as tf\n",
    "import matplotlib.pyplot as plt\n",
    "import numpy as np"
   ]
  },
  {
   "cell_type": "code",
   "execution_count": 2,
   "metadata": {},
   "outputs": [],
   "source": [
    "import scipy.integrate as integrate\n",
    "import scipy.optimize as optimize"
   ]
  },
  {
   "cell_type": "code",
   "execution_count": 3,
   "metadata": {},
   "outputs": [
    {
     "name": "stdout",
     "output_type": "stream",
     "text": [
      "WARNING:tensorflow:From <ipython-input-3-71e12f4bac70>:1: read_data_sets (from tensorflow.contrib.learn.python.learn.datasets.mnist) is deprecated and will be removed in a future version.\n",
      "Instructions for updating:\n",
      "Please use alternatives such as official/mnist/dataset.py from tensorflow/models.\n",
      "WARNING:tensorflow:From /Users/michaelmcdermott/.local/share/virtualenvs/python-_2MbXz7b/lib/python3.6/site-packages/tensorflow/contrib/learn/python/learn/datasets/mnist.py:260: maybe_download (from tensorflow.contrib.learn.python.learn.datasets.base) is deprecated and will be removed in a future version.\n",
      "Instructions for updating:\n",
      "Please write your own downloading logic.\n",
      "WARNING:tensorflow:From /Users/michaelmcdermott/.local/share/virtualenvs/python-_2MbXz7b/lib/python3.6/site-packages/tensorflow/contrib/learn/python/learn/datasets/mnist.py:262: extract_images (from tensorflow.contrib.learn.python.learn.datasets.mnist) is deprecated and will be removed in a future version.\n",
      "Instructions for updating:\n",
      "Please use tf.data to implement this functionality.\n",
      "Extracting MNIST_data/train-images-idx3-ubyte.gz\n",
      "WARNING:tensorflow:From /Users/michaelmcdermott/.local/share/virtualenvs/python-_2MbXz7b/lib/python3.6/site-packages/tensorflow/contrib/learn/python/learn/datasets/mnist.py:267: extract_labels (from tensorflow.contrib.learn.python.learn.datasets.mnist) is deprecated and will be removed in a future version.\n",
      "Instructions for updating:\n",
      "Please use tf.data to implement this functionality.\n",
      "Extracting MNIST_data/train-labels-idx1-ubyte.gz\n",
      "WARNING:tensorflow:From /Users/michaelmcdermott/.local/share/virtualenvs/python-_2MbXz7b/lib/python3.6/site-packages/tensorflow/contrib/learn/python/learn/datasets/mnist.py:110: dense_to_one_hot (from tensorflow.contrib.learn.python.learn.datasets.mnist) is deprecated and will be removed in a future version.\n",
      "Instructions for updating:\n",
      "Please use tf.one_hot on tensors.\n",
      "Extracting MNIST_data/t10k-images-idx3-ubyte.gz\n",
      "Extracting MNIST_data/t10k-labels-idx1-ubyte.gz\n",
      "WARNING:tensorflow:From /Users/michaelmcdermott/.local/share/virtualenvs/python-_2MbXz7b/lib/python3.6/site-packages/tensorflow/contrib/learn/python/learn/datasets/mnist.py:290: DataSet.__init__ (from tensorflow.contrib.learn.python.learn.datasets.mnist) is deprecated and will be removed in a future version.\n",
      "Instructions for updating:\n",
      "Please use alternatives such as official/mnist/dataset.py from tensorflow/models.\n"
     ]
    }
   ],
   "source": [
    "mnist = input_data.read_data_sets('MNIST_data', one_hot=True)"
   ]
  },
  {
   "cell_type": "code",
   "execution_count": 4,
   "metadata": {},
   "outputs": [],
   "source": [
    "sess = tf.InteractiveSession()"
   ]
  },
  {
   "cell_type": "code",
   "execution_count": 5,
   "metadata": {},
   "outputs": [],
   "source": [
    "saver = tf.train.import_meta_graph('mnist/conv_99_new.meta')"
   ]
  },
  {
   "cell_type": "code",
   "execution_count": 6,
   "metadata": {},
   "outputs": [
    {
     "name": "stdout",
     "output_type": "stream",
     "text": [
      "INFO:tensorflow:Restoring parameters from mnist/conv_99_new\n"
     ]
    }
   ],
   "source": [
    "saver.restore(sess,'mnist/conv_99_new')"
   ]
  },
  {
   "cell_type": "code",
   "execution_count": 7,
   "metadata": {},
   "outputs": [
    {
     "name": "stdout",
     "output_type": "stream",
     "text": [
      "[<tf.Variable 'Variable:0' shape=(5, 5, 1, 32) dtype=float32_ref>, <tf.Variable 'Variable_1:0' shape=(32,) dtype=float32_ref>, <tf.Variable 'Variable_2:0' shape=(5, 5, 32, 64) dtype=float32_ref>, <tf.Variable 'Variable_3:0' shape=(64,) dtype=float32_ref>, <tf.Variable 'Variable_4:0' shape=(3136, 1024) dtype=float32_ref>, <tf.Variable 'Variable_5:0' shape=(1024,) dtype=float32_ref>, <tf.Variable 'Variable_6:0' shape=(1024, 10) dtype=float32_ref>, <tf.Variable 'Variable_7:0' shape=(10,) dtype=float32_ref>, <tf.Variable 'beta1_power:0' shape=() dtype=float32_ref>, <tf.Variable 'beta2_power:0' shape=() dtype=float32_ref>, <tf.Variable 'Variable/Adam:0' shape=(5, 5, 1, 32) dtype=float32_ref>, <tf.Variable 'Variable/Adam_1:0' shape=(5, 5, 1, 32) dtype=float32_ref>, <tf.Variable 'Variable_1/Adam:0' shape=(32,) dtype=float32_ref>, <tf.Variable 'Variable_1/Adam_1:0' shape=(32,) dtype=float32_ref>, <tf.Variable 'Variable_2/Adam:0' shape=(5, 5, 32, 64) dtype=float32_ref>, <tf.Variable 'Variable_2/Adam_1:0' shape=(5, 5, 32, 64) dtype=float32_ref>, <tf.Variable 'Variable_3/Adam:0' shape=(64,) dtype=float32_ref>, <tf.Variable 'Variable_3/Adam_1:0' shape=(64,) dtype=float32_ref>, <tf.Variable 'Variable_4/Adam:0' shape=(3136, 1024) dtype=float32_ref>, <tf.Variable 'Variable_4/Adam_1:0' shape=(3136, 1024) dtype=float32_ref>, <tf.Variable 'Variable_5/Adam:0' shape=(1024,) dtype=float32_ref>, <tf.Variable 'Variable_5/Adam_1:0' shape=(1024,) dtype=float32_ref>, <tf.Variable 'Variable_6/Adam:0' shape=(1024, 10) dtype=float32_ref>, <tf.Variable 'Variable_6/Adam_1:0' shape=(1024, 10) dtype=float32_ref>, <tf.Variable 'Variable_7/Adam:0' shape=(10,) dtype=float32_ref>, <tf.Variable 'Variable_7/Adam_1:0' shape=(10,) dtype=float32_ref>]\n"
     ]
    }
   ],
   "source": [
    "print(tf.global_variables())"
   ]
  },
  {
   "cell_type": "code",
   "execution_count": 8,
   "metadata": {},
   "outputs": [],
   "source": [
    "keep_prob = tf.get_default_graph().get_tensor_by_name(\"keep_prob:0\")\n",
    "x = tf.get_default_graph().get_tensor_by_name(\"x:0\")\n",
    "y_conv = tf.get_default_graph().get_tensor_by_name(\"y_conv:0\")\n",
    "y_conv_s = tf.get_default_graph().get_tensor_by_name(\"y_conv_s:0\")"
   ]
  },
  {
   "cell_type": "markdown",
   "metadata": {},
   "source": [
    "# Let's create a 3 pixel shifting image"
   ]
  },
  {
   "cell_type": "code",
   "execution_count": 9,
   "metadata": {},
   "outputs": [],
   "source": [
    "pic = mnist.train.images[7]"
   ]
  },
  {
   "cell_type": "code",
   "execution_count": null,
   "metadata": {},
   "outputs": [],
   "source": []
  },
  {
   "cell_type": "code",
   "execution_count": 10,
   "metadata": {},
   "outputs": [
    {
     "data": {
      "text/plain": [
       "<matplotlib.colorbar.Colorbar at 0x125eca780>"
      ]
     },
     "execution_count": 10,
     "metadata": {},
     "output_type": "execute_result"
    },
    {
     "data": {
      "image/png": "[encoded data removed]",
      "text/plain": [
       "<Figure size 432x288 with 2 Axes>"
      ]
     },
     "metadata": {},
     "output_type": "display_data"
    }
   ],
   "source": [
    "plt.imshow(pic.reshape([28,28]))\n",
    "plt.colorbar()"
   ]
  },
  {
   "cell_type": "code",
   "execution_count": 11,
   "metadata": {},
   "outputs": [],
   "source": [
    "def make_pix_pic(coords=(14,14)):\n",
    "    init_pic = np.zeros(784)\n",
    "    init_pic = init_pic.reshape([28,28])\n",
    "    init_pic[coords] = 0.99\n",
    "    return init_pic.reshape(784)"
   ]
  },
  {
   "cell_type": "code",
   "execution_count": 12,
   "metadata": {},
   "outputs": [],
   "source": [
    "init_pic = np.zeros(784)\n",
    "init_pic = init_pic.reshape([28,28])\n",
    "init_pic[14, 10] = 0.9"
   ]
  },
  {
   "cell_type": "code",
   "execution_count": 13,
   "metadata": {},
   "outputs": [
    {
     "data": {
      "text/plain": [
       "<matplotlib.colorbar.Colorbar at 0x126051e10>"
      ]
     },
     "execution_count": 13,
     "metadata": {},
     "output_type": "execute_result"
    },
    {
     "data": {
      "image/png": "[encoded data removed]",
      "text/plain": [
       "<Figure size 432x288 with 2 Axes>"
      ]
     },
     "metadata": {},
     "output_type": "display_data"
    }
   ],
   "source": [
    "plt.imshow(init_pic)\n",
    "plt.colorbar()"
   ]
  },
  {
   "cell_type": "code",
   "execution_count": null,
   "metadata": {},
   "outputs": [],
   "source": []
  },
  {
   "cell_type": "markdown",
   "metadata": {},
   "source": [
    "# Let's compute the geodesics.."
   ]
  },
  {
   "cell_type": "code",
   "execution_count": 14,
   "metadata": {},
   "outputs": [],
   "source": [
    "def norm(x):\n",
    "    return np.sqrt(np.sum(x**2))"
   ]
  },
  {
   "cell_type": "code",
   "execution_count": 15,
   "metadata": {},
   "outputs": [],
   "source": [
    "def callbak(x,convergence):\n",
    "    print('x is: ', x)\n",
    "    print('val is: ', convergence)"
   ]
  },
  {
   "cell_type": "code",
   "execution_count": 16,
   "metadata": {},
   "outputs": [
    {
     "name": "stdout",
     "output_type": "stream",
     "text": [
      "differential_evolution step 1: f(x)= 0.282765\n",
      "differential_evolution step 2: f(x)= 0.195487\n",
      "differential_evolution step 3: f(x)= 0.16713\n",
      "differential_evolution step 4: f(x)= 0.16713\n",
      "differential_evolution step 5: f(x)= 0.16713\n",
      "differential_evolution step 6: f(x)= 0.154962\n",
      "differential_evolution step 7: f(x)= 0.154962\n",
      "differential_evolution step 8: f(x)= 0.127551\n",
      "differential_evolution step 9: f(x)= 0.127551\n",
      "differential_evolution step 10: f(x)= 0.127551\n",
      "differential_evolution step 11: f(x)= 0.127551\n",
      "differential_evolution step 12: f(x)= 0.127551\n",
      "differential_evolution step 13: f(x)= 0.127551\n",
      "differential_evolution step 14: f(x)= 0.118497\n",
      "differential_evolution step 15: f(x)= 0.108585\n",
      "differential_evolution step 16: f(x)= 0.108585\n",
      "differential_evolution step 17: f(x)= 0.106643\n",
      "differential_evolution step 18: f(x)= 0.104243\n",
      "differential_evolution step 19: f(x)= 0.104243\n",
      "differential_evolution step 20: f(x)= 0.104025\n",
      "differential_evolution step 21: f(x)= 0.104025\n",
      "differential_evolution step 22: f(x)= 0.102755\n",
      "differential_evolution step 23: f(x)= 0.102755\n",
      "differential_evolution step 24: f(x)= 0.102382\n",
      "differential_evolution step 25: f(x)= 0.102382\n",
      "differential_evolution step 26: f(x)= 0.102382\n",
      "differential_evolution step 27: f(x)= 0.102382\n",
      "differential_evolution step 28: f(x)= 0.102382\n",
      "differential_evolution step 29: f(x)= 0.102382\n",
      "differential_evolution step 30: f(x)= 0.102185\n",
      "differential_evolution step 31: f(x)= 0.101976\n",
      "differential_evolution step 32: f(x)= 0.100343\n",
      "differential_evolution step 33: f(x)= 0.100343\n",
      "differential_evolution step 34: f(x)= 0.100343\n",
      "differential_evolution step 35: f(x)= 0.100343\n",
      "differential_evolution step 36: f(x)= 0.100146\n",
      "differential_evolution step 37: f(x)= 0.100146\n",
      "differential_evolution step 38: f(x)= 0.100146\n",
      "differential_evolution step 39: f(x)= 0.100146\n",
      "differential_evolution step 40: f(x)= 0.100146\n",
      "differential_evolution step 41: f(x)= 0.100146\n",
      "differential_evolution step 42: f(x)= 0.100135\n",
      "differential_evolution step 43: f(x)= 0.100135\n",
      "differential_evolution step 44: f(x)= 0.100135\n",
      "differential_evolution step 45: f(x)= 0.100115\n",
      "differential_evolution step 46: f(x)= 0.100115\n",
      "differential_evolution step 47: f(x)= 0.100095\n",
      "differential_evolution step 48: f(x)= 0.100095\n"
     ]
    }
   ],
   "source": [
    "te=optimize.differential_evolution(norm, bounds=[(0,1), (0,1), (0,1), (0.1,1)], disp=True)"
   ]
  },
  {
   "cell_type": "code",
   "execution_count": 17,
   "metadata": {},
   "outputs": [
    {
     "data": {
      "text/plain": [
       "     fun: 0.1\n",
       "     jac: array([5.13478149e-08, 5.13478149e-08, 5.13478149e-08, 9.99999999e-01])\n",
       " message: 'Optimization terminated successfully.'\n",
       "    nfev: 2950\n",
       "     nit: 48\n",
       " success: True\n",
       "       x: array([0. , 0. , 0. , 0.1])"
      ]
     },
     "execution_count": 17,
     "metadata": {},
     "output_type": "execute_result"
    }
   ],
   "source": [
    "te"
   ]
  },
  {
   "cell_type": "code",
   "execution_count": 18,
   "metadata": {},
   "outputs": [],
   "source": [
    "def shift_pic(pic, shift=4):\n",
    "    return np.roll(pic.reshape([28,28]), shift, axis=1).reshape([784,])"
   ]
  },
  {
   "cell_type": "code",
   "execution_count": 19,
   "metadata": {},
   "outputs": [],
   "source": [
    "def apply_scalar_padding(x, unpadded_coords=[(14,15)]):\n",
    "    pic = np.zeros([28, 28])\n",
    "    pic[unpadded_coords] = x\n",
    "    return pic.reshape(784)"
   ]
  },
  {
   "cell_type": "code",
   "execution_count": 20,
   "metadata": {},
   "outputs": [],
   "source": [
    "def apply_padding(x, unpadded_coords=[(14, 13), (14,14), (14,15)]):\n",
    "    pic = np.zeros([28, 28])\n",
    "    #pic = 1/100.*np.random.rand(28, 28)\n",
    "    for i, coords in enumerate(unpadded_coords):\n",
    "        pic[coords] = x[i]\n",
    "    return pic.reshape(784)"
   ]
  },
  {
   "cell_type": "code",
   "execution_count": 21,
   "metadata": {},
   "outputs": [],
   "source": [
    "def create_vec_tensor(categories, target = y_conv_s):\n",
    "    vec_tens = []\n",
    "    for i in range(categories):\n",
    "            vec_tens.append(tf.gradients(target[:,i], x)[0])\n",
    "    return vec_tens"
   ]
  },
  {
   "cell_type": "code",
   "execution_count": 22,
   "metadata": {},
   "outputs": [],
   "source": [
    "vec_tens = create_vec_tensor(10)\n",
    "def compute_vec_grad(pic, vec_tens):\n",
    "    var_grad = sess.run(vec_tens, feed_dict={x: pic.reshape([1,len(pic)]), keep_prob: 1.0})\n",
    "    return np.asarray(var_grad).reshape([10, 784])"
   ]
  },
  {
   "cell_type": "code",
   "execution_count": 23,
   "metadata": {},
   "outputs": [],
   "source": [
    "def compute_metric(pic, compute_vec_grad=compute_vec_grad, alpha=0.0, beta=1.0):\n",
    "    vec_grad = compute_vec_grad(pic, vec_tens)\n",
    "    #vec_grad = vec_grad/np.sqrt(np.sum(vec_grad**2, axis=1)).reshape([10,1])\n",
    "    return alpha*np.identity(784) + beta*np.dot(np.transpose(vec_grad),vec_grad)"
   ]
  },
  {
   "cell_type": "code",
   "execution_count": 24,
   "metadata": {},
   "outputs": [],
   "source": [
    "def interp_integrand(start_pic, end_pic, t, metric=compute_metric):\n",
    "    curr_pic = (1-t)*start_pic + t*end_pic \n",
    "    return np.sqrt( np.dot( np.dot(end_pic-start_pic, metric(curr_pic)), end_pic-start_pic))"
   ]
  },
  {
   "cell_type": "code",
   "execution_count": 25,
   "metadata": {},
   "outputs": [],
   "source": [
    "def mid_func(midpoint, startpoint, endpoint, metric=compute_metric):\n",
    "    i = integrate.romberg(lambda t: interp_integrand(startpoint, midpoint, t) + interp_integrand(midpoint, endpoint, t),0,1, tol=1, rtol=1e-4)\n",
    "    return i"
   ]
  },
  {
   "cell_type": "code",
   "execution_count": 26,
   "metadata": {},
   "outputs": [],
   "source": [
    "def distance_geod(geod):\n",
    "    print(\"integrating geodesic\")\n",
    "    length = 0\n",
    "    for i in range(len(geod)-1):\n",
    "        length+=integrate.romberg(lambda t: interp_integrand(geod[i], geod[i+1], t), 0, 1, tol=1, rtol=1e-4)\n",
    "\n",
    "    return length"
   ]
  },
  {
   "cell_type": "code",
   "execution_count": 27,
   "metadata": {},
   "outputs": [],
   "source": [
    "def minimize_length_step(point_index, geod):\n",
    "    bounds = [(0,1)]*3\n",
    "    print('begin diff evolution')\n",
    "    soln = optimize.differential_evolution(lambda x: mid_func(apply_padding(x), geod[point_index-1,:], geod[point_index+1,:]), bounds=bounds, maxiter=100,popsize=30, recombination=1, disp=True)\n",
    "    print('end diff evolution')\n",
    "    print('result was: ', soln['x'])\n",
    "    return np.asarray(apply_padding(soln['x']))"
   ]
  },
  {
   "cell_type": "code",
   "execution_count": 28,
   "metadata": {},
   "outputs": [],
   "source": [
    "#returns the geodesic with first index being the pt index and second being the actual point (or picture in the mnist case)\n",
    "def divide(startpoint, endpoint, num_div):\n",
    "    pt_divs = np.linspace(0, 1, num=num_div)\n",
    "\n",
    "    geod = np.ones(len(pt_divs)).reshape([len(pt_divs),1])*startpoint.reshape([1,len(startpoint)]) + pt_divs.reshape([len(pt_divs),1])*(endpoint-startpoint).reshape([1,len(startpoint)])\n",
    "    for pt_index in range(len(pt_divs))[1:-1]:\n",
    "        geod[pt_index] = make_pix_pic(coords=(14,14))\n",
    "    return pt_divs, geod\n",
    "\n",
    "def compute_geodesic(startpoint, endpoint, num_div, num_passes=2):\n",
    "    grid, geod = divide(startpoint, endpoint, num_div)\n",
    "    length_pass = []\n",
    "    length_pass.append(distance_geod(geod))\n",
    "    for n in range(num_passes):\n",
    "        r=np.arange(len(grid))[1:-1]\n",
    "        np.random.shuffle(r)\n",
    "        for pt_index in r:\n",
    "            geod[pt_index] = minimize_length_step(pt_index, geod)\n",
    "        length_pass.append(distance_geod(geod))\n",
    "    return geod, length_pass"
   ]
  },
  {
   "cell_type": "code",
   "execution_count": 29,
   "metadata": {},
   "outputs": [],
   "source": [
    "start_pic = shift_pic(make_pix_pic(),shift=-1)\n",
    "end_pic =  shift_pic(make_pix_pic(),shift=1)"
   ]
  },
  {
   "cell_type": "code",
   "execution_count": 30,
   "metadata": {},
   "outputs": [
    {
     "data": {
      "text/plain": [
       "<matplotlib.colorbar.Colorbar at 0x11e7b89e8>"
      ]
     },
     "execution_count": 30,
     "metadata": {},
     "output_type": "execute_result"
    },
    {
     "data": {
      "image/png": "[encoded data removed]",
      "text/plain": [
       "<Figure size 432x288 with 2 Axes>"
      ]
     },
     "metadata": {},
     "output_type": "display_data"
    }
   ],
   "source": [
    "plt.imshow(end_pic.reshape([28,28]))\n",
    "plt.colorbar()"
   ]
  },
  {
   "cell_type": "code",
   "execution_count": 31,
   "metadata": {},
   "outputs": [],
   "source": [
    "# bounds = [(0,1)]*3\n",
    "\n",
    "# soln = optimize.differential_evolution(lambda x: mid_func(apply_padding(x), start_pic, end_pic), bounds=[(0,1),(0,1),(0,1)], maxiter=100,popsize=30, recombination=1, disp=True)"
   ]
  },
  {
   "cell_type": "code",
   "execution_count": 32,
   "metadata": {},
   "outputs": [],
   "source": [
    "# soln"
   ]
  },
  {
   "cell_type": "code",
   "execution_count": 33,
   "metadata": {},
   "outputs": [
    {
     "name": "stdout",
     "output_type": "stream",
     "text": [
      "integrating geodesic\n",
      "begin diff evolution\n",
      "differential_evolution step 1: f(x)= 0.0702867\n",
      "differential_evolution step 2: f(x)= 0.0257381\n",
      "differential_evolution step 3: f(x)= 0.00360666\n",
      "differential_evolution step 4: f(x)= 0.00360666\n",
      "differential_evolution step 5: f(x)= 0.00360666\n",
      "differential_evolution step 6: f(x)= 0.00360666\n",
      "differential_evolution step 7: f(x)= 0.00360666\n",
      "differential_evolution step 8: f(x)= 0.00360666\n",
      "differential_evolution step 9: f(x)= 0.00360666\n",
      "differential_evolution step 10: f(x)= 0.00360666\n",
      "differential_evolution step 11: f(x)= 0.00360666\n",
      "differential_evolution step 12: f(x)= 0.00360666\n",
      "differential_evolution step 13: f(x)= 0.00360666\n",
      "differential_evolution step 14: f(x)= 0.00360666\n",
      "differential_evolution step 15: f(x)= 0.00360666\n",
      "differential_evolution step 16: f(x)= 0.00360666\n",
      "differential_evolution step 17: f(x)= 0.000881614\n",
      "differential_evolution step 18: f(x)= 0.000881614\n",
      "differential_evolution step 19: f(x)= 0.000881614\n",
      "differential_evolution step 20: f(x)= 0.00071209\n",
      "differential_evolution step 21: f(x)= 0.00071209\n",
      "differential_evolution step 22: f(x)= 0.00071209\n",
      "differential_evolution step 23: f(x)= 0.000382387\n",
      "differential_evolution step 24: f(x)= 0.000382387\n",
      "differential_evolution step 25: f(x)= 0.000313658\n",
      "differential_evolution step 26: f(x)= 0.000241901\n",
      "differential_evolution step 27: f(x)= 0.00018817\n",
      "differential_evolution step 28: f(x)= 0.00018817\n",
      "differential_evolution step 29: f(x)= 0.000158141\n",
      "differential_evolution step 30: f(x)= 0.000158141\n",
      "differential_evolution step 31: f(x)= 6.01366e-05\n",
      "differential_evolution step 32: f(x)= 6.01366e-05\n",
      "differential_evolution step 33: f(x)= 6.01366e-05\n",
      "differential_evolution step 34: f(x)= 6.01366e-05\n",
      "differential_evolution step 35: f(x)= 3.18918e-05\n",
      "differential_evolution step 36: f(x)= 3.18918e-05\n",
      "differential_evolution step 37: f(x)= 8.28584e-06\n",
      "differential_evolution step 38: f(x)= 8.28584e-06\n",
      "differential_evolution step 39: f(x)= 8.28584e-06\n",
      "differential_evolution step 40: f(x)= 8.28584e-06\n",
      "differential_evolution step 41: f(x)= 8.28584e-06\n",
      "differential_evolution step 42: f(x)= 8.28584e-06\n",
      "differential_evolution step 43: f(x)= 8.28584e-06\n",
      "differential_evolution step 44: f(x)= 6.71856e-06\n",
      "differential_evolution step 45: f(x)= 6.71856e-06\n",
      "differential_evolution step 46: f(x)= 6.71856e-06\n",
      "differential_evolution step 47: f(x)= 6.71856e-06\n",
      "differential_evolution step 48: f(x)= 3.5705e-06\n",
      "differential_evolution step 49: f(x)= 3.36194e-06\n",
      "differential_evolution step 50: f(x)= 2.63662e-06\n",
      "differential_evolution step 51: f(x)= 1.36677e-06\n",
      "differential_evolution step 52: f(x)= 1.36677e-06\n",
      "differential_evolution step 53: f(x)= 1.36677e-06\n",
      "differential_evolution step 54: f(x)= 1.36677e-06\n",
      "differential_evolution step 55: f(x)= 1.36677e-06\n",
      "differential_evolution step 56: f(x)= 1.36677e-06\n",
      "differential_evolution step 57: f(x)= 1.36677e-06\n",
      "differential_evolution step 58: f(x)= 8.41146e-07\n",
      "differential_evolution step 59: f(x)= 1.98391e-07\n",
      "differential_evolution step 60: f(x)= 1.98391e-07\n",
      "differential_evolution step 61: f(x)= 1.98391e-07\n",
      "differential_evolution step 62: f(x)= 1.98391e-07\n",
      "differential_evolution step 63: f(x)= 1.98391e-07\n",
      "differential_evolution step 64: f(x)= 1.98391e-07\n",
      "differential_evolution step 65: f(x)= 1.98391e-07\n",
      "differential_evolution step 66: f(x)= 1.98391e-07\n",
      "differential_evolution step 67: f(x)= 1.51284e-07\n",
      "differential_evolution step 68: f(x)= 1.51284e-07\n",
      "differential_evolution step 69: f(x)= 4.66381e-08\n",
      "differential_evolution step 70: f(x)= 4.66381e-08\n",
      "differential_evolution step 71: f(x)= 4.66381e-08\n",
      "differential_evolution step 72: f(x)= 4.01952e-08\n",
      "differential_evolution step 73: f(x)= 4.01952e-08\n",
      "differential_evolution step 74: f(x)= 4.01952e-08\n",
      "differential_evolution step 75: f(x)= 4.01952e-08\n",
      "differential_evolution step 76: f(x)= 3.42476e-08\n",
      "differential_evolution step 77: f(x)= 3.42476e-08\n",
      "differential_evolution step 78: f(x)= 3.03127e-08\n",
      "differential_evolution step 79: f(x)= 1.57911e-08\n",
      "differential_evolution step 80: f(x)= 7.14069e-09\n",
      "differential_evolution step 81: f(x)= 7.14069e-09\n",
      "differential_evolution step 82: f(x)= 7.14069e-09\n",
      "differential_evolution step 83: f(x)= 7.14069e-09\n",
      "differential_evolution step 84: f(x)= 6.28243e-09\n",
      "differential_evolution step 85: f(x)= 6.28243e-09\n",
      "differential_evolution step 86: f(x)= 2.90915e-09\n",
      "differential_evolution step 87: f(x)= 1.77785e-09\n",
      "differential_evolution step 88: f(x)= 1.77785e-09\n",
      "differential_evolution step 89: f(x)= 1.77785e-09\n",
      "differential_evolution step 90: f(x)= 1.77785e-09\n",
      "differential_evolution step 91: f(x)= 1.44407e-09\n",
      "differential_evolution step 92: f(x)= 1.44407e-09\n",
      "differential_evolution step 93: f(x)= 1.24918e-09\n",
      "differential_evolution step 94: f(x)= 9.88433e-10\n",
      "differential_evolution step 95: f(x)= 4.13052e-10\n",
      "differential_evolution step 96: f(x)= 4.13052e-10\n",
      "differential_evolution step 97: f(x)= 4.13052e-10\n",
      "differential_evolution step 98: f(x)= 4.13052e-10\n",
      "differential_evolution step 99: f(x)= 7.42088e-11\n",
      "differential_evolution step 100: f(x)= 7.42088e-11\n",
      "end diff evolution\n",
      "begin diff evolution\n",
      "differential_evolution step 1: f(x)= 0.149042\n",
      "differential_evolution step 2: f(x)= 0.149042\n",
      "differential_evolution step 3: f(x)= 0.148105\n",
      "differential_evolution step 4: f(x)= 0.148105\n",
      "differential_evolution step 5: f(x)= 0.138077\n",
      "differential_evolution step 6: f(x)= 0.136518\n",
      "differential_evolution step 7: f(x)= 0.136518\n",
      "differential_evolution step 8: f(x)= 0.135204\n",
      "differential_evolution step 9: f(x)= 0.135204\n",
      "differential_evolution step 10: f(x)= 0.135204\n",
      "differential_evolution step 11: f(x)= 0.135204\n",
      "differential_evolution step 12: f(x)= 0.135204\n",
      "differential_evolution step 13: f(x)= 0.135204\n",
      "differential_evolution step 14: f(x)= 0.135204\n",
      "differential_evolution step 15: f(x)= 0.135204\n",
      "differential_evolution step 16: f(x)= 0.135204\n",
      "differential_evolution step 17: f(x)= 0.128778\n",
      "differential_evolution step 18: f(x)= 0.128637\n",
      "differential_evolution step 19: f(x)= 0.128018\n",
      "differential_evolution step 20: f(x)= 0.128018\n",
      "differential_evolution step 21: f(x)= 0.128018\n",
      "differential_evolution step 22: f(x)= 0.128018\n",
      "differential_evolution step 23: f(x)= 0.127818\n",
      "differential_evolution step 24: f(x)= 0.127818\n",
      "differential_evolution step 25: f(x)= 0.127818\n",
      "differential_evolution step 26: f(x)= 0.127818\n",
      "differential_evolution step 27: f(x)= 0.127818\n",
      "differential_evolution step 28: f(x)= 0.127554\n",
      "differential_evolution step 29: f(x)= 0.127315\n",
      "differential_evolution step 30: f(x)= 0.127315\n",
      "differential_evolution step 31: f(x)= 0.127315\n",
      "differential_evolution step 32: f(x)= 0.12731\n",
      "end diff evolution\n",
      "begin diff evolution\n",
      "differential_evolution step 1: f(x)= 0.178044\n",
      "differential_evolution step 2: f(x)= 0.178044\n",
      "differential_evolution step 3: f(x)= 0.154291\n",
      "differential_evolution step 4: f(x)= 0.154291\n",
      "differential_evolution step 5: f(x)= 0.154291\n",
      "differential_evolution step 6: f(x)= 0.154291\n",
      "differential_evolution step 7: f(x)= 0.145838\n",
      "differential_evolution step 8: f(x)= 0.145838\n",
      "differential_evolution step 9: f(x)= 0.145838\n",
      "differential_evolution step 10: f(x)= 0.138424\n",
      "differential_evolution step 11: f(x)= 0.138424\n",
      "differential_evolution step 12: f(x)= 0.138065\n",
      "differential_evolution step 13: f(x)= 0.137513\n",
      "differential_evolution step 14: f(x)= 0.136955\n",
      "differential_evolution step 15: f(x)= 0.136955\n",
      "differential_evolution step 16: f(x)= 0.136861\n",
      "differential_evolution step 17: f(x)= 0.13625\n",
      "differential_evolution step 18: f(x)= 0.135226\n",
      "differential_evolution step 19: f(x)= 0.135226\n",
      "end diff evolution\n",
      "integrating geodesic\n",
      "begin diff evolution\n",
      "differential_evolution step 1: f(x)= 0.148329\n",
      "differential_evolution step 2: f(x)= 0.148329\n",
      "differential_evolution step 3: f(x)= 0.148329\n",
      "differential_evolution step 4: f(x)= 0.128987\n",
      "differential_evolution step 5: f(x)= 0.120544\n",
      "differential_evolution step 6: f(x)= 0.120327\n",
      "differential_evolution step 7: f(x)= 0.120327\n",
      "differential_evolution step 8: f(x)= 0.112621\n",
      "differential_evolution step 9: f(x)= 0.112605\n",
      "differential_evolution step 10: f(x)= 0.112605\n",
      "differential_evolution step 11: f(x)= 0.112605\n",
      "differential_evolution step 12: f(x)= 0.112605\n",
      "differential_evolution step 13: f(x)= 0.111311\n",
      "differential_evolution step 14: f(x)= 0.111311\n",
      "differential_evolution step 15: f(x)= 0.111311\n"
     ]
    },
    {
     "name": "stdout",
     "output_type": "stream",
     "text": [
      "differential_evolution step 16: f(x)= 0.108648\n",
      "differential_evolution step 17: f(x)= 0.108648\n",
      "differential_evolution step 18: f(x)= 0.108648\n",
      "differential_evolution step 19: f(x)= 0.108648\n",
      "differential_evolution step 20: f(x)= 0.108648\n",
      "differential_evolution step 21: f(x)= 0.107857\n",
      "differential_evolution step 22: f(x)= 0.106849\n",
      "differential_evolution step 23: f(x)= 0.106438\n",
      "differential_evolution step 24: f(x)= 0.106438\n",
      "differential_evolution step 25: f(x)= 0.106438\n",
      "differential_evolution step 26: f(x)= 0.106438\n",
      "differential_evolution step 27: f(x)= 0.106391\n",
      "differential_evolution step 28: f(x)= 0.106391\n",
      "differential_evolution step 29: f(x)= 0.106305\n",
      "differential_evolution step 30: f(x)= 0.106305\n",
      "differential_evolution step 31: f(x)= 0.106277\n",
      "end diff evolution\n",
      "begin diff evolution\n",
      "differential_evolution step 1: f(x)= 0.0910465\n",
      "differential_evolution step 2: f(x)= 0.074468\n",
      "differential_evolution step 3: f(x)= 0.0674612\n",
      "differential_evolution step 4: f(x)= 0.0674612\n",
      "differential_evolution step 5: f(x)= 0.0674612\n",
      "differential_evolution step 6: f(x)= 0.0669194\n",
      "differential_evolution step 7: f(x)= 0.0654731\n",
      "differential_evolution step 8: f(x)= 0.0617367\n",
      "differential_evolution step 9: f(x)= 0.0617367\n",
      "differential_evolution step 10: f(x)= 0.0617367\n",
      "differential_evolution step 11: f(x)= 0.0617367\n",
      "differential_evolution step 12: f(x)= 0.0617367\n",
      "differential_evolution step 13: f(x)= 0.0613731\n",
      "differential_evolution step 14: f(x)= 0.0613731\n",
      "differential_evolution step 15: f(x)= 0.0607365\n",
      "differential_evolution step 16: f(x)= 0.0607365\n",
      "differential_evolution step 17: f(x)= 0.0598548\n",
      "differential_evolution step 18: f(x)= 0.059622\n",
      "differential_evolution step 19: f(x)= 0.059622\n",
      "differential_evolution step 20: f(x)= 0.0595944\n",
      "differential_evolution step 21: f(x)= 0.0593862\n",
      "differential_evolution step 22: f(x)= 0.0593818\n",
      "differential_evolution step 23: f(x)= 0.0593576\n",
      "differential_evolution step 24: f(x)= 0.0593576\n",
      "differential_evolution step 25: f(x)= 0.0593282\n",
      "differential_evolution step 26: f(x)= 0.0593273\n",
      "differential_evolution step 27: f(x)= 0.0593258\n",
      "end diff evolution\n",
      "begin diff evolution\n",
      "differential_evolution step 1: f(x)= 0.145523\n",
      "differential_evolution step 2: f(x)= 0.128579\n",
      "differential_evolution step 3: f(x)= 0.115357\n",
      "differential_evolution step 4: f(x)= 0.115357\n",
      "differential_evolution step 5: f(x)= 0.115357\n",
      "differential_evolution step 6: f(x)= 0.115357\n",
      "differential_evolution step 7: f(x)= 0.115357\n",
      "differential_evolution step 8: f(x)= 0.115357\n",
      "differential_evolution step 9: f(x)= 0.115357\n",
      "differential_evolution step 10: f(x)= 0.111896\n",
      "differential_evolution step 11: f(x)= 0.111896\n",
      "differential_evolution step 12: f(x)= 0.110691\n",
      "differential_evolution step 13: f(x)= 0.110691\n",
      "differential_evolution step 14: f(x)= 0.10863\n",
      "differential_evolution step 15: f(x)= 0.10863\n",
      "differential_evolution step 16: f(x)= 0.10863\n",
      "differential_evolution step 17: f(x)= 0.10863\n",
      "differential_evolution step 18: f(x)= 0.10863\n",
      "differential_evolution step 19: f(x)= 0.10863\n",
      "differential_evolution step 20: f(x)= 0.108619\n",
      "differential_evolution step 21: f(x)= 0.108619\n",
      "differential_evolution step 22: f(x)= 0.108447\n",
      "differential_evolution step 23: f(x)= 0.108447\n",
      "differential_evolution step 24: f(x)= 0.108447\n",
      "differential_evolution step 25: f(x)= 0.108447\n",
      "end diff evolution\n",
      "integrating geodesic\n",
      "begin diff evolution\n",
      "differential_evolution step 1: f(x)= 0.0865501\n",
      "differential_evolution step 2: f(x)= 0.0820396\n",
      "differential_evolution step 3: f(x)= 0.0695739\n",
      "differential_evolution step 4: f(x)= 0.0695739\n",
      "differential_evolution step 5: f(x)= 0.0645003\n",
      "differential_evolution step 6: f(x)= 0.0643289\n",
      "differential_evolution step 7: f(x)= 0.0643289\n",
      "differential_evolution step 8: f(x)= 0.0643289\n",
      "differential_evolution step 9: f(x)= 0.0643289\n",
      "differential_evolution step 10: f(x)= 0.0638492\n",
      "differential_evolution step 11: f(x)= 0.0638492\n",
      "differential_evolution step 12: f(x)= 0.0603967\n",
      "differential_evolution step 13: f(x)= 0.0603967\n",
      "differential_evolution step 14: f(x)= 0.0603967\n",
      "differential_evolution step 15: f(x)= 0.0603967\n",
      "differential_evolution step 16: f(x)= 0.0602713\n",
      "differential_evolution step 17: f(x)= 0.059386\n",
      "differential_evolution step 18: f(x)= 0.059386\n",
      "differential_evolution step 19: f(x)= 0.059386\n",
      "differential_evolution step 20: f(x)= 0.0592926\n",
      "differential_evolution step 21: f(x)= 0.0592756\n",
      "differential_evolution step 22: f(x)= 0.0592756\n",
      "differential_evolution step 23: f(x)= 0.0592756\n",
      "differential_evolution step 24: f(x)= 0.0592756\n",
      "differential_evolution step 25: f(x)= 0.0592112\n",
      "differential_evolution step 26: f(x)= 0.0592112\n",
      "differential_evolution step 27: f(x)= 0.0590654\n",
      "differential_evolution step 28: f(x)= 0.0590654\n",
      "differential_evolution step 29: f(x)= 0.0590654\n",
      "differential_evolution step 30: f(x)= 0.0590654\n",
      "differential_evolution step 31: f(x)= 0.0590654\n",
      "end diff evolution\n",
      "begin diff evolution\n",
      "differential_evolution step 1: f(x)= 0.134396\n",
      "differential_evolution step 2: f(x)= 0.113864\n",
      "differential_evolution step 3: f(x)= 0.113864\n",
      "differential_evolution step 4: f(x)= 0.113864\n",
      "differential_evolution step 5: f(x)= 0.109279\n",
      "differential_evolution step 6: f(x)= 0.109279\n",
      "differential_evolution step 7: f(x)= 0.109279\n",
      "differential_evolution step 8: f(x)= 0.10829\n",
      "differential_evolution step 9: f(x)= 0.10829\n",
      "differential_evolution step 10: f(x)= 0.10829\n",
      "differential_evolution step 11: f(x)= 0.10829\n",
      "differential_evolution step 12: f(x)= 0.107761\n",
      "differential_evolution step 13: f(x)= 0.107761\n",
      "differential_evolution step 14: f(x)= 0.107761\n",
      "differential_evolution step 15: f(x)= 0.107612\n",
      "differential_evolution step 16: f(x)= 0.107612\n",
      "differential_evolution step 17: f(x)= 0.107612\n",
      "differential_evolution step 18: f(x)= 0.107612\n",
      "end diff evolution\n",
      "begin diff evolution\n",
      "differential_evolution step 1: f(x)= 0.131334\n",
      "differential_evolution step 2: f(x)= 0.110711\n",
      "differential_evolution step 3: f(x)= 0.110711\n",
      "differential_evolution step 4: f(x)= 0.110711\n",
      "differential_evolution step 5: f(x)= 0.110711\n",
      "differential_evolution step 6: f(x)= 0.110711\n",
      "differential_evolution step 7: f(x)= 0.108817\n",
      "differential_evolution step 8: f(x)= 0.108817\n",
      "differential_evolution step 9: f(x)= 0.108817\n",
      "differential_evolution step 10: f(x)= 0.107792\n",
      "differential_evolution step 11: f(x)= 0.107792\n",
      "differential_evolution step 12: f(x)= 0.107792\n",
      "differential_evolution step 13: f(x)= 0.107792\n",
      "differential_evolution step 14: f(x)= 0.107129\n",
      "differential_evolution step 15: f(x)= 0.107129\n",
      "differential_evolution step 16: f(x)= 0.107035\n",
      "differential_evolution step 17: f(x)= 0.106431\n",
      "differential_evolution step 18: f(x)= 0.10626\n",
      "differential_evolution step 19: f(x)= 0.10626\n",
      "differential_evolution step 20: f(x)= 0.105979\n",
      "differential_evolution step 21: f(x)= 0.105979\n",
      "end diff evolution\n",
      "integrating geodesic\n",
      "begin diff evolution\n",
      "differential_evolution step 1: f(x)= 0.15609\n",
      "differential_evolution step 2: f(x)= 0.133926\n",
      "differential_evolution step 3: f(x)= 0.122938\n",
      "differential_evolution step 4: f(x)= 0.121187\n",
      "differential_evolution step 5: f(x)= 0.108449\n",
      "differential_evolution step 6: f(x)= 0.108449\n",
      "differential_evolution step 7: f(x)= 0.108449\n",
      "differential_evolution step 8: f(x)= 0.107833\n",
      "differential_evolution step 9: f(x)= 0.107833\n",
      "differential_evolution step 10: f(x)= 0.107593\n",
      "differential_evolution step 11: f(x)= 0.107593\n",
      "differential_evolution step 12: f(x)= 0.107231\n",
      "differential_evolution step 13: f(x)= 0.107209\n",
      "end diff evolution\n",
      "begin diff evolution\n",
      "differential_evolution step 1: f(x)= 0.147185\n",
      "differential_evolution step 2: f(x)= 0.135405\n",
      "differential_evolution step 3: f(x)= 0.115271\n",
      "differential_evolution step 4: f(x)= 0.115271\n",
      "differential_evolution step 5: f(x)= 0.115271\n",
      "differential_evolution step 6: f(x)= 0.11383\n",
      "differential_evolution step 7: f(x)= 0.11383\n",
      "differential_evolution step 8: f(x)= 0.11383\n",
      "differential_evolution step 9: f(x)= 0.110703\n",
      "differential_evolution step 10: f(x)= 0.110703\n",
      "differential_evolution step 11: f(x)= 0.108059\n",
      "differential_evolution step 12: f(x)= 0.108059\n",
      "differential_evolution step 13: f(x)= 0.10805\n",
      "differential_evolution step 14: f(x)= 0.10805\n",
      "differential_evolution step 15: f(x)= 0.10805\n",
      "differential_evolution step 16: f(x)= 0.107691\n",
      "differential_evolution step 17: f(x)= 0.107691\n",
      "differential_evolution step 18: f(x)= 0.106333\n"
     ]
    },
    {
     "name": "stdout",
     "output_type": "stream",
     "text": [
      "differential_evolution step 19: f(x)= 0.106333\n",
      "differential_evolution step 20: f(x)= 0.106333\n",
      "differential_evolution step 21: f(x)= 0.106333\n",
      "differential_evolution step 22: f(x)= 0.106333\n",
      "differential_evolution step 23: f(x)= 0.106333\n",
      "differential_evolution step 24: f(x)= 0.10611\n",
      "differential_evolution step 25: f(x)= 0.10611\n",
      "differential_evolution step 26: f(x)= 0.10611\n",
      "differential_evolution step 27: f(x)= 0.106088\n",
      "differential_evolution step 28: f(x)= 0.105831\n",
      "differential_evolution step 29: f(x)= 0.105636\n",
      "differential_evolution step 30: f(x)= 0.105504\n",
      "differential_evolution step 31: f(x)= 0.105504\n",
      "differential_evolution step 32: f(x)= 0.105504\n",
      "end diff evolution\n",
      "begin diff evolution\n",
      "differential_evolution step 1: f(x)= 0.0840163\n",
      "differential_evolution step 2: f(x)= 0.0840163\n",
      "differential_evolution step 3: f(x)= 0.0840163\n",
      "differential_evolution step 4: f(x)= 0.075088\n",
      "differential_evolution step 5: f(x)= 0.0636397\n",
      "differential_evolution step 6: f(x)= 0.0636397\n",
      "differential_evolution step 7: f(x)= 0.0636397\n",
      "differential_evolution step 8: f(x)= 0.0627115\n",
      "differential_evolution step 9: f(x)= 0.0625641\n",
      "differential_evolution step 10: f(x)= 0.0625641\n",
      "differential_evolution step 11: f(x)= 0.0625641\n",
      "differential_evolution step 12: f(x)= 0.0625641\n",
      "differential_evolution step 13: f(x)= 0.0625641\n",
      "differential_evolution step 14: f(x)= 0.0621348\n",
      "differential_evolution step 15: f(x)= 0.0618953\n",
      "differential_evolution step 16: f(x)= 0.0618953\n",
      "differential_evolution step 17: f(x)= 0.0615981\n",
      "differential_evolution step 18: f(x)= 0.0591271\n",
      "differential_evolution step 19: f(x)= 0.0591271\n",
      "differential_evolution step 20: f(x)= 0.0591271\n",
      "differential_evolution step 21: f(x)= 0.0591271\n",
      "differential_evolution step 22: f(x)= 0.0591271\n",
      "differential_evolution step 23: f(x)= 0.0591271\n",
      "differential_evolution step 24: f(x)= 0.0590753\n",
      "differential_evolution step 25: f(x)= 0.0590753\n",
      "differential_evolution step 26: f(x)= 0.0588404\n",
      "differential_evolution step 27: f(x)= 0.0587908\n",
      "differential_evolution step 28: f(x)= 0.0587908\n",
      "differential_evolution step 29: f(x)= 0.0583894\n",
      "differential_evolution step 30: f(x)= 0.058339\n",
      "differential_evolution step 31: f(x)= 0.058339\n",
      "differential_evolution step 32: f(x)= 0.058339\n",
      "differential_evolution step 33: f(x)= 0.058339\n",
      "differential_evolution step 34: f(x)= 0.058339\n",
      "differential_evolution step 35: f(x)= 0.058339\n",
      "end diff evolution\n",
      "integrating geodesic\n",
      "begin diff evolution\n",
      "differential_evolution step 1: f(x)= 0.11302\n",
      "differential_evolution step 2: f(x)= 0.11302\n",
      "differential_evolution step 3: f(x)= 0.11302\n",
      "differential_evolution step 4: f(x)= 0.11302\n",
      "differential_evolution step 5: f(x)= 0.111244\n",
      "differential_evolution step 6: f(x)= 0.111244\n",
      "differential_evolution step 7: f(x)= 0.111244\n",
      "differential_evolution step 8: f(x)= 0.105489\n",
      "differential_evolution step 9: f(x)= 0.105489\n",
      "differential_evolution step 10: f(x)= 0.104847\n",
      "differential_evolution step 11: f(x)= 0.104511\n",
      "differential_evolution step 12: f(x)= 0.104287\n",
      "differential_evolution step 13: f(x)= 0.103566\n",
      "differential_evolution step 14: f(x)= 0.103566\n",
      "differential_evolution step 15: f(x)= 0.10275\n",
      "differential_evolution step 16: f(x)= 0.102395\n",
      "differential_evolution step 17: f(x)= 0.102395\n",
      "differential_evolution step 18: f(x)= 0.102395\n",
      "differential_evolution step 19: f(x)= 0.102395\n",
      "differential_evolution step 20: f(x)= 0.102312\n",
      "differential_evolution step 21: f(x)= 0.10228\n",
      "differential_evolution step 22: f(x)= 0.10228\n",
      "end diff evolution\n",
      "begin diff evolution\n",
      "differential_evolution step 1: f(x)= 0.130159\n",
      "differential_evolution step 2: f(x)= 0.130159\n",
      "differential_evolution step 3: f(x)= 0.120176\n",
      "differential_evolution step 4: f(x)= 0.113749\n",
      "differential_evolution step 5: f(x)= 0.113749\n",
      "differential_evolution step 6: f(x)= 0.106529\n",
      "differential_evolution step 7: f(x)= 0.106028\n",
      "differential_evolution step 8: f(x)= 0.104912\n",
      "differential_evolution step 9: f(x)= 0.104101\n",
      "differential_evolution step 10: f(x)= 0.101887\n",
      "differential_evolution step 11: f(x)= 0.101887\n",
      "differential_evolution step 12: f(x)= 0.101887\n",
      "differential_evolution step 13: f(x)= 0.101482\n",
      "differential_evolution step 14: f(x)= 0.0987585\n",
      "differential_evolution step 15: f(x)= 0.0987585\n",
      "differential_evolution step 16: f(x)= 0.0987585\n",
      "differential_evolution step 17: f(x)= 0.0987585\n",
      "differential_evolution step 18: f(x)= 0.0987585\n",
      "differential_evolution step 19: f(x)= 0.0987585\n",
      "differential_evolution step 20: f(x)= 0.0987585\n",
      "differential_evolution step 21: f(x)= 0.0987585\n",
      "differential_evolution step 22: f(x)= 0.0987585\n",
      "differential_evolution step 23: f(x)= 0.0987585\n",
      "differential_evolution step 24: f(x)= 0.0985873\n",
      "differential_evolution step 25: f(x)= 0.0985873\n",
      "differential_evolution step 26: f(x)= 0.0985873\n",
      "differential_evolution step 27: f(x)= 0.0985873\n",
      "end diff evolution\n",
      "begin diff evolution\n",
      "differential_evolution step 1: f(x)= 0.0661878\n",
      "differential_evolution step 2: f(x)= 0.0661878\n",
      "differential_evolution step 3: f(x)= 0.0661878\n",
      "differential_evolution step 4: f(x)= 0.0661878\n",
      "differential_evolution step 5: f(x)= 0.0661878\n",
      "differential_evolution step 6: f(x)= 0.0653524\n",
      "differential_evolution step 7: f(x)= 0.0607834\n",
      "differential_evolution step 8: f(x)= 0.0607834\n",
      "differential_evolution step 9: f(x)= 0.0607834\n",
      "differential_evolution step 10: f(x)= 0.0590861\n",
      "differential_evolution step 11: f(x)= 0.0590861\n",
      "differential_evolution step 12: f(x)= 0.0590861\n",
      "differential_evolution step 13: f(x)= 0.0590861\n",
      "differential_evolution step 14: f(x)= 0.0590861\n",
      "differential_evolution step 15: f(x)= 0.0590861\n",
      "differential_evolution step 16: f(x)= 0.0590223\n",
      "differential_evolution step 17: f(x)= 0.0581211\n",
      "differential_evolution step 18: f(x)= 0.0581068\n",
      "differential_evolution step 19: f(x)= 0.0581068\n",
      "differential_evolution step 20: f(x)= 0.0581068\n",
      "differential_evolution step 21: f(x)= 0.0581068\n",
      "end diff evolution\n",
      "integrating geodesic\n",
      "begin diff evolution\n",
      "differential_evolution step 1: f(x)= 0.115554\n",
      "differential_evolution step 2: f(x)= 0.115554\n",
      "differential_evolution step 3: f(x)= 0.115554\n",
      "differential_evolution step 4: f(x)= 0.115554\n",
      "differential_evolution step 5: f(x)= 0.104096\n",
      "differential_evolution step 6: f(x)= 0.104096\n",
      "differential_evolution step 7: f(x)= 0.104096\n",
      "differential_evolution step 8: f(x)= 0.102922\n",
      "differential_evolution step 9: f(x)= 0.102508\n",
      "differential_evolution step 10: f(x)= 0.102077\n",
      "differential_evolution step 11: f(x)= 0.102077\n",
      "differential_evolution step 12: f(x)= 0.102077\n",
      "differential_evolution step 13: f(x)= 0.102077\n",
      "differential_evolution step 14: f(x)= 0.0993071\n",
      "differential_evolution step 15: f(x)= 0.0993071\n",
      "differential_evolution step 16: f(x)= 0.0990358\n",
      "differential_evolution step 17: f(x)= 0.0990358\n",
      "differential_evolution step 18: f(x)= 0.0979214\n",
      "differential_evolution step 19: f(x)= 0.0979048\n",
      "differential_evolution step 20: f(x)= 0.0978347\n",
      "differential_evolution step 21: f(x)= 0.0978347\n",
      "differential_evolution step 22: f(x)= 0.0977596\n",
      "differential_evolution step 23: f(x)= 0.0977454\n",
      "differential_evolution step 24: f(x)= 0.0975587\n",
      "differential_evolution step 25: f(x)= 0.0975587\n",
      "differential_evolution step 26: f(x)= 0.0975322\n",
      "end diff evolution\n",
      "begin diff evolution\n",
      "differential_evolution step 1: f(x)= 0.103303\n",
      "differential_evolution step 2: f(x)= 0.103303\n",
      "differential_evolution step 3: f(x)= 0.103303\n",
      "differential_evolution step 4: f(x)= 0.098906\n",
      "differential_evolution step 5: f(x)= 0.0943966\n",
      "differential_evolution step 6: f(x)= 0.0852076\n",
      "differential_evolution step 7: f(x)= 0.0852076\n",
      "differential_evolution step 8: f(x)= 0.0852076\n",
      "differential_evolution step 9: f(x)= 0.0852076\n",
      "differential_evolution step 10: f(x)= 0.0852076\n",
      "differential_evolution step 11: f(x)= 0.0852076\n",
      "differential_evolution step 12: f(x)= 0.0852076\n",
      "differential_evolution step 13: f(x)= 0.084718\n",
      "differential_evolution step 14: f(x)= 0.084718\n",
      "differential_evolution step 15: f(x)= 0.0829409\n",
      "differential_evolution step 16: f(x)= 0.0829409\n",
      "differential_evolution step 17: f(x)= 0.0829409\n",
      "differential_evolution step 18: f(x)= 0.0827862\n",
      "differential_evolution step 19: f(x)= 0.0827862\n",
      "differential_evolution step 20: f(x)= 0.0826868\n",
      "differential_evolution step 21: f(x)= 0.0826868\n",
      "differential_evolution step 22: f(x)= 0.0826868\n",
      "differential_evolution step 23: f(x)= 0.0826868\n"
     ]
    },
    {
     "name": "stdout",
     "output_type": "stream",
     "text": [
      "differential_evolution step 24: f(x)= 0.0826868\n",
      "differential_evolution step 25: f(x)= 0.0826405\n",
      "differential_evolution step 26: f(x)= 0.0826178\n",
      "differential_evolution step 27: f(x)= 0.0825453\n",
      "differential_evolution step 28: f(x)= 0.0825453\n",
      "differential_evolution step 29: f(x)= 0.0825453\n",
      "differential_evolution step 30: f(x)= 0.0825309\n",
      "differential_evolution step 31: f(x)= 0.0825309\n",
      "end diff evolution\n",
      "begin diff evolution\n",
      "differential_evolution step 1: f(x)= 0.0655994\n",
      "differential_evolution step 2: f(x)= 0.0655994\n",
      "differential_evolution step 3: f(x)= 0.0642256\n",
      "differential_evolution step 4: f(x)= 0.0642256\n",
      "differential_evolution step 5: f(x)= 0.0608405\n",
      "differential_evolution step 6: f(x)= 0.0608405\n",
      "differential_evolution step 7: f(x)= 0.0608405\n",
      "differential_evolution step 8: f(x)= 0.0608405\n",
      "differential_evolution step 9: f(x)= 0.0608405\n",
      "differential_evolution step 10: f(x)= 0.0599777\n",
      "differential_evolution step 11: f(x)= 0.0599777\n",
      "differential_evolution step 12: f(x)= 0.0577102\n",
      "differential_evolution step 13: f(x)= 0.0573198\n",
      "differential_evolution step 14: f(x)= 0.057275\n",
      "differential_evolution step 15: f(x)= 0.057275\n",
      "differential_evolution step 16: f(x)= 0.057275\n",
      "differential_evolution step 17: f(x)= 0.0567373\n",
      "differential_evolution step 18: f(x)= 0.0567373\n",
      "differential_evolution step 19: f(x)= 0.0563676\n",
      "differential_evolution step 20: f(x)= 0.0562513\n",
      "differential_evolution step 21: f(x)= 0.0562405\n",
      "differential_evolution step 22: f(x)= 0.0561089\n",
      "differential_evolution step 23: f(x)= 0.0559388\n",
      "differential_evolution step 24: f(x)= 0.0559171\n",
      "differential_evolution step 25: f(x)= 0.0559171\n",
      "differential_evolution step 26: f(x)= 0.0559171\n",
      "differential_evolution step 27: f(x)= 0.0559171\n",
      "end diff evolution\n",
      "integrating geodesic\n"
     ]
    }
   ],
   "source": [
    "g = compute_geodesic(start_pic, end_pic, num_div=5, num_passes=6)"
   ]
  },
  {
   "cell_type": "code",
   "execution_count": 34,
   "metadata": {},
   "outputs": [
    {
     "data": {
      "text/plain": [
       "(5, 784)"
      ]
     },
     "execution_count": 34,
     "metadata": {},
     "output_type": "execute_result"
    }
   ],
   "source": [
    "g[0].shape"
   ]
  },
  {
   "cell_type": "code",
   "execution_count": 35,
   "metadata": {},
   "outputs": [
    {
     "name": "stdout",
     "output_type": "stream",
     "text": [
      "vals:  [0.99 0.   0.  ]\n"
     ]
    },
    {
     "data": {
      "image/png": "[encoded data removed]",
      "text/plain": [
       "<Figure size 432x288 with 1 Axes>"
      ]
     },
     "metadata": {},
     "output_type": "display_data"
    },
    {
     "name": "stdout",
     "output_type": "stream",
     "text": [
      "vals:  [0.85759503 0.18235145 0.0651083 ]\n"
     ]
    },
    {
     "data": {
      "image/png": "[encoded data removed]",
      "text/plain": [
       "<Figure size 432x288 with 1 Axes>"
      ]
     },
     "metadata": {},
     "output_type": "display_data"
    },
    {
     "name": "stdout",
     "output_type": "stream",
     "text": [
      "vals:  [0.31154193 0.68727188 0.43766122]\n"
     ]
    },
    {
     "data": {
      "image/png": "[encoded data removed]",
      "text/plain": [
       "<Figure size 432x288 with 1 Axes>"
      ]
     },
     "metadata": {},
     "output_type": "display_data"
    },
    {
     "name": "stdout",
     "output_type": "stream",
     "text": [
      "vals:  [0.16146342 0.54103173 0.63541223]\n"
     ]
    },
    {
     "data": {
      "image/png": "[encoded data removed]",
      "text/plain": [
       "<Figure size 432x288 with 1 Axes>"
      ]
     },
     "metadata": {},
     "output_type": "display_data"
    },
    {
     "name": "stdout",
     "output_type": "stream",
     "text": [
      "vals:  [0.   0.   0.99]\n"
     ]
    },
    {
     "data": {
      "image/png": "[encoded data removed]",
      "text/plain": [
       "<Figure size 432x288 with 1 Axes>"
      ]
     },
     "metadata": {},
     "output_type": "display_data"
    },
    {
     "ename": "IndexError",
     "evalue": "index 5 is out of bounds for axis 0 with size 5",
     "output_type": "error",
     "traceback": [
      "\u001b[0;31m---------------------------------------------------------------------------\u001b[0m",
      "\u001b[0;31mIndexError\u001b[0m                                Traceback (most recent call last)",
      "\u001b[0;32m<ipython-input-35-f67c8197c25f>\u001b[0m in \u001b[0;36m<module>\u001b[0;34m()\u001b[0m\n\u001b[1;32m      1\u001b[0m \u001b[0;32mfor\u001b[0m \u001b[0mi\u001b[0m \u001b[0;32min\u001b[0m \u001b[0mrange\u001b[0m\u001b[0;34m(\u001b[0m\u001b[0;36m10\u001b[0m\u001b[0;34m)\u001b[0m\u001b[0;34m:\u001b[0m\u001b[0;34m\u001b[0m\u001b[0m\n\u001b[0;32m----> 2\u001b[0;31m     \u001b[0mprint\u001b[0m\u001b[0;34m(\u001b[0m\u001b[0;34m'vals: '\u001b[0m\u001b[0;34m,\u001b[0m \u001b[0;34m(\u001b[0m\u001b[0mg\u001b[0m\u001b[0;34m[\u001b[0m\u001b[0;36m0\u001b[0m\u001b[0;34m]\u001b[0m\u001b[0;34m[\u001b[0m\u001b[0mi\u001b[0m\u001b[0;34m,\u001b[0m\u001b[0;34m:\u001b[0m\u001b[0;34m]\u001b[0m\u001b[0;34m.\u001b[0m\u001b[0mreshape\u001b[0m\u001b[0;34m(\u001b[0m\u001b[0;34m[\u001b[0m\u001b[0;36m28\u001b[0m\u001b[0;34m,\u001b[0m\u001b[0;36m28\u001b[0m\u001b[0;34m]\u001b[0m\u001b[0;34m)\u001b[0m\u001b[0;34m[\u001b[0m\u001b[0;36m14\u001b[0m\u001b[0;34m,\u001b[0m\u001b[0;36m13\u001b[0m\u001b[0;34m:\u001b[0m\u001b[0;36m16\u001b[0m\u001b[0;34m]\u001b[0m\u001b[0;34m)\u001b[0m\u001b[0;34m)\u001b[0m\u001b[0;34m\u001b[0m\u001b[0m\n\u001b[0m\u001b[1;32m      3\u001b[0m     \u001b[0mplt\u001b[0m\u001b[0;34m.\u001b[0m\u001b[0mimshow\u001b[0m\u001b[0;34m(\u001b[0m\u001b[0mg\u001b[0m\u001b[0;34m[\u001b[0m\u001b[0;36m0\u001b[0m\u001b[0;34m]\u001b[0m\u001b[0;34m[\u001b[0m\u001b[0mi\u001b[0m\u001b[0;34m,\u001b[0m\u001b[0;34m:\u001b[0m\u001b[0;34m]\u001b[0m\u001b[0;34m.\u001b[0m\u001b[0mreshape\u001b[0m\u001b[0;34m(\u001b[0m\u001b[0;34m[\u001b[0m\u001b[0;36m28\u001b[0m\u001b[0;34m,\u001b[0m\u001b[0;36m28\u001b[0m\u001b[0;34m]\u001b[0m\u001b[0;34m)\u001b[0m\u001b[0;34m)\u001b[0m\u001b[0;34m\u001b[0m\u001b[0m\n\u001b[1;32m      4\u001b[0m     \u001b[0mplt\u001b[0m\u001b[0;34m.\u001b[0m\u001b[0mshow\u001b[0m\u001b[0;34m(\u001b[0m\u001b[0;34m)\u001b[0m\u001b[0;34m\u001b[0m\u001b[0m\n",
      "\u001b[0;31mIndexError\u001b[0m: index 5 is out of bounds for axis 0 with size 5"
     ]
    }
   ],
   "source": [
    "for i in range(10):\n",
    "    print('vals: ', (g[0][i,:].reshape([28,28])[14,13:16]))\n",
    "    plt.imshow(g[0][i,:].reshape([28,28]))\n",
    "    plt.show()"
   ]
  },
  {
   "cell_type": "code",
   "execution_count": 36,
   "metadata": {},
   "outputs": [
    {
     "data": {
      "text/plain": [
       "[0.3782344663546075,\n",
       " 0.2619881761711881,\n",
       " 0.16775491339548332,\n",
       " 0.16643322060718796,\n",
       " 0.16384271671969636,\n",
       " 0.15669360718871725,\n",
       " 0.1578673518342465]"
      ]
     },
     "execution_count": 36,
     "metadata": {},
     "output_type": "execute_result"
    }
   ],
   "source": [
    "g[1]"
   ]
  },
  {
   "cell_type": "code",
   "execution_count": null,
   "metadata": {},
   "outputs": [],
   "source": [
    "g[1]"
   ]
  },
  {
   "cell_type": "code",
   "execution_count": null,
   "metadata": {},
   "outputs": [],
   "source": []
  }
 ],
 "metadata": {
  "kernelspec": {
   "display_name": "Python 3",
   "language": "python",
   "name": "python3"
  },
  "language_info": {
   "codemirror_mode": {
    "name": "ipython",
    "version": 3
   },
   "file_extension": ".py",
   "mimetype": "text/x-python",
   "name": "python",
   "nbconvert_exporter": "python",
   "pygments_lexer": "ipython3",
   "version": "3.6.5"
  }
 },
 "nbformat": 4,
 "nbformat_minor": 2
}
